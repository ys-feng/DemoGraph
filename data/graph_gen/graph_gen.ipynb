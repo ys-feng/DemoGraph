{
 "cells": [
  {
   "cell_type": "code",
   "execution_count": null,
   "metadata": {
    "pycharm": {
     "name": "#%%\n"
    }
   },
   "outputs": [],
   "source": [
    "!pip install torch==1.12.0\n",
    "!pip install torch-geometric==2.3.0\n",
    "!pip install pyhealth==1.1.2\n",
    "!pip install scikit-learn==1.2.1\n",
    "!pip install openai==0.27.\n",
    "!pip install numpy==1.22.0"
   ]
  },
  {
   "cell_type": "code",
   "execution_count": 1,
   "metadata": {
    "pycharm": {
     "name": "#%%\n"
    }
   },
   "outputs": [
    {
     "name": "stdout",
     "output_type": "stream",
     "text": [
      "{'A01A': 'stomatological preparations', 'A02A': 'antacids', 'A02B': 'drugs for peptic ulcer and gastro-oesophageal reflux disease (gord)', 'A02X': 'other drugs for acid related disorders in atc', 'A03A': 'drugs for functional gastrointestinal disorders', 'A03B': 'belladonna and derivatives containing drugs, plain for functional gastrointestinal disorders', 'A03C': 'antispasmodics in combination with psycholeptics', 'A03D': 'antispasmodics in combination with analgesics', 'A03E': 'antispasmodics and anticholinergics in combination with other drugs', 'A03F': 'propulsives', 'A04A': 'antiemetics and antinauseants', 'A05A': 'bile therapy drugs', 'A05B': 'liver therapy, lipotropics', 'A05C': 'drugs for bile therapy and lipotropics in combination', 'A06A': 'drugs for constipation', 'A07A': 'intestinal antiinfectives', 'A07B': 'intestinal adsorbents', 'A07C': 'electrolytes with carbohydrates, antidiarrheals, intestinal antiinflammatory/antiinfective agents', 'A07D': 'antipropulsives', 'A07E': 'intestinal antiinflammatory agents', 'A07F': 'antidiarrheal microorganisms', 'A07X': 'other antidiarrheals in atc', 'A08A': 'antiobesity preparations, excl. diet products', 'A09A': 'digestives, incl. enzymes', 'A10A': 'insulins and analogues', 'A10B': 'blood glucose lowering drugs, excl. insulins', 'A10X': 'other drugs used in diabetes in atc', 'A11A': 'multivitamins, combinations', 'A11B': 'multivitamins, plain', 'A11C': 'vitamin a and d, incl. combinations of the two', 'A11D': 'vitamin b<n>1</n>, plain and in combination with vitamin b<n>6</n> and b<n>12</n>', 'A11E': 'vitamin b-complex, incl. combinations', 'A11G': 'ascorbic acid (vitamin c), incl. combinations', 'A11H': 'other plain vitamin preparations in atc', 'A11J': 'other vitamin products, combinations in atc', 'A12A': 'calcium supplements', 'A12B': 'potassium supplements', 'A12C': 'other mineral supplements in atc', 'A13A': 'tonics', 'A14A': 'anabolic steroids', 'A14B': 'other anabolic agents in atc', 'A16A': 'other alimentary tract and metabolism products in atc', 'B01A': 'antithrombotic agents', 'B02A': 'antifibrinolytics', 'B02B': 'vitamin k and other hemostatics', 'B03A': 'iron antianemic preparations', 'B03B': 'vitamin b<n>12</n> and folic acid', 'B03X': 'other antianemic preparations in atc', 'B05A': 'blood and related products', 'B05B': 'iv solutions used in parenteral administration of fluids, electrolytes and nutrients', 'B05C': 'irrigating solutions, blood substitutes and perfusion', 'B05D': 'peritoneal dialytics', 'B05X': 'i.v. solution additives', 'B05Z': 'hemodialytics and hemofiltrates', 'B06A': 'other hematological agents in atc', 'C01A': 'cardiac glycosides', 'C01B': 'antiarrhythmics, class i and iii', 'C01C': 'cardiac stimulants excl. cardiac glycosides', 'C01D': 'vasodilators used in cardiac diseases', 'C01E': 'other cardiac preparations in atc', 'C02A': 'antiadrenergic agents, centrally acting', 'C02B': 'antiadrenergic agents, ganglion-blocking', 'C02C': 'antiadrenergic agents, peripherally acting', 'C02D': 'arteriolar smooth muscle, agents acting on', 'C02K': 'other antihypertensives in atc', 'C02L': 'antihypertensives and diuretics in combination', 'C02N': 'combinations of antihypertensives in atc-gr. c02', 'C03A': 'low-ceiling diuretics, thiazides', 'C03B': 'low-ceiling diuretics, excl. thiazides', 'C03C': 'high-ceiling diuretics', 'C03D': 'potassium-sparing diuretics', 'C03E': 'diuretics and potassium-sparing agents in combination', 'C03X': 'other diuretics in atc', 'C04A': 'peripheral vasodilators', 'C05A': 'agents for treatment of hemorrhoids and anal fissures for topical use', 'C05B': 'antivaricose therapy drugs', 'C05C': 'capillary stabilizing agents', 'C07A': 'beta blocking agents', 'C07B': 'beta blocking agents and thiazides', 'C07C': 'beta blocking agents and other diuretics', 'C07D': 'beta blocking agents, thiazides and other diuretics', 'C07E': 'beta blocking agents and vasodilators', 'C07F': 'beta blocking agents, other combinations', 'C08C': 'selective calcium channel blockers with mainly vascular effects', 'C08D': 'selective calcium channel blockers with direct cardiac effects', 'C08E': 'non-selective calcium channel blockers', 'C08G': 'calcium channel blockers and diuretics', 'C09A': 'ace inhibitors, plain', 'C09B': 'ace inhibitors, combinations', 'C09C': 'angiotensin ii receptor blockers (arbs), plain', 'C09D': 'angiotensin ii receptor blockers (arbs), combinations', 'C09X': 'other agents acting on the renin-angiotensin system in atc', 'C10A': 'lipid modifying agents, plain', 'C10B': 'lipid modifying agents, combinations', 'D01A': 'antifungals for topical use', 'D01B': 'antifungals for systemic use', 'D02A': 'emollients and protectives', 'D02B': 'protectives against uv-radiation', 'D03A': 'cicatrizants', 'D03B': 'enzymes for treatment of wounds and ulcers', 'D04A': 'antipruritics, incl. antihistamines, anesthetics, etc.', 'D05A': 'antipsoriatics for topical use', 'D05B': 'antipsoriatics for systemic use', 'D06A': 'antibiotics for topical use', 'D06B': 'chemotherapeutics for topical use', 'D06C': 'antibiotics and chemotherapeutics, combinations', 'D07A': 'corticosteroid dermatological preparations, plain', 'D07B': 'corticosteroids, combinations with antiseptics', 'D07C': 'corticosteroids, combinations with antibiotics', 'D07X': 'corticosteroids, other combinations', 'D08A': 'antiseptics and disinfectants', 'D09A': 'medicated dressings', 'D10A': 'anti-acne preparations for topical use', 'D10B': 'anti-acne preparations for systemic use', 'D11A': 'other dermatological preparations in atc', 'G01A': 'antiinfectives and antiseptics, excl. combinations with corticosteroids', 'G01B': 'antiinfectives/antiseptics in combination with corticosteroids', 'G02A': 'uterotonics', 'G02B': 'contraceptives for topical use', 'G02C': 'other gynecologicals in atc', 'G03A': 'hormonal contraceptives for systemic use', 'G03B': 'androgens', 'G03C': 'estrogens, sex hormones and modulators of the genital system', 'G03D': 'progestogen sex hormones and modulators of the genital system', 'G03E': 'androgens and female sex hormones in combination', 'G03F': 'progestogens and estrogens in combination', 'G03G': 'gonadotropins and other ovulation stimulants', 'G03H': 'antiandrogen sex hormones and modulators of the genital system', 'G03X': 'other sex hormones and modulators of the genital system in atc', 'G04B': 'urologicals', 'G04C': 'drugs used in benign prostatic hypertrophy', 'H01A': 'anterior pituitary lobe hormones and analogues', 'H01B': 'posterior pituitary lobe hormones', 'H01C': 'hypothalamic hormones', 'H02A': 'corticosteroids for systemic use, plain', 'H02B': 'corticosteroids for systemic use, combinations', 'H02C': 'antiadrenal preparations', 'H03A': 'thyroid preparations', 'H03B': 'antithyroid preparations', 'H03C': 'iodine therapy drugs', 'H04A': 'glycogenolytic hormones', 'H05A': 'parathyroid hormones and analogues', 'H05B': 'anti-parathyroid agents', 'J01A': 'tetracycline antibiotics', 'J01B': 'amphenicols', 'J01C': 'beta-lactam antibacterials, penicillins', 'J01D': 'other beta-lactam antibacterials in atc', 'J01E': 'sulfonamides and trimethoprim antibacterials for systemic use', 'J01F': 'macrolides, lincosamides and streptogramins', 'J01G': 'aminoglycoside antibacterials', 'J01M': 'quinolone antibacterials', 'J01R': 'combinations of antibacterials', 'J01X': 'other antibacterials in atc', 'J02A': 'antimycotics for systemic use', 'J04A': 'drugs for treatment of tuberculosis', 'J04B': 'drugs for treatment of lepra', 'J05A': 'direct acting antivirals', 'J06A': 'immune sera systemic antiinfectives', 'J06B': 'immunoglobulins', 'J07A': 'bacterial vaccines', 'J07B': 'viral vaccines', 'J07C': 'bacterial and viral vaccines, combined', 'J07X': 'other vaccines in atc', 'L01A': 'alkylating agents', 'L01B': 'antimetabolites', 'L01C': 'plant alkaloids and other natural products, antineoplastic drugs', 'L01D': 'cytotoxic antibiotics and related substances', 'L01E': 'protein kinase inhibitors, antineoplastic and immunomodulating agents', 'L01X': 'other antineoplastic agents in atc', 'L02A': 'hormones and related agents', 'L02B': 'hormone antagonists and related agents', 'L03A': 'immunostimulants', 'L04A': 'immunosuppressants', 'M01A': 'antiinflammatory and antirheumatic products, non-steroids', 'M01B': 'antiinflammatory/antirheumatic agents in combination', 'M01C': 'specific antirheumatic agents', 'M02A': 'topical products for joint and muscular pain', 'M03A': 'muscle relaxants, peripherally acting agents', 'M03B': 'muscle relaxants, centrally acting agents', 'M03C': 'muscle relaxants, directly acting agents', 'M04A': 'antigout preparations', 'M05B': 'drugs affecting bone structure and mineralization', 'M09A': 'other drugs for disorders of the musculo-skeletal system in atc', 'N01A': 'anesthetics, general', 'N01B': 'local anesthetics', 'N02A': 'opioid analgesics', 'N02B': 'other analgesics and antipyretics in atc', 'N02C': 'antimigraine preparations', 'N03A': 'antiepileptics', 'N04A': 'anticholinergic agents', 'N04B': 'dopaminergic agents', 'N04C': 'other antiparkinson drugs in atc', 'N05A': 'antipsychotics', 'N05B': 'anxiolytics', 'N05C': 'hypnotics and sedatives', 'N06A': 'antidepressants', 'N06B': 'psychostimulants, agents used for adhd and nootropics', 'N06C': 'psycholeptics and psychoanaleptics in combination', 'N06D': 'anti-dementia drugs', 'N07A': 'parasympathomimetics', 'N07B': 'drugs used in addictive disorders', 'N07C': 'antivertigo preparations', 'N07X': 'other nervous system drugs in atc', 'P01A': 'agents against amoebiasis and other protozoal diseases', 'P01B': 'antimalarials', 'P01C': 'agents against leishmaniasis and trypanosomiasis', 'P02B': 'antitrematodals', 'P02C': 'antinematodal agents', 'P02D': 'anticestodals', 'P03A': 'ectoparasiticides, incl. scabicides', 'P03B': 'insecticides and repellents', 'R01A': 'decongestants and other nasal preparations for topical use', 'R01B': 'nasal decongestants for systemic use', 'R02A': 'throat preparations', 'R03A': 'adrenergics, inhalants', 'R03B': 'other drugs for obstructive airway diseases, inhalants in atc', 'R03C': 'adrenergics for systemic use', 'R03D': 'other systemic drugs for obstructive airway diseases in atc', 'R05C': 'expectorants, excl. combinations with cough suppressants', 'R05D': 'cough suppressants, excl. combinations with expectorants', 'R05F': 'cough suppressants and expectorants, combinations', 'R05X': 'other cold preparations in atc', 'R06A': 'antihistamines for systemic use', 'R07A': 'other respiratory system products in atc', 'S01A': 'antiinfective ophthalmologics', 'S01B': 'antiinflammatory agents, ophthalmologic', 'S01C': 'antiinflammatory agents and antiinfectives in combination', 'S01E': 'antiglaucoma preparations and miotics', 'S01F': 'mydriatics and cycloplegics', 'S01G': 'decongestants and antiallergics', 'S01H': 'local anesthetics, ophthalmologic', 'S01J': 'diagnostic agents, ophthamologic', 'S01K': 'surgical aids, ophthalmologic', 'S01L': 'ocular vascular disorder agents', 'S01X': 'other ophthalmologicals in atc', 'S02A': 'antiinfective drugs, otologic', 'S02B': 'corticosteroid otologicals', 'S02C': 'corticosteroids and antiinfectives in combination, otologic', 'S02D': 'other otologicals in atc', 'S03A': 'antiinfectives, ophthalmologic and otologic', 'S03B': 'corticosteroid ophthalmologic and otologic preparations', 'S03C': 'corticosteroids and antiinfectives in combination, opthalmologic and otologic', 'S03D': 'other ophthalmological and otological preparations in atc', 'V01A': 'allergens', 'V03A': 'all other therapeutic products', 'V04B': 'urine test drugs', 'V04C': 'other diagnostic agents in atc', 'V06A': 'diet formulations for treatment of obesity', 'V06B': 'protein supplements', 'V06C': 'infant formulas', 'V06D': 'other nutrients in atc', 'V07A': 'all other non-therapeutic products', 'V08A': 'x-ray contrast media, iodinated', 'V08B': 'x-ray contrast media, non-iodinated', 'V08C': 'magnetic resonance imaging contrast media', 'V08D': 'ultrasound contrast media', 'V09A': 'central nervous system diagnostic radiopharmaceuticals', 'V09B': 'skeleton diagnostic radiopharmaceuticals', 'V09C': 'renal system diagnostic radiopharmaceuticals', 'V09D': 'hepatic and reticulo endothelial system diagnostic radiopharmaceuticals', 'V09E': 'respiratory system diagnostic radiopharmaceuticals', 'V09F': 'thyroid diagnostic radiopharmaceuticals', 'V09G': 'cardiovascular system diagnostic radiopharmaceuticals', 'V09H': 'inflammation and infection detection', 'V09I': 'tumour detection radiopharmaceuticals', 'V09X': 'other diagnostic radiopharmaceuticals in atc', 'V10A': 'antiinflammatory therapeutic radiopharmaceuticals', 'V10B': 'pain palliation (bone seeking agents)', 'V10X': 'other therapeutic radiopharmaceuticals in atc'}\n"
     ]
    }
   ],
   "source": [
    "import csv\n",
    "\n",
    "condition_mapping_file = \"../../resources/CCSCM.csv\"\n",
    "procedure_mapping_file = \"../../resources/CCSPROC.csv\"\n",
    "drug_file = \"../../resources/ATC.csv\"\n",
    "\n",
    "condition_dict = {}\n",
    "with open(condition_mapping_file, newline='') as csvfile:\n",
    "    reader = csv.DictReader(csvfile)\n",
    "    for row in reader:\n",
    "        condition_dict[row['code']] = row['name'].lower()\n",
    "\n",
    "procedure_dict = {}\n",
    "with open(procedure_mapping_file, newline='') as csvfile:\n",
    "    reader = csv.DictReader(csvfile)\n",
    "    for row in reader:\n",
    "        procedure_dict[row['code']] = row['name'].lower()\n",
    "\n",
    "drug_dict = {}\n",
    "with open(drug_file, newline='') as csvfile:\n",
    "    reader = csv.DictReader(csvfile)\n",
    "    for row in reader:\n",
    "        if row['level'] == '3':\n",
    "            drug_dict[row['code']] = row['name'].lower()\n",
    "\n",
    "print(drug_dict)"
   ]
  },
  {
   "cell_type": "code",
   "execution_count": 2,
   "metadata": {
    "pycharm": {
     "name": "#%%\n"
    }
   },
   "outputs": [],
   "source": [
    "import re \n",
    "from ChatGPT import ChatGPT\n",
    "import json\n",
    "\n",
    "def extract_data_in_brackets(input_string):\n",
    "    pattern = r\"\\[(.*?)\\]\"\n",
    "    matches = re.findall(pattern, input_string)\n",
    "    return matches \n",
    "\n",
    "def divide_text(long_text, max_len=800):\n",
    "    sub_texts = []\n",
    "    start_idx = 0\n",
    "    while start_idx < len(long_text):\n",
    "        end_idx = start_idx + max_len\n",
    "        sub_text = long_text[start_idx:end_idx]\n",
    "        sub_texts.append(sub_text)\n",
    "        start_idx = end_idx\n",
    "    return sub_texts\n",
    "\n",
    "def filter_triples(triples):\n",
    "    chatgpt = ChatGPT()\n",
    "    response = chatgpt.chat(\n",
    "        f\"\"\"\n",
    "            I have a list of triples. I want to select 50 most important triples from the list.\n",
    "            The importance of a triple is based on how you think it will help imrpove healthcare prediction tasks (e.g., drug recommendation, mortality prediction, readmission prediction …).\n",
    "            If you think a triple is important, please keep it. Otherwise, please remove it.\n",
    "            You can also add triples from your background knowledge.\n",
    "            The total size of the updated list should be below 50.\n",
    "\n",
    "            triples: {triples}\n",
    "            updates:\n",
    "        \"\"\"\n",
    "        )\n",
    "    json_string = str(response)\n",
    "    json_data = json.loads(json_string)\n",
    "\n",
    "    filtered_triples = extract_data_in_brackets(json_data['content'])\n",
    "    return filtered_triples\n"
   ]
  },
  {
   "cell_type": "code",
   "execution_count": 3,
   "metadata": {
    "pycharm": {
     "name": "#%%\n"
    }
   },
   "outputs": [],
   "source": [
    "from ChatGPT import ChatGPT\n",
    "import json\n",
    "\n",
    "def graph_gen(term: str, mode: str):\n",
    "    if mode == \"condition\":\n",
    "        example = \\\n",
    "        \"\"\"\n",
    "        Example:\n",
    "        prompt: systemic lupus erythematosus\n",
    "        updates: [[systemic lupus erythematosus, is an, autoimmune condition], [systemic lupus erythematosus, may cause, nephritis], [anti-nuclear antigen, is a test for, systemic lupus erythematosus], [systemic lupus erythematosus, is treated with, steroids], [methylprednisolone, is a, steroid]]\n",
    "        \"\"\"\n",
    "    elif mode == \"procedure\":\n",
    "        example = \\\n",
    "        \"\"\"\n",
    "        Example:\n",
    "        prompt: endoscopy\n",
    "        updates: [[endoscopy, is a, medical procedure], [endoscopy, used for, diagnosis], [endoscopic biopsy, is a type of, endoscopy], [endoscopic biopsy, can detect, ulcers]]\n",
    "        \"\"\"\n",
    "    elif mode == \"drug\":\n",
    "        example = \\\n",
    "        \"\"\"\n",
    "        Example:\n",
    "        prompt: iobenzamic acid\n",
    "        updates: [[iobenzamic acid, is a, drug], [iobenzamic acid, may have, side effects], [side effects, can include, nausea], [iobenzamic acid, used as, X-ray contrast agent], [iobenzamic acid, formula, C16H13I3N2O3]]\n",
    "        \"\"\"\n",
    "    chatgpt = ChatGPT()\n",
    "    response = chatgpt.chat(\n",
    "        f\"\"\"\n",
    "            Given a prompt (a medical condition/procedure/drug), extrapolate as many relationships as possible of it and provide a list of updates.\n",
    "            The relationships should be helpful for healthcare prediction (e.g., drug recommendation, mortality prediction, readmission prediction …)\n",
    "            Each update should be exactly in format of [ENTITY 1, RELATIONSHIP, ENTITY 2]. The relationship is directed, so the order matters.\n",
    "            Both ENTITY 1 and ENTITY 2 should be noun.\n",
    "            Any element in [ENTITY 1, RELATIONSHIP, ENTITY 2] should be conclusive, make it as short as possible.\n",
    "            Do this in both breadth and depth. Expand [ENTITY 1, RELATIONSHIP, ENTITY 2] until the size reaches 100.\n",
    "\n",
    "            {example}\n",
    "\n",
    "            prompt: {term}\n",
    "            updates:\n",
    "        \"\"\"\n",
    "        )\n",
    "    json_string = str(response)\n",
    "    json_data = json.loads(json_string)\n",
    "\n",
    "    triples = extract_data_in_brackets(json_data['content'])\n",
    "    outstr = \"\"\n",
    "    for triple in triples:\n",
    "        outstr += triple.replace('[', '').replace(']', '').replace(', ', '\\t') + '\\n'\n",
    "\n",
    "    return outstr"
   ]
  },
  {
   "cell_type": "code",
   "execution_count": 4,
   "metadata": {
    "pycharm": {
     "name": "#%%\n"
    }
   },
   "outputs": [],
   "source": [
    "from ChatGPT import ChatGPT\n",
    "import json\n",
    "\n",
    "def graph_gen_note(note_str: str):\n",
    "    # if mode == \"notes\":\n",
    "    #     example = \\\n",
    "    #     \"\"\"\n",
    "    #     Example: Mother was treated with antibiotics because of maternal temp of 100.3 just prior to delivery.  Mother's temp was then lower but at 2 hours rose again to 102.\n",
    "    #     prompt: \n",
    "    #     updates: \n",
    "    #     \"\"\"\n",
    "    triples_tot = []\n",
    "    notes = divide_text(note_str)\n",
    "    for note in notes:\n",
    "        chatgpt = ChatGPT()\n",
    "        response = chatgpt.chat(\n",
    "            f\"\"\"\n",
    "                Given a prompt (a clinical note from MIMIC-III dataset), extrapolate relationships of it and provide a list of updates.\n",
    "                The relationships should be helpful for healthcare prediction (e.g., drug recommendation, mortality prediction, readmission prediction …)\n",
    "                Each update should be exactly in format of [ENTITY 1, RELATIONSHIP, ENTITY 2]. The relationship is directed, so the order matters.\n",
    "                Both ENTITY 1 and ENTITY 2 should be noun.\n",
    "                Any element in [ENTITY 1, RELATIONSHIP, ENTITY 2] should be conclusive, make it as short as possible.\n",
    "                Do this in both breadth and depth. Expand [ENTITY 1, RELATIONSHIP, ENTITY 2].\n",
    "\n",
    "                prompt: {note}\n",
    "                updates:\n",
    "            \"\"\"\n",
    "            )\n",
    "        json_string = str(response)\n",
    "        json_data = json.loads(json_string)\n",
    "\n",
    "        triples = extract_data_in_brackets(json_data['content'])\n",
    "        triples_tot += triples\n",
    "\n",
    "    \n",
    "    outstr = \"\"\n",
    "    for triple in triples_tot:\n",
    "        outstr += triple.replace('[', '').replace(']', '').replace(', ', '\\t') + '\\n'\n",
    "\n",
    "    return outstr"
   ]
  },
  {
   "cell_type": "code",
   "execution_count": 7,
   "metadata": {
    "pycharm": {
     "name": "#%%\n"
    }
   },
   "outputs": [
    {
     "ename": "FileNotFoundError",
     "evalue": "[Errno 2] No such file or directory: '../../clinical_notes/subject_text_dict.json'",
     "output_type": "error",
     "traceback": [
      "\u001B[1;31m---------------------------------------------------------------------------\u001B[0m",
      "\u001B[1;31mFileNotFoundError\u001B[0m                         Traceback (most recent call last)",
      "\u001B[1;32md:\\OneDrive fengysconnect\\OneDrive - connect.hku.hk\\桌面\\Research\\GraphCare-main\\graphcare_\\graph_generation\\graph_gen.ipynb Cell 8\u001B[0m in \u001B[0;36m<cell line: 3>\u001B[1;34m()\u001B[0m\n\u001B[0;32m      <a href='vscode-notebook-cell:/d%3A/OneDrive%20fengysconnect/OneDrive%20-%20connect.hku.hk/%E6%A1%8C%E9%9D%A2/Research/GraphCare-main/graphcare_/graph_generation/graph_gen.ipynb#X10sZmlsZQ%3D%3D?line=0'>1</a>\u001B[0m \u001B[39mimport\u001B[39;00m \u001B[39mjson\u001B[39;00m\n\u001B[1;32m----> <a href='vscode-notebook-cell:/d%3A/OneDrive%20fengysconnect/OneDrive%20-%20connect.hku.hk/%E6%A1%8C%E9%9D%A2/Research/GraphCare-main/graphcare_/graph_generation/graph_gen.ipynb#X10sZmlsZQ%3D%3D?line=2'>3</a>\u001B[0m \u001B[39mwith\u001B[39;00m \u001B[39mopen\u001B[39;49m(\u001B[39m'\u001B[39;49m\u001B[39m../../clinical_notes/subject_text_dict.json\u001B[39;49m\u001B[39m'\u001B[39;49m, \u001B[39m'\u001B[39;49m\u001B[39mr\u001B[39;49m\u001B[39m'\u001B[39;49m) \u001B[39mas\u001B[39;00m f:\n\u001B[0;32m      <a href='vscode-notebook-cell:/d%3A/OneDrive%20fengysconnect/OneDrive%20-%20connect.hku.hk/%E6%A1%8C%E9%9D%A2/Research/GraphCare-main/graphcare_/graph_generation/graph_gen.ipynb#X10sZmlsZQ%3D%3D?line=3'>4</a>\u001B[0m     subject_text_dict \u001B[39m=\u001B[39m json\u001B[39m.\u001B[39mload(f)\n",
      "\u001B[1;31mFileNotFoundError\u001B[0m: [Errno 2] No such file or directory: '../../clinical_notes/subject_text_dict.json'"
     ]
    }
   ],
   "source": [
    "import json\n",
    "\n",
    "with open('../../clinical_notes/subject_text_dict.json', 'r') as f:\n",
    "    subject_text_dict = json.load(f)"
   ]
  },
  {
   "cell_type": "code",
   "execution_count": 8,
   "metadata": {
    "pycharm": {
     "name": "#%%\n"
    }
   },
   "outputs": [
    {
     "ename": "NameError",
     "evalue": "name 'subject_text_dict' is not defined",
     "output_type": "error",
     "traceback": [
      "\u001B[1;31m---------------------------------------------------------------------------\u001B[0m",
      "\u001B[1;31mNameError\u001B[0m                                 Traceback (most recent call last)",
      "\u001B[1;32md:\\OneDrive fengysconnect\\OneDrive - connect.hku.hk\\桌面\\Research\\GraphCare-main\\graphcare_\\graph_generation\\graph_gen.ipynb Cell 9\u001B[0m in \u001B[0;36m<cell line: 4>\u001B[1;34m()\u001B[0m\n\u001B[0;32m      <a href='vscode-notebook-cell:/d%3A/OneDrive%20fengysconnect/OneDrive%20-%20connect.hku.hk/%E6%A1%8C%E9%9D%A2/Research/GraphCare-main/graphcare_/graph_generation/graph_gen.ipynb#X11sZmlsZQ%3D%3D?line=0'>1</a>\u001B[0m \u001B[39mfrom\u001B[39;00m \u001B[39mtqdm\u001B[39;00m \u001B[39mimport\u001B[39;00m tqdm\n\u001B[0;32m      <a href='vscode-notebook-cell:/d%3A/OneDrive%20fengysconnect/OneDrive%20-%20connect.hku.hk/%E6%A1%8C%E9%9D%A2/Research/GraphCare-main/graphcare_/graph_generation/graph_gen.ipynb#X11sZmlsZQ%3D%3D?line=1'>2</a>\u001B[0m \u001B[39mimport\u001B[39;00m \u001B[39mos\u001B[39;00m\n\u001B[1;32m----> <a href='vscode-notebook-cell:/d%3A/OneDrive%20fengysconnect/OneDrive%20-%20connect.hku.hk/%E6%A1%8C%E9%9D%A2/Research/GraphCare-main/graphcare_/graph_generation/graph_gen.ipynb#X11sZmlsZQ%3D%3D?line=3'>4</a>\u001B[0m \u001B[39mfor\u001B[39;00m key \u001B[39min\u001B[39;00m tqdm(subject_text_dict\u001B[39m.\u001B[39mkeys()):\n\u001B[0;32m      <a href='vscode-notebook-cell:/d%3A/OneDrive%20fengysconnect/OneDrive%20-%20connect.hku.hk/%E6%A1%8C%E9%9D%A2/Research/GraphCare-main/graphcare_/graph_generation/graph_gen.ipynb#X11sZmlsZQ%3D%3D?line=4'>5</a>\u001B[0m     file \u001B[39m=\u001B[39m \u001B[39mf\u001B[39m\u001B[39m'\u001B[39m\u001B[39m../../graphs/notes/\u001B[39m\u001B[39m{\u001B[39;00mkey\u001B[39m}\u001B[39;00m\u001B[39m.txt\u001B[39m\u001B[39m'\u001B[39m\n\u001B[0;32m      <a href='vscode-notebook-cell:/d%3A/OneDrive%20fengysconnect/OneDrive%20-%20connect.hku.hk/%E6%A1%8C%E9%9D%A2/Research/GraphCare-main/graphcare_/graph_generation/graph_gen.ipynb#X11sZmlsZQ%3D%3D?line=5'>6</a>\u001B[0m     notes \u001B[39m=\u001B[39m subject_text_dict[key]\n",
      "\u001B[1;31mNameError\u001B[0m: name 'subject_text_dict' is not defined"
     ]
    }
   ],
   "source": [
    "from tqdm import tqdm\n",
    "import os\n",
    "\n",
    "for key in tqdm(subject_text_dict.keys()):\n",
    "    file = f'../../graphs/notes/{key}.txt'\n",
    "    notes = subject_text_dict[key]\n",
    "    \n",
    "    if os.path.exists(file):\n",
    "        # with open(file=file, mode=\"r\", encoding='utf-8') as f:\n",
    "        #     prev_triples = f.read()\n",
    "        # if len(prev_triples.split('\\n')) < 100:\n",
    "        #     outstr = graph_gen_note(subject_text_dict[key])\n",
    "        #     outfile = open(file=file, mode='w', encoding='utf-8')\n",
    "        #     outstr = prev_triples + outstr\n",
    "        #     # print(outstr)\n",
    "        #     outfile.write(outstr)\n",
    "        continue\n",
    "    else:\n",
    "        outstr = graph_gen_note(subject_text_dict[key])\n",
    "        outfile = open(file=file, mode='w', encoding='utf-8')\n",
    "        outstr = outstr\n",
    "        # print(outstr)\n",
    "        outfile.write(outstr)"
   ]
  },
  {
   "cell_type": "code",
   "execution_count": 6,
   "metadata": {
    "pycharm": {
     "name": "#%%\n"
    }
   },
   "outputs": [
    {
     "name": "stderr",
     "output_type": "stream",
     "text": [
      "  0%|          | 0/285 [00:00<?, ?it/s]"
     ]
    }
   ],
   "source": [
    "from tqdm import tqdm\n",
    "import os\n",
    "\n",
    "for key in tqdm(condition_dict.keys()):\n",
    "    file = f'../../graphs/condition/CCSCM/{key}.txt'\n",
    "    if os.path.exists(file):\n",
    "        with open(file=file, mode=\"r\", encoding='utf-8') as f:\n",
    "            prev_triples = f.read()\n",
    "        if len(prev_triples.split('\\n')) < 100:\n",
    "            outstr = graph_gen(term=condition_dict[key], mode=\"condition\")\n",
    "            outfile = open(file=file, mode='w', encoding='utf-8')\n",
    "            outstr = prev_triples + outstr\n",
    "            # print(outstr)\n",
    "            outfile.write(outstr)\n",
    "    else:\n",
    "        outstr = graph_gen(term=condition_dict[key], mode=\"condition\")\n",
    "        outfile = open(file=file, mode='w', encoding='utf-8')\n",
    "        outstr = outstr\n",
    "        # print(outstr)\n",
    "        outfile.write(outstr)"
   ]
  },
  {
   "cell_type": "code",
   "execution_count": 12,
   "metadata": {
    "pycharm": {
     "name": "#%%\n"
    }
   },
   "outputs": [
    {
     "name": "stderr",
     "output_type": "stream",
     "text": [
      "100%|██████████| 231/231 [3:12:27<00:00, 49.99s/it]   \n"
     ]
    }
   ],
   "source": [
    "from tqdm import tqdm\n",
    "import os\n",
    "\n",
    "for key in tqdm(procedure_dict.keys()):\n",
    "    file = f'../../graphs/procedure/CCSPROC/{key}.txt'\n",
    "    if os.path.exists(file):\n",
    "        with open(file=file, mode=\"r\", encoding='utf-8') as f:\n",
    "            prev_triples = f.read()\n",
    "        if len(prev_triples.split('\\n')) < 150:\n",
    "            outstr = graph_gen(term=procedure_dict[key], mode=\"procedure\")\n",
    "            outfile = open(file=file, mode='w', encoding='utf-8')\n",
    "            outstr = prev_triples + outstr\n",
    "            # print(outstr)\n",
    "            outfile.write(outstr)\n",
    "    else:\n",
    "        outstr = graph_gen(term=procedure_dict[key], mode=\"procedure\")\n",
    "        outfile = open(file=file, mode='w', encoding='utf-8')\n",
    "        outstr = outstr\n",
    "        # print(outstr)\n",
    "        outfile.write(outstr)"
   ]
  },
  {
   "cell_type": "code",
   "execution_count": null,
   "metadata": {
    "pycharm": {
     "name": "#%%\n"
    }
   },
   "outputs": [],
   "source": [
    "import importlib\n",
    "import openai\n",
    "\n",
    "with open(\"resources\\openai.key\", 'r') as f:\n",
    "    key = f.readline().strip()\n",
    "openai.api_key = key\n",
    "\n",
    "# 重新导入 openai 模块\n",
    "importlib.reload(openai)\n",
    "\n",
    "# 打印 API 密钥\n",
    "print(key)"
   ]
  },
  {
   "cell_type": "code",
   "execution_count": 7,
   "metadata": {
    "pycharm": {
     "name": "#%%\n"
    }
   },
   "outputs": [
    {
     "name": "stderr",
     "output_type": "stream",
     "text": [
      "  0%|          | 0/269 [00:00<?, ?it/s]"
     ]
    },
    {
     "name": "stderr",
     "output_type": "stream",
     "text": [
      "100%|██████████| 269/269 [11:27<00:00,  2.56s/it]\n"
     ]
    }
   ],
   "source": [
    "from tqdm import tqdm\n",
    "import os\n",
    "\n",
    "for key in tqdm(drug_dict.keys()):\n",
    "    file = f'../../graphs/drug/ATC3/{key}.txt'\n",
    "    if os.path.exists(file):\n",
    "        # with open(file=file, mode=\"r\", encoding='utf-8') as f:\n",
    "        #     prev_triples = f.read()\n",
    "        # if len(prev_triples.split('\\n')) < 150:\n",
    "        #     outstr = graph_gen(term=drug_dict[key], mode=\"drug\")\n",
    "        #     outfile = open(file=file, mode='w', encoding='utf-8')\n",
    "        #     outstr = prev_triples + outstr\n",
    "        #     # print(outstr)\n",
    "        #     outfile.write(outstr)\n",
    "        continue\n",
    "    else:\n",
    "        outstr = graph_gen(term=drug_dict[key], mode=\"drug\")\n",
    "        outfile = open(file=file, mode='w', encoding='utf-8')\n",
    "        outstr = outstr\n",
    "        # print(outstr)\n",
    "        outfile.write(outstr)"
   ]
  },
  {
   "cell_type": "code",
   "execution_count": 1,
   "metadata": {
    "pycharm": {
     "name": "#%%\n"
    }
   },
   "outputs": [
    {
     "name": "stdout",
     "output_type": "stream",
     "text": [
      "{'object': 'list', 'data': [{'object': 'embedding', 'index': 0, 'embedding': [-0.019362058, -0.0075340266, -0.016889753, -0.040025327, -0.031151053, 0.033597335, -0.014599616, -0.01603095, -0.026857048, 0.011613331, 0.013610694, 0.027533678, -0.0003102581, 0.008210657, -0.028834892, -0.0051820828, 0.040441718, 0.00865307, 0.011164412, -0.003363637, -0.021535084, 0.015367332, -9.5913674e-05, -0.022836298, 0.02046809, 0.01437841, -0.00062092283, -0.032608412, 0.003851592, -0.004528223, 0.012895026, -0.010852121, -0.01191261, -0.022745213, -0.006629683, 0.0017956747, 0.019791458, -0.0009368738, 0.0032237566, -0.010253563, 0.0036173738, -0.0014923293, -0.0013589549, -0.012511169, -0.03021418, -0.00047331644, 0.00012259872, -0.013688766, -0.01901073, -0.002774838, 0.046479348, -0.0016183844, 0.0027309218, 0.009707053, -0.023682086, -0.015744684, 0.009908741, 0.023174614, -0.00051113294, -0.0008612407, 0.010058381, -0.009316689, -0.016356254, -0.0033002028, -0.0046681035, -0.0017566383, 0.0049315994, 0.01242659, 0.0014077504, -0.013532621, 0.034091797, 0.0101950085, -0.017019873, -0.008828734, -0.014027082, -0.005321963, -0.011749959, 0.0015516971, -0.009303677, -0.006831371, 0.036980487, -0.015796732, -0.0035295417, 0.023109553, 0.014157203, -0.0107870605, -0.0036238797, 0.022107618, 0.008295236, -0.0061124507, 0.019388082, -0.0021665206, -0.002205557, 0.009277653, -0.016772643, 0.011079834, 0.03515879, 0.044267286, -0.00037979172, -0.033285044, -0.01993459, 0.009791632, -0.0060408837, -0.010331635, -0.031229125, 0.008431864, -0.0069549866, 0.016356254, 0.023669075, -0.0097721135, -0.013272379, 0.044631626, 0.017267104, -0.05251698, 0.0036824343, -0.025269568, 0.0045477413, 0.005845702, -0.00919958, 0.013018642, 0.005370759, 0.009674523, 0.013389488, -0.009329701, 0.040207498, -0.0015313657, -0.03942677, -0.017527347, -0.0021404964, 0.019791458, 0.043356437, 0.0063922117, 0.031411294, 0.013597681, -0.012660808, -0.008991386, -0.009238617, -0.005465097, -0.013415512, -0.038489897, -0.014469495, 0.04343451, 0.009427292, -0.0015069679, -0.014105155, 0.026909096, 0.023747148, -0.0067988406, -0.014274313, -0.021626169, 0.00019294558, -0.035184816, 0.027429583, -0.033493236, 0.00060140464, -0.0014232023, -0.009609462, 0.01968736, -0.01517215, -0.02126183, 0.0005090998, 0.0024332693, 0.021782314, 0.012302974, -0.008568491, 0.041821003, -0.0055236514, 0.0012597374, -0.004300511, -0.0025162217, -0.0019778446, 0.03185371, -0.017891686, 0.030318275, -0.034456134, 0.0060864263, -0.018243015, 0.017058909, -0.047182005, -0.021834364, -0.02577704, 0.018633379, 0.02071532, -0.008692106, -0.0066004056, 0.013675755, 0.0320619, -0.027221387, 0.015263235, -0.004147618, 0.030370325, 0.005003166, -0.0072607715, -0.020429052, -0.65081495, -0.027950067, 0.01614806, 0.00974609, 0.020624235, 0.021430988, 0.008262706, -0.029251281, -0.021066647, 0.0057058213, -0.025503786, 0.008633552, -0.011639356, 0.0071501685, -0.004544488, -0.029017063, -0.01437841, -0.02297943, -0.0019989894, 0.010923687, -0.012348517, 0.008034994, -0.008048005, 0.005191842, -0.022159668, 0.0054130484, 0.0064995615, -0.024762094, 0.0072542657, 0.029901888, -0.018190965, 0.026284514, -0.009895729, -0.027924042, 0.035861444, 0.008113067, 0.0018997717, 0.010123441, 0.0039979788, 0.011945141, -0.0065906467, 0.010715494, 0.010129947, -0.009707053, -0.021548096, -0.01133357, 0.014456483, -0.0007120078, 0.010396697, 0.0062946207, 0.020155799, 0.010767542, -0.016434327, -0.0057253395, -0.01609601, 0.013031654, 0.030656591, -0.0062198006, 0.0030871292, 0.0075405324, -0.015939865, 0.022380874, -0.024566911, -0.017267104, 0.0011540138, -0.008178127, -0.016161073, -0.01437841, 0.021417975, 0.02346088, 0.028860917, -0.0059888354, -0.011060315, 0.014833835, 0.029329354, 0.038958333, 0.0012971472, -0.0030513457, -0.0046485853, -0.014547568, -0.010051874, -0.016043963, -0.041638833, 0.012394059, 0.033180945, -0.0072412533, -0.017683493, 0.018190965, 0.02200352, 0.023695098, 0.011684897, -0.013103221, -0.0024121245, -0.040597863, -0.0039133998, 0.0062783556, 0.0018298315, 0.032009855, 0.034456134, -0.035419032, -0.017787589, -0.010695975, 0.01767048, -0.0018574824, 0.014573592, 0.0146516645, -0.051762275, -0.0036206266, 0.018190965, -0.022745213, 0.008093548, 0.0101950085, -0.0031229125, -0.0055464227, -0.00052373845, -0.022133643, -0.0013727803, 0.013909973, -0.0085294545, 0.01176297, 0.00904994, 0.017540358, 0.015068053, -0.015575526, 0.025790052, 0.004381837, 0.0050552147, -0.022628104, -0.0039849663, -0.029251281, -0.012361528, -0.011717428, 0.03294673, -0.020012664, 0.019440131, -0.015458417, 0.0146776885, 0.0038971347, 0.011216461, -0.009193074, -0.007683666, -0.018360123, 0.0024706793, -0.01133357, 0.017514335, -0.008178127, -0.03510674, 0.0029407425, 0.00011985397, -0.0013077196, -0.0028870676, 0.0028529107, -0.0066752257, -0.0015142873, 0.0065581165, -0.0015159138, 0.0005509826, -0.004710393, -0.00095069915, -0.041482687, 0.0006079107, 0.019375069, -0.024085462, 0.0061872704, 0.008171621, -0.021287853, -0.005686303, 0.034326013, -0.010728505, -0.01169791, -0.010338142, 0.0019388082, -0.007124144, 0.0062100417, 0.003454722, 0.0041411123, 0.00459979, -0.014456483, 0.0010523564, -0.0051202755, 0.0075340266, 0.0009433798, 0.020481102, -0.011105858, 0.0348465, 0.0042940048, 0.018008796, 0.017813614, -0.0227322, 0.032270096, -0.02663584, 0.034247942, -0.035679277, 0.018919645, 0.011281521, -0.034247942, -0.020207847, 0.018164942, 0.005455338, 0.02278425, -0.0065646223, -0.022406897, 0.018750487, 0.006167752, 0.013779852, -0.027273437, 0.00079333363, -0.0149899805, 0.033285044, -0.006532092, -0.0025080892, -0.0073323385, 0.0048340084, 0.0059237746, 0.01889362, 0.01480781, -0.008906807, -0.017202044, 0.0050649736, -0.0009474461, -0.016954813, 0.014573592, 0.013298403, -0.008425358, 0.0105333235, 0.015939865, 0.034508184, 0.028184285, 0.008854758, -0.011723934, -0.013278884, 0.018451208, 0.02979779, 0.015562514, -0.00010353797, 0.00354906, 0.029225256, -0.0027260424, 0.033675406, -0.02552981, -0.01437841, 0.011346582, 0.0071631805, 0.016863728, 0.013571657, -0.024566911, 0.017982772, -0.027950067, -0.0072347475, 0.032712508, -0.01828205, -0.0020347727, -0.02053315, 0.024566911, -0.0038841225, -0.019453142, 0.003649904, 0.022432921, 0.025464749, 0.01949218, 0.017696504, -0.002542246, 0.006044137, -0.00095883175, -0.018516269, 0.0018802535, 0.013207317, 0.0023373049, 0.0027260424, 0.019752422, -0.034195893, -0.016278181, 0.024163535, -0.044813793, 0.0002988725, 0.0111253755, -0.004986901, 0.024840167, 0.016850716, -0.0052471436, -0.025868125, -0.044267286, 0.005881485, 0.010006332, -0.028132237, -0.02041604, -0.016395291, -0.0014516664, -0.0013679008, 0.008483913, 0.044839818, 0.0077096904, -0.024970287, -0.0041671363, -0.0085034305, 0.003357131, 0.01986953, -0.008269212, 0.0077487268, 0.0050454554, 0.0081651155, -0.012211889, 0.011756465, -0.007384387, 0.01761843, -0.007481978, -0.02357799, -0.019609287, -0.0046681035, -0.019270973, -0.011105858, -0.014664677, -0.01202972, -0.018633379, -0.0033506248, -0.014092143, 0.024996312, -0.0072412533, 0.012485144, -0.0009474461, -0.0012410324, -0.022680152, -0.01215984, -0.0022006775, 0.05251698, 0.021574121, -0.019700373, -0.008028488, 0.00014160863, 0.007833306, 0.0008563612, -0.023968354, 0.01925796, -0.0007986198, -0.0033896612, 0.010429227, 0.0064052236, 0.028626699, 0.0007876408, 0.03364938, -0.004046774, 0.004050027, 8.081756e-05, -0.008971867, 0.016707582, 0.0028398987, 0.036043614, 0.028470553, 0.007573063, -0.007488484, 0.0060408837, -0.010006332, 0.00027081507, -0.019895555, -0.0070720958, 0.011795501, 0.007488484, 0.010103923, 0.005819678, -0.010481276, 0.008633552, 0.0012190745, 0.017696504, 0.0032383953, -0.0021388698, -0.003353878, -0.003851592, 0.007898366, 0.023070516, -0.008679095, -0.017202044, 0.009681029, 0.024163535, -0.014625641, 0.02961562, 0.003552313, -0.029225256, -0.023304734, 0.029095136, 0.033545285, -0.011281521, -0.008145597, -0.022810273, 0.008744155, 0.0020347727, -0.011743452, -0.01358467, -0.0044696685, -0.009882717, -0.018021807, -0.008366803, -0.005107263, -0.026596805, -0.011632849, -0.0073973993, -0.017943734, -0.0021453758, 0.0025032095, 0.016408304, 0.011170918, 0.0033213475, -0.006792335, -0.0056960625, 0.010377178, -0.008113067, 0.0021356167, -0.009641993, -0.037240732, -0.031593464, 0.007963427, 0.03333709, -0.005090998, -0.01735819, 0.022198703, -0.021235805, 0.003949183, -0.005917269, -0.017058909, 0.008887288, -0.010728505, 0.0138319, 0.017176019, -0.014274313, 0.004515211, 0.0005566754, -0.013415512, -0.02815826, -0.0049673826, 0.00862054, -0.017956747, 0.013988046, 0.03815158, -0.011255497, -0.007605593, 0.007221735, -0.006792335, 0.020363992, -0.013129245, -0.010253563, 0.010292599, -0.013109727, -0.0034839993, 0.009154038, -0.009219098, 0.007755233, -0.006824865, 0.021834364, -0.004297258, -0.008737649, -0.014911908, 0.01662951, -0.0131878, -0.0057904003, -0.021118697, -1.2395838e-05, 0.03370143, -0.025295591, -0.035653252, -0.010038863, -0.0033831552, -0.0040695453, 0.015458417, 0.013402499, -0.01230948, -0.012517675, 0.040233523, -0.00014171029, -0.014521543, 0.015419381, -0.027429583, -0.012023213, -0.0034417098, 0.011613331, -0.012231408, -0.00018105167, 0.0041703894, -0.012511169, 0.006242572, -0.010429227, 0.013155269, -0.0012914544, -0.00096696435, 0.03242624, 0.04273185, 0.028522601, -0.020728331, 0.018138917, -0.024579924, -0.022615092, 0.001003561, -0.001255671, 0.02663584, -0.0057448577, 0.02516547, 0.018243015, -0.006053896, 0.032322146, -0.02834043, 0.024905227, 0.024137512, -0.0070330594, -0.02284931, -0.019843508, -0.027767897, -0.02205557, 0.009342713, 0.000503407, -0.004622561, -0.013174787, -0.011060315, 0.02078038, 0.028782845, 5.034578e-05, 0.009115001, 0.014053106, -0.0012093154, -0.0016785655, -0.008061018, 0.0025341134, -0.0049315994, -0.022393886, 0.021404963, -0.008718131, 0.0007079415, 0.001724108, 0.015588539, 0.012231408, -0.0047689476, 0.023617025, 0.008490418, -0.048951656, -0.03174961, 0.004124847, -0.041821003, 0.0059205214, -0.006418236, -0.035601202, -0.043824874, -0.0070786015, 0.015822757, -0.017110959, 0.020233871, -0.01644734, -0.025685955, 0.022576055, -0.003740989, 0.02169123, -0.023864256, 0.00452497, 0.014729737, -0.021483036, -0.016460352, 0.007475472, -0.0016948306, -0.0035588192, 0.02789802, 0.026583793, -0.015978903, -0.006463778, 0.00064898026, 0.0141441915, -0.00499666, -0.034768425, 0.0060994388, 0.0010661818, 0.01578372, -0.010949712, -0.017904699, -0.008919819, 0.006418236, -0.019153863, -0.017631443, -0.0016322098, -0.035653252, -0.02053315, 0.020220859, -0.049914554, -0.0025259808, -0.0051820828, -0.036590125, -0.020298932, -0.016291194, -0.01267382, -0.009375243, -0.008184633, 0.05186637, -0.005549676, -0.004697381, 0.012901532, -0.031333223, -0.014872871, 0.0018103133, -0.0064702844, 0.032374192, 0.0011434414, 0.02400739, 0.008034994, -0.000956392, 0.01252418, -0.0041411123, -0.014118167, 0.0020201341, -0.03383155, 0.009303677, 0.025803065, 0.030318275, -0.019856518, 0.02212063, -0.02473607, -0.015484441, -0.00886777, 0.0029505016, -0.0069614924, -0.015198174, -0.01669457, -0.02040303, 0.0015045282, 0.00901741, -0.0014972088, -0.02028592, 0.0024186308, 0.018073857, -0.005504133, 0.0076251114, -0.008139091, 0.023148589, -0.0054163015, 0.0006099439, -0.0027000182, -0.022315813, 0.0035913493, -0.0028838145, -0.018477233, -0.029381402, -0.009154038, 0.009713559, 0.0020754356, -0.043278363, 0.0218734, 0.013545633, 0.026909096, -0.036590125, -0.031307198, 0.0517883, -0.011242485, 0.007937402, -0.0013117859, 0.0066622132, -0.009167049, -0.0016980837, -0.011405136, -0.0067012496, 0.0026495962, -0.02200352, -0.02480113, 0.01669457, -0.010962724, -0.0025780294, -0.016161073, -0.017696504, -0.007813787, 0.011144894, 0.017930722, 0.0014516664, 0.0004550181, -0.004121594, -0.010155972, 0.012289962, -0.038750138, -2.907399e-05, -0.014118167, -0.010780554, -0.015926855, -0.01325286, -0.030760689, 0.03466433, 0.0013735936, 0.011470198, -0.014417446, 0.0026284514, -0.028678747, -0.023226662, 0.009902235, 0.016473364, 0.030760689, 0.026362587, 0.0011548271, 0.032139976, 0.01577071, 0.002791103, 0.010260069, 0.0036726752, 0.00546835, 0.010338142, 0.0121988775, 0.011372606, -0.023057504, -0.019036755, 0.011873574, -0.0068639014, 0.0041736425, 0.00962898, -0.004502199, -0.018308075, -0.00093118096, -0.008724637, -0.025399689, -0.007846318, 0.00072217354, -0.015159138, -0.014274313, 0.008184633, 0.0031164065, 0.0007823547, -0.009817656, 0.023786183, 0.007989451, -0.010071393, 0.01288852, 0.0027065242, -0.01578372, -0.022615092, 0.006424742, 0.01815193, 0.016226133, 0.027247412, 0.011340076, 0.022628104, 0.0055301576, -0.012257432, -0.0076446296, -0.029251281, 0.0056310017, -0.0059790765, -0.011144894, 0.011105858, 0.0015370585, -0.011418149, -0.01227695, -0.007703184, -0.011353089, -0.015068053, 0.01809988, -0.016928788, -0.038724117, 0.0046420796, -0.0042614746, -0.014690701, -0.008522949, -0.008763674, -0.0021030863, -0.019635312, -0.026648853, 0.00022791569, 0.00974609, -0.007013541, -0.001821699, 0.0071631805, -0.009297171, 0.016928788, 0.19403696, -0.009928259, -0.017995784, 0.022016533, -0.016902763, 0.008431864, 0.02200352, -0.01760542, 0.01785265, 0.025816077, 0.03916653, 0.00073193264, 0.021222793, -0.0013565151, 0.0032985765, 0.004860033, -0.037553024, -0.0030318275, -0.010682963, -0.0365641, -0.0294855, 0.0031359247, 0.011418149, 0.0026235718, 0.007885355, 0.013688766, -0.020624235, 0.005848955, 0.022758225, -0.006359681, -0.02120978, 0.007553545, -0.012368035, 0.00583269, -0.0070786015, 0.007423423, -0.027767897, -0.028626699, 0.0067793224, 0.01914085, 0.0017419996, -0.0041801487, -0.018776512, 0.019414106, -0.018334098, -0.013025148, -0.012088274, -0.0012694965, 0.0013386235, 0.021756291, -0.040285572, -0.020975562, 0.01035766, 0.011756465, 0.0027699585, 0.002265738, 0.019323021, -0.01755337, -0.029251281, 0.00565052, 0.0019566999, -0.0010385311, -0.013662742, 0.019635312, -0.033232994, 0.021183757, -0.020767368, 0.002743934, 0.020142786, -0.016369266, -0.0034221916, -0.0143133495, 0.009609462, -0.008236682, 0.004596537, -0.006236066, 0.023018468, 0.036147714, 0.008048005, -0.019908568, -0.019791458, -0.0075405324, -0.0092060855, 0.00025536315, -0.01571866, -0.035783373, -0.012003695, 0.009882717, 0.007690172, -0.013389488, -0.00075714366, -0.018776512, 0.0030253215, 0.013896961, 0.016863728, 0.03606964, -0.019283986, 0.013662742, -0.021912437, -0.03625181, -0.041664857, 0.032738533, -0.0003228636, 0.007969933, -0.010624409, 0.000756737, -0.008295236, 0.026310539, 0.0061937766, 0.0013004002, -0.0070525776, -0.018802537, -0.0031326716, -0.0027797176, -0.0003991066, -0.0040402682, -0.0018900126, -0.014287325, 0.006824865, -0.017696504, 0.0128755085, -0.033857577, 0.010286093, 0.0050291903, 0.0061059445, -0.0053284694, -0.014508531, -0.006164499, -0.0015956131, -0.03375348, -0.019843508, -0.008822228, -0.0022852563, 0.010578866, -0.007774751, 0.0111253755, 0.0029683935, -0.010826097, -0.011255497, 0.008770179, 0.002740681, -0.002639837, 0.012446107, 0.0019615795, -0.0051495526, -0.007904872, 0.030578518, 0.019466154, -0.03161949, -0.004495693, -0.042627756, -0.0012288336, -0.022016533, -0.0022738706, 0.043304387, -0.012986111, -0.026193429, -0.038906284, -0.0043428, 0.026102344, -0.0312031, 0.0048470204, 0.019323021, -0.009238617, -0.010481276, 0.00651908, -0.1644734, 0.00977862, 0.0067012496, -0.020624235, 0.01111887, -0.0016338363, 0.007833306, -0.011626343, 0.0048502735, 0.0043428, 0.024215585, -0.004118341, -0.029381402, 2.6939188e-05, 0.015445405, 0.0022608587, 0.011320558, 0.026531745, 0.025282579, 0.015419381, 0.0027569463, -0.022107618, 0.007878848, -0.038307726, -0.008997892, -0.018737474, 0.024345705, 0.025269568, -0.013988046, 0.0119711645, -0.037292782, -0.007579569, 0.0076446296, -0.0021518818, 0.0245539, 0.010253563, -0.01808687, -0.0131878, -0.00095069915, -0.008243188, 0.02834043, -0.006148234, 0.008093548, 0.0099412715, -0.015978903, 0.05147601, 0.026987169, 0.0024755588, 0.025191495, 0.014131179, 0.047936708, -0.025542822, 0.0051007573, 0.002124231, -0.0025227277, 0.0053349757, 0.031645514, -0.00090515666, -0.0022380874, 0.0006298687, -0.023890281, -0.013116233, 0.010656939, -0.019531215, -0.012446107, -0.012368035, -0.018958682, 0.024475828, -0.017540358, 0.0024023654, -0.024814142, 0.010884651, 0.007124144, -0.00322213, 0.023903294, 0.007124144, -0.0019079044, 0.009121507, -0.010351154, -0.01603095, -0.0052991924, 0.027741874, 0.008457888, -0.012615265, -0.009154038, -0.0093492195, 0.019401094, 0.0074169175, -0.0026512225, -0.0052146134, 0.017436262, -0.04260173, -0.012328998, -0.0100258505, 0.0023551965, 0.022641117, -0.015562514, -0.010656939, 0.010897663, -0.011756465, 0.016174084, -0.009557414, -0.034508184, -0.0042777397, 0.032504316, -0.014183228, 0.03242624, -0.007306314, 0.008347285, -0.0040955697, 0.0073648687, -0.0038190617, 0.0074624596, 0.015263235, -0.00056399475, -0.0022933888, 0.027091267, 0.00031534096, -0.00037064255, -0.008633552, 0.056264475, 0.0060766675, -0.009212592, 0.01986953, 0.0146776885, 0.014287325, -0.095404975, 0.0044501503, 0.012270444, 0.023239674, -0.0039264117, 0.036017593, -0.0054618437, 0.031463344, -0.032166, 0.02614138, -0.01644734, -0.015848782, -0.022953408, 0.00962898, 0.0076120994, -0.028965013, -0.004899069, -0.02126183, -0.027039217, 0.01249165, -0.014053106, 0.014157203, -0.012738881, -0.014521543, 0.0127323745, 0.011951647, -0.010839109, 0.02834043, 0.007273784, 0.006876914, 0.00014343846, -0.008594516, -0.0033408657, -0.020077726, -0.01252418, 0.014248288, -0.013116233, -0.0026561022, 0.027533678, -0.021365926, -0.005276421, 0.033180945, -0.009062952, -0.003744242, 0.007846318, -0.019700373, -0.022419909, -0.0024235102, 0.017189031, -0.025074385, -0.019270973, -0.01967435, -0.022758225, 5.3878375e-05, -0.0028968267, -0.00026654545, -0.01517215, 0.021183757, 0.0035100235, 0.016746618, 0.008692106, -0.018164942, 0.026531745, 0.012738881, 0.015276247, -0.01986953, 0.011984177, -0.0070720958, 0.027039217, -0.014664677, -0.023265699, -0.016434327, -0.04606296, -0.014560579, -0.020793393, -0.00235357, -0.011658873, -0.024931252, 0.020572186, -0.010377178, -0.020676283, 0.0072412533, -0.0044208732, -0.018451208, 0.049524188, 0.004723405, -0.0040955697, 0.012979605, 0.006994023, 0.0045607537, 0.005549676, 0.031177077, 0.005930281, -0.036277834, -0.018932657, 0.006824865, 0.015055041, -0.005673291, 0.01444347, 0.03638193, -0.022406897, -0.022953408, -0.024527876, 0.028782845, 0.00901741, -0.01227695, 0.011131882, -0.013792864, 0.0026805, -0.0056114835, 0.014560579, 0.020897489, 0.0016452218, 0.029199231, -0.005289433, -0.0008555479, -0.006327151, 0.005764376, 0.025282579, -0.008314755, 0.008705119, 0.026674878, 0.010520312, 0.029719718, 0.031957805, 0.033961672, 0.014872871, 0.008750661, -0.007781257, 0.051840346, -0.034091797, -0.0076120994, 0.0043623187, -0.026050296, -0.026857048, -0.0027162833, -0.00031473103, -0.028678747, -0.010338142, 0.01912784, -0.0011214834, 0.01735819, 0.017917711, -0.029147184, 0.0008083789, 0.011899598, -0.0121988775, 0.009576932, -0.021444, 0.014872871, 0.0013548887, 0.011450679, 0.01307069, 0.00036820277, -0.010221032, -0.033285044, -0.030370325, -0.003030201, 0.013090208, -0.00086774677, -0.004219185, -0.005933534, 0.013051172, 0.03383155, -0.021574121, -0.010325129, 0.0038125557, 0.009804644, -0.015289259, 0.01560155, -0.005845702, -0.039088454, -0.015016004, 0.019843508, 0.0036629161, 0.009453316, -0.009219098, 0.010123441, 0.0039003876, 0.0020054954, 0.019205913, 0.0059107626, 0.011828031, 0.0012060623, -0.005094251, 0.017384212, 0.018724464, 0.034950595, -0.0196223, 0.009908741, 0.005868473, 0.008314755, -0.0020559174, 0.02595921, -0.0015964264, 0.0154974535, 0.021170745, 0.017410237, -0.019518204, 0.011964658, 0.02802814, 0.049758404, -0.0027813439, -0.01419624, -0.017696504, -0.022107618, -0.010292599, 0.015302272, -0.03789134, -0.012927556, -0.020754356, 0.014703713, 0.028860917, 0.016356254, -0.0050682267, 0.013988046, 0.017110959, 0.000561555, 0.024527876, -0.0038678574, -0.016174084, 0.037032537, 0.026674878, 0.009973802, 0.00036779614, -0.0028333925, 0.02875682, 0.02218569, 0.0016452218, -0.020806404, 0.02126183, -0.0014963956, 0.011235979, -0.0072347475, -0.023070516, -0.012452614, -0.017761566, -0.03796941, 0.024710046, 0.016161073, -0.0041899076, 0.07843715, -0.022524007, 0.0034156856, -0.00525365, -0.0035880965, 0.014599616, 0.03617374, 0.0034970115, -0.02040303, -0.029095136, 0.022159668, 0.0049348525, 0.011138388, -0.027065242, -0.026909096, 0.022328824, 0.021066647, 0.015445405, -0.0044826805, 0.00060059136, 0.021912437, 0.024241608, 0.013701779, 0.0016143181, 0.015978903, 0.0044891867, 0.042445585, 0.0074364357, 0.00036413647, -0.039452795, 0.001321545, -0.015016004, 0.0026544756, -0.02632355, 0.035601202, -0.01328539, 0.005383771, -0.030994907, 0.012537193, 0.019088803, -0.007091614, 0.030994907, -0.012498156, -0.025516799, 0.011782489, -0.0031961058, -0.013740815, -0.015367332, -0.007221735]}], 'model': 'text-embedding-ada-002-v2', 'usage': {'prompt_tokens': 7, 'total_tokens': 7}}\n"
     ]
    }
   ],
   "source": [
    "import requests\n",
    "import json\n",
    "\n",
    "# Set the API endpoint\n",
    "url = \"https://api.openai.com/v1/embeddings\"\n",
    "\n",
    "# Set the headers\n",
    "headers = {\n",
    "    \"Content-Type\": \"application/json\",\n",
    "    \"Authorization\": \"Bearer theapikey\"\n",
    "}\n",
    "\n",
    "# Set the request data\n",
    "data = {\n",
    "    \"input\": \"multiple myeloma is a cancer\",\n",
    "    \"model\": \"text-embedding-ada-002\"\n",
    "}\n",
    "\n",
    "# Convert the data to JSON format\n",
    "json_data = json.dumps(data)\n",
    "\n",
    "# Send the POST request to the API endpoint\n",
    "response = requests.post(url, headers=headers, data=json_data)\n",
    "\n",
    "# Print the response content\n",
    "print(response.json())\n"
   ]
  },
  {
   "cell_type": "code",
   "execution_count": null,
   "metadata": {
    "pycharm": {
     "name": "#%%\n"
    }
   },
   "outputs": [],
   "source": []
  }
 ],
 "metadata": {
  "kernelspec": {
   "display_name": "Python 3.8.13 ('kgc')",
   "language": "python",
   "name": "python3"
  },
  "language_info": {
   "codemirror_mode": {
    "name": "ipython",
    "version": 3
   },
   "file_extension": ".py",
   "mimetype": "text/x-python",
   "name": "python",
   "nbconvert_exporter": "python",
   "pygments_lexer": "ipython3",
   "version": "3.9.12"
  },
  "orig_nbformat": 4,
  "vscode": {
   "interpreter": {
    "hash": "3d0509d9aa81f2882b18eeb72d4d23c32cae9029e9b99f63cde94ba86c35ac78"
   }
  }
 },
 "nbformat": 4,
 "nbformat_minor": 2
}