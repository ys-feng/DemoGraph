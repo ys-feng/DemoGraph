{
 "cells": [
  {
   "cell_type": "code",
   "execution_count": 3,
   "metadata": {
    "collapsed": true,
    "pycharm": {
     "name": "#%%\n"
    },
    "ExecuteTime": {
     "end_time": "2024-01-27T06:12:41.276050100Z",
     "start_time": "2024-01-27T06:12:40.397471500Z"
    }
   },
   "outputs": [
    {
     "data": {
      "text/plain": "<Figure size 640x480 with 1 Axes>",
      "image/png": "[encoded data removed]"
     },
     "metadata": {},
     "output_type": "display_data"
    }
   ],
   "source": [
    "import dgl\n",
    "import networkx as nx\n",
    "import matplotlib.pyplot as plt\n",
    "\n",
    "# Construct a heterogeneous graph using NetworkX\n",
    "G = nx.Graph()\n",
    "\n",
    "# # Add nodes for different entities in the EHR\n",
    "# G.add_nodes_from(['Patient', 'Visit', 'Medication', 'Diagnosis', 'Diagnosis'])\n",
    "\n",
    "# Add patient nodes\n",
    "G.add_node(\"P1\", node_type=\"patient\")\n",
    "G.add_node(\"P2\", node_type=\"patient\")\n",
    "G.add_node(\"P3\", node_type=\"patient\")\n",
    "\n",
    "# Add visit nodes\n",
    "G.add_node(\"V1\", node_type=\"visit\")\n",
    "G.add_node(\"V2\", node_type=\"visit\")\n",
    "G.add_node(\"V3\", node_type=\"visit\")\n",
    "G.add_node(\"V4\", node_type=\"visit\")\n",
    "\n",
    "# Add diagnosis nodes\n",
    "G.add_node(\"Diag1\", node_type=\"diagnosis\")\n",
    "G.add_node(\"Diag2\", node_type=\"diagnosis\")\n",
    "G.add_node(\"Diag3\", node_type=\"diagnosis\")\n",
    "G.add_node(\"Diag4\", node_type=\"diagnosis\")\n",
    "G.add_node(\"Diag5\", node_type=\"diagnosis\")\n",
    "\n",
    "# Add edges between nodes\n",
    "G.add_edge(\"P1\", \"V1\")\n",
    "G.add_edge(\"P1\", \"V2\")\n",
    "G.add_edge(\"P2\", \"V3\")\n",
    "G.add_edge(\"P3\", \"V4\")\n",
    "G.add_edge(\"V1\", \"Diag1\")\n",
    "G.add_edge(\"V1\", \"Diag2\")\n",
    "G.add_edge(\"V1\", \"Diag5\")\n",
    "G.add_edge(\"V2\", \"Diag3\")\n",
    "G.add_edge(\"V3\", \"Diag4\")\n",
    "G.add_edge(\"V4\", \"Diag5\")\n",
    "G.add_edge(\"V4\", \"Diag4\")\n",
    "\n",
    "# Add edges between the entities based on their relationships\n",
    "# G.add_edges_from([('Patient', 'Visit'), ('Visit', 'Medication'), ('Visit', 'Diagnosis')])\n",
    "\n",
    "# Set node attributes for better visualization\n",
    "node_colors = {\"patient\": \"lightblue\", \"visit\": \"lightgreen\", \"diagnosis\": \"pink\"}\n",
    "colors = [node_colors[G.nodes[n][\"node_type\"]] for n in G.nodes]\n",
    "# node_size = {'Patient': 500, 'Doctor': 500, 'Medication': 500, 'Diagnosis': 500}\n",
    "# nx.set_node_attributes(G, node_color, 'color')\n",
    "# nx.set_node_attributes(G, node_size, 'size')\n",
    "# nx.set_edge_attributes(G, 10, 'width')\n",
    "# Draw the graph using matplotlib\n",
    "pos = nx.spring_layout(G)\n",
    "nx.draw_networkx_nodes(G, pos, node_color=colors, node_size=600)\n",
    "nx.draw_networkx_labels(G, pos)\n",
    "nx.draw_networkx_edges(G, pos, width=3)\n",
    "\n",
    "# Show the graph\n",
    "plt.axis('off')\n",
    "plt.show()"
   ]
  },
  {
   "cell_type": "markdown",
   "source": [
    "## Visualization of Baseline Embeddings"
   ],
   "metadata": {
    "collapsed": false,
    "pycharm": {
     "name": "#%% md\n"
    }
   }
  },
  {
   "cell_type": "code",
   "execution_count": 4,
   "outputs": [],
   "source": [
    "import torch\n",
    "import pickle\n",
    "import yaml\n",
    "from utils import ordered_yaml\n",
    "import plotly.graph_objects as go\n",
    "\n",
    "from pyhealth.tasks import (\n",
    "    drug_recommendation_mimic3_fn,\n",
    "    readmission_prediction_mimic3_fn,\n",
    "    mortality_prediction_mimic3_fn,\n",
    "    length_of_stay_prediction_mimic3_fn\n",
    ")\n",
    "\n",
    "from pyhealth.datasets import split_by_patient, get_dataloader, split_by_visit"
   ],
   "metadata": {
    "collapsed": false,
    "pycharm": {
     "name": "#%%\n"
    },
    "ExecuteTime": {
     "end_time": "2024-01-27T06:12:41.733972400Z",
     "start_time": "2024-01-27T06:12:41.192357500Z"
    }
   }
  },
  {
   "cell_type": "code",
   "execution_count": 5,
   "outputs": [],
   "source": [
    "with open(\"./configs/GAT_MIMIC3.yml\", mode='r') as f:\n",
    "    loader, _ = ordered_yaml()\n",
    "    config = yaml.load(f, loader)"
   ],
   "metadata": {
    "collapsed": false,
    "pycharm": {
     "name": "#%%\n"
    },
    "ExecuteTime": {
     "end_time": "2024-01-27T06:12:41.840997100Z",
     "start_time": "2024-01-27T06:12:41.729972800Z"
    }
   }
  },
  {
   "cell_type": "code",
   "execution_count": 6,
   "outputs": [],
   "source": [
    "with open(config[\"datasets\"][\"dataset_path\"], 'rb') as inp:\n",
    "    unp = pickle.Unpickler(inp)\n",
    "    mimic3base = unp.load()\n"
   ],
   "metadata": {
    "collapsed": false,
    "pycharm": {
     "name": "#%%\n"
    },
    "ExecuteTime": {
     "end_time": "2024-01-27T06:15:41.156061800Z",
     "start_time": "2024-01-27T06:12:41.780988100Z"
    }
   }
  },
  {
   "cell_type": "code",
   "execution_count": 7,
   "outputs": [
    {
     "name": "stderr",
     "output_type": "stream",
     "text": [
      "Generating samples for readmission_prediction_mimic3_fn: 100%|██████████| 46520/46520 [00:00<00:00, 76633.45it/s]\n"
     ]
    }
   ],
   "source": [
    "sample_dataset = mimic3base.set_task(task_fn=readmission_prediction_mimic3_fn)\n",
    "train_ds, val_ds, test_ds = split_by_visit(sample_dataset, [0.9, 0.1, 0])\n",
    "test_loader = get_dataloader(val_ds, batch_size=512, shuffle=False)\n",
    "data_batch = next(iter(test_loader))\n",
    "pickle.dump(sample_dataset, \"checkpoints/GAT_MIMIC3_READM\")\n",
    "del mimic3base"
   ],
   "metadata": {
    "collapsed": false,
    "pycharm": {
     "name": "#%%\n"
    },
    "ExecuteTime": {
     "end_time": "2024-01-27T06:15:42.215734Z",
     "start_time": "2024-01-27T06:15:41.196064600Z"
    }
   }
  },
  {
   "cell_type": "code",
   "execution_count": 8,
   "outputs": [
    {
     "ename": "FileNotFoundError",
     "evalue": "[Errno 2] No such file or directory: './checkpoints/Deepr/mimic3/readm/20230706-075123/best.ckpt'",
     "output_type": "error",
     "traceback": [
      "\u001B[0;31m---------------------------------------------------------------------------\u001B[0m",
      "\u001B[0;31mFileNotFoundError\u001B[0m                         Traceback (most recent call last)",
      "Cell \u001B[0;32mIn[8], line 2\u001B[0m\n\u001B[1;32m      1\u001B[0m deepr_model_path \u001B[38;5;241m=\u001B[39m \u001B[38;5;124m\"\u001B[39m\u001B[38;5;124m./checkpoints/Deepr/mimic3/readm/20230706-075123/best.ckpt\u001B[39m\u001B[38;5;124m\"\u001B[39m\n\u001B[0;32m----> 2\u001B[0m state_dict \u001B[38;5;241m=\u001B[39m \u001B[43mtorch\u001B[49m\u001B[38;5;241;43m.\u001B[39;49m\u001B[43mload\u001B[49m\u001B[43m(\u001B[49m\u001B[43mdeepr_model_path\u001B[49m\u001B[43m,\u001B[49m\u001B[43m \u001B[49m\u001B[43mmap_location\u001B[49m\u001B[38;5;241;43m=\u001B[39;49m\u001B[43mtorch\u001B[49m\u001B[38;5;241;43m.\u001B[39;49m\u001B[43mdevice\u001B[49m\u001B[43m(\u001B[49m\u001B[38;5;124;43m'\u001B[39;49m\u001B[38;5;124;43mcpu\u001B[39;49m\u001B[38;5;124;43m'\u001B[39;49m\u001B[43m)\u001B[49m\u001B[43m)\u001B[49m\n\u001B[1;32m      3\u001B[0m state_dict\n",
      "File \u001B[0;32m~/anaconda3/envs/graph_aug/lib/python3.8/site-packages/torch/serialization.py:791\u001B[0m, in \u001B[0;36mload\u001B[0;34m(f, map_location, pickle_module, weights_only, **pickle_load_args)\u001B[0m\n\u001B[1;32m    788\u001B[0m \u001B[38;5;28;01mif\u001B[39;00m \u001B[38;5;124m'\u001B[39m\u001B[38;5;124mencoding\u001B[39m\u001B[38;5;124m'\u001B[39m \u001B[38;5;129;01mnot\u001B[39;00m \u001B[38;5;129;01min\u001B[39;00m pickle_load_args\u001B[38;5;241m.\u001B[39mkeys():\n\u001B[1;32m    789\u001B[0m     pickle_load_args[\u001B[38;5;124m'\u001B[39m\u001B[38;5;124mencoding\u001B[39m\u001B[38;5;124m'\u001B[39m] \u001B[38;5;241m=\u001B[39m \u001B[38;5;124m'\u001B[39m\u001B[38;5;124mutf-8\u001B[39m\u001B[38;5;124m'\u001B[39m\n\u001B[0;32m--> 791\u001B[0m \u001B[38;5;28;01mwith\u001B[39;00m \u001B[43m_open_file_like\u001B[49m\u001B[43m(\u001B[49m\u001B[43mf\u001B[49m\u001B[43m,\u001B[49m\u001B[43m \u001B[49m\u001B[38;5;124;43m'\u001B[39;49m\u001B[38;5;124;43mrb\u001B[39;49m\u001B[38;5;124;43m'\u001B[39;49m\u001B[43m)\u001B[49m \u001B[38;5;28;01mas\u001B[39;00m opened_file:\n\u001B[1;32m    792\u001B[0m     \u001B[38;5;28;01mif\u001B[39;00m _is_zipfile(opened_file):\n\u001B[1;32m    793\u001B[0m         \u001B[38;5;66;03m# The zipfile reader is going to advance the current file position.\u001B[39;00m\n\u001B[1;32m    794\u001B[0m         \u001B[38;5;66;03m# If we want to actually tail call to torch.jit.load, we need to\u001B[39;00m\n\u001B[1;32m    795\u001B[0m         \u001B[38;5;66;03m# reset back to the original position.\u001B[39;00m\n\u001B[1;32m    796\u001B[0m         orig_position \u001B[38;5;241m=\u001B[39m opened_file\u001B[38;5;241m.\u001B[39mtell()\n",
      "File \u001B[0;32m~/anaconda3/envs/graph_aug/lib/python3.8/site-packages/torch/serialization.py:271\u001B[0m, in \u001B[0;36m_open_file_like\u001B[0;34m(name_or_buffer, mode)\u001B[0m\n\u001B[1;32m    269\u001B[0m \u001B[38;5;28;01mdef\u001B[39;00m \u001B[38;5;21m_open_file_like\u001B[39m(name_or_buffer, mode):\n\u001B[1;32m    270\u001B[0m     \u001B[38;5;28;01mif\u001B[39;00m _is_path(name_or_buffer):\n\u001B[0;32m--> 271\u001B[0m         \u001B[38;5;28;01mreturn\u001B[39;00m \u001B[43m_open_file\u001B[49m\u001B[43m(\u001B[49m\u001B[43mname_or_buffer\u001B[49m\u001B[43m,\u001B[49m\u001B[43m \u001B[49m\u001B[43mmode\u001B[49m\u001B[43m)\u001B[49m\n\u001B[1;32m    272\u001B[0m     \u001B[38;5;28;01melse\u001B[39;00m:\n\u001B[1;32m    273\u001B[0m         \u001B[38;5;28;01mif\u001B[39;00m \u001B[38;5;124m'\u001B[39m\u001B[38;5;124mw\u001B[39m\u001B[38;5;124m'\u001B[39m \u001B[38;5;129;01min\u001B[39;00m mode:\n",
      "File \u001B[0;32m~/anaconda3/envs/graph_aug/lib/python3.8/site-packages/torch/serialization.py:252\u001B[0m, in \u001B[0;36m_open_file.__init__\u001B[0;34m(self, name, mode)\u001B[0m\n\u001B[1;32m    251\u001B[0m \u001B[38;5;28;01mdef\u001B[39;00m \u001B[38;5;21m__init__\u001B[39m(\u001B[38;5;28mself\u001B[39m, name, mode):\n\u001B[0;32m--> 252\u001B[0m     \u001B[38;5;28msuper\u001B[39m()\u001B[38;5;241m.\u001B[39m\u001B[38;5;21m__init__\u001B[39m(\u001B[38;5;28;43mopen\u001B[39;49m\u001B[43m(\u001B[49m\u001B[43mname\u001B[49m\u001B[43m,\u001B[49m\u001B[43m \u001B[49m\u001B[43mmode\u001B[49m\u001B[43m)\u001B[49m)\n",
      "\u001B[0;31mFileNotFoundError\u001B[0m: [Errno 2] No such file or directory: './checkpoints/Deepr/mimic3/readm/20230706-075123/best.ckpt'"
     ]
    }
   ],
   "source": [
    "deepr_model_path = \"./checkpoints/Deepr/mimic3/readm/20230706-075123/best.ckpt\"\n",
    "state_dict = torch.load(deepr_model_path, map_location=torch.device('cpu'))\n",
    "state_dict"
   ],
   "metadata": {
    "collapsed": false,
    "pycharm": {
     "name": "#%%\n"
    },
    "ExecuteTime": {
     "end_time": "2024-01-27T06:15:42.350840100Z",
     "start_time": "2024-01-27T06:15:42.221729100Z"
    }
   }
  },
  {
   "cell_type": "code",
   "execution_count": null,
   "outputs": [],
   "source": [
    "from pyhealth.models import AdaCare\n",
    "from parse import parse_baselines\n",
    "\n",
    "model = parse_baselines(sample_dataset, \"Deepr\", \"binary\", \"label\")\n",
    "model.load_state_dict(state_dict)\n",
    "data_batch[\"embed\"] = True\n",
    "results = model(**data_batch)"
   ],
   "metadata": {
    "collapsed": false,
    "pycharm": {
     "name": "#%%\n"
    },
    "ExecuteTime": {
     "start_time": "2024-01-27T06:15:42.347831300Z"
    }
   }
  },
  {
   "cell_type": "code",
   "execution_count": null,
   "outputs": [],
   "source": [
    "results[\"embed\"] = results[\"embed\"][:, 128:]+ results[\"embed\"][:, :128]"
   ],
   "metadata": {
    "collapsed": false,
    "pycharm": {
     "name": "#%%\n"
    }
   }
  },
  {
   "cell_type": "code",
   "execution_count": null,
   "outputs": [],
   "source": [
    "patient_emb = results[\"embed\"]"
   ],
   "metadata": {
    "collapsed": false,
    "pycharm": {
     "name": "#%%\n"
    }
   }
  },
  {
   "cell_type": "code",
   "execution_count": null,
   "outputs": [],
   "source": [
    "layout = go.Layout(\n",
    "    autosize=False,\n",
    "    width=600,\n",
    "    height=600)\n",
    "fig = go.Figure(layout=layout)\n",
    "from sklearn.manifold import Isomap, TSNE\n",
    "\n",
    "fig.update_layout(\n",
    "    template=\"plotly\"\n",
    ")\n",
    "\n",
    "tsne = TSNE(n_components=2)\n",
    "embeddings_2d = tsne.fit_transform(state_dict[\"embeddings.conditions.weight\"][:250].detach().cpu().numpy())\n",
    "fig.add_trace(go.Scatter(x=embeddings_2d[:, 0], y=embeddings_2d[:, 1], mode='markers', name=\"diagnosis\"))\n",
    "\n",
    "tsne = TSNE(n_components=2)\n",
    "embeddings_2d = tsne.fit_transform(state_dict[\"embeddings.procedures.weight\"][:250].detach().cpu().numpy())\n",
    "fig.add_trace(go.Scatter(x=embeddings_2d[:, 0], y=embeddings_2d[:, 1], mode='markers', name=\"procedures\"))\n",
    "\n",
    "tsne = TSNE(n_components=2)\n",
    "embeddings_2d = tsne.fit_transform(patient_emb[:250].detach().cpu().numpy())\n",
    "fig.add_trace(go.Scatter(x=embeddings_2d[:, 0], y=embeddings_2d[:, 1], mode='markers', name=\"patients\"))\n",
    "\n",
    "fig.show()\n",
    "fig.write_image(\"./manuscripts/Deepr.jpg\")"
   ],
   "metadata": {
    "collapsed": false,
    "pycharm": {
     "name": "#%%\n"
    }
   }
  },
  {
   "cell_type": "code",
   "execution_count": null,
   "outputs": [],
   "source": [
    "stagenet_model_path = \"./checkpoints/StageNet/mimic3/readm/20230705-154330/best.ckpt\"\n",
    "state_dict = torch.load(stagenet_model_path, map_location=torch.device('cpu'))\n",
    "state_dict"
   ],
   "metadata": {
    "collapsed": false,
    "pycharm": {
     "name": "#%%\n"
    }
   }
  },
  {
   "cell_type": "code",
   "execution_count": null,
   "outputs": [],
   "source": [
    "from pyhealth.models import AdaCare\n",
    "from parse import parse_baselines\n",
    "\n",
    "model = parse_baselines(sample_dataset, \"StageNet\", \"binary\", \"label\")\n",
    "model.load_state_dict(state_dict)\n",
    "data_batch[\"embed\"] = True\n",
    "results = model(**data_batch)\n",
    "# results[\"embed\"] = results[\"embed\"][:, 128:]+ results[\"embed\"][:, :128]\n",
    "patient_emb = results[\"embed\"][:, :128]"
   ],
   "metadata": {
    "collapsed": false,
    "pycharm": {
     "name": "#%%\n"
    }
   }
  },
  {
   "cell_type": "code",
   "execution_count": null,
   "outputs": [],
   "source": [
    "layout = go.Layout(\n",
    "    autosize=False,\n",
    "    width=600,\n",
    "    height=600)\n",
    "fig = go.Figure(layout=layout)\n",
    "from sklearn.manifold import Isomap, TSNE\n",
    "\n",
    "fig.update_layout(\n",
    "    template=\"plotly\"\n",
    ")\n",
    "\n",
    "tsne = TSNE(n_components=2)\n",
    "embeddings_2d = tsne.fit_transform(state_dict[\"embeddings.conditions.weight\"][:250].detach().cpu().numpy())\n",
    "fig.add_trace(go.Scatter(x=embeddings_2d[:, 0], y=embeddings_2d[:, 1], mode='markers', name=\"diagnosis\"))\n",
    "\n",
    "tsne = TSNE(n_components=2)\n",
    "embeddings_2d = tsne.fit_transform(state_dict[\"embeddings.procedures.weight\"][:250].detach().cpu().numpy())\n",
    "fig.add_trace(go.Scatter(x=embeddings_2d[:, 0], y=embeddings_2d[:, 1], mode='markers', name=\"procedures\"))\n",
    "\n",
    "tsne = TSNE(n_components=2)\n",
    "embeddings_2d = tsne.fit_transform(patient_emb[:250].detach().cpu().numpy())\n",
    "fig.add_trace(go.Scatter(x=embeddings_2d[:, 0], y=embeddings_2d[:, 1], mode='markers', name=\"patients\"))\n",
    "\n",
    "fig.show()\n",
    "fig.write_image(\"./manuscripts/Deepr.jpg\")"
   ],
   "metadata": {
    "collapsed": false,
    "pycharm": {
     "name": "#%%\n",
     "is_executing": true
    }
   }
  },
  {
   "cell_type": "markdown",
   "source": [
    "# Visualize Attention Score\n",
    "\n",
    "Attention score visualization for interpretability."
   ],
   "metadata": {
    "collapsed": false,
    "pycharm": {
     "name": "#%% md\n"
    }
   }
  },
  {
   "cell_type": "code",
   "execution_count": null,
   "outputs": [],
   "source": [
    "import torch\n",
    "import pickle\n",
    "import yaml\n",
    "from utils import ordered_yaml\n",
    "import plotly.graph_objects as go\n",
    "\n",
    "from pyhealth.tasks import (\n",
    "    drug_recommendation_mimic3_fn,\n",
    "    readmission_prediction_mimic3_fn,\n",
    "    mortality_prediction_mimic3_fn,\n",
    "    length_of_stay_prediction_mimic3_fn\n",
    ")\n",
    "\n",
    "from pyhealth.datasets import split_by_patient, get_dataloader, split_by_visit"
   ],
   "metadata": {
    "collapsed": false
   }
  },
  {
   "cell_type": "code",
   "execution_count": null,
   "outputs": [],
   "source": [
    "with open(\"./configs/GAT_MIMIC3.yml\", mode='r') as f:\n",
    "    loader, _ = ordered_yaml()\n",
    "    config = yaml.load(f, loader)\n"
   ],
   "metadata": {
    "collapsed": false,
    "pycharm": {
     "name": "#%%\n"
    }
   }
  },
  {
   "cell_type": "code",
   "execution_count": null,
   "outputs": [],
   "source": [
    "# Load mimic dataset\n",
    "with open(config[\"datasets\"][\"dataset_path\"], 'rb') as inp:\n",
    "    unp = pickle.Unpickler(inp)\n",
    "    mimic3base = unp.load()\n"
   ],
   "metadata": {
    "collapsed": false,
    "pycharm": {
     "name": "#%%\n"
    }
   }
  },
  {
   "cell_type": "code",
   "execution_count": null,
   "outputs": [],
   "source": [
    "sample_dataset = mimic3base.set_task(task_fn=readmission_prediction_mimic3_fn)\n",
    "del mimic3base"
   ],
   "metadata": {
    "collapsed": false
   }
  },
  {
   "cell_type": "code",
   "execution_count": 53,
   "outputs": [
    {
     "data": {
      "text/plain": "Graph(num_nodes={'concepts': 50, 'diagnosis': 6984, 'patient': 46520, 'prescription': 4204, 'procedure': 2032, 'visit': 58976},\n      num_edges={('concepts', 'newrelation', 'concepts'): 194, ('concepts', 'rev_newrelation', 'diagnosis'): 50, ('concepts', 'rev_newrelation', 'patient'): 50, ('concepts', 'rev_newrelation', 'prescription'): 50, ('concepts', 'rev_newrelation', 'procedure'): 50, ('concepts', 'rev_newrelation', 'visit'): 50, ('diagnosis', 'newrelation', 'concepts'): 50, ('diagnosis', 'rev_diagnosed', 'visit'): 651000, ('patient', 'makes', 'visit'): 58976, ('patient', 'newrelation', 'concepts'): 50, ('prescription', 'newrelation', 'concepts'): 50, ('prescription', 'rev_prescribed', 'visit'): 4151987, ('procedure', 'newrelation', 'concepts'): 50, ('procedure', 'rev_treated', 'visit'): 240095, ('visit', 'diagnosed', 'diagnosis'): 651000, ('visit', 'newrelation', 'concepts'): 50, ('visit', 'prescribed', 'prescription'): 4151987, ('visit', 'rev_makes', 'patient'): 58976, ('visit', 'treated', 'procedure'): 240095},\n      metagraph=[('concepts', 'concepts', 'newrelation'), ('concepts', 'diagnosis', 'rev_newrelation'), ('concepts', 'patient', 'rev_newrelation'), ('concepts', 'prescription', 'rev_newrelation'), ('concepts', 'procedure', 'rev_newrelation'), ('concepts', 'visit', 'rev_newrelation'), ('diagnosis', 'concepts', 'newrelation'), ('diagnosis', 'visit', 'rev_diagnosed'), ('patient', 'visit', 'makes'), ('patient', 'concepts', 'newrelation'), ('prescription', 'concepts', 'newrelation'), ('prescription', 'visit', 'rev_prescribed'), ('procedure', 'concepts', 'newrelation'), ('procedure', 'visit', 'rev_treated'), ('visit', 'diagnosis', 'diagnosed'), ('visit', 'concepts', 'newrelation'), ('visit', 'prescription', 'prescribed'), ('visit', 'patient', 'rev_makes'), ('visit', 'procedure', 'treated')])"
     },
     "execution_count": 53,
     "metadata": {},
     "output_type": "execute_result"
    }
   ],
   "source": [
    "# Load graph\n",
    "import pickle\n",
    "import dgl\n",
    "with open(\"checkpoints/GAT_MIMIC3_READM/graph_readm.pkl\", 'rb') as inp:\n",
    "    unp = pickle.Unpickler(inp)\n",
    "    # state_dict = torch.load(deepr_model_path, map_location=torch.device('cpu'))\n",
    "    g = unp.load()\n",
    "g\n"
   ],
   "metadata": {
    "collapsed": false,
    "pycharm": {
     "name": "#%%\n"
    },
    "ExecuteTime": {
     "end_time": "2024-01-27T08:08:43.914056200Z",
     "start_time": "2024-01-27T08:08:43.562173200Z"
    }
   }
  },
  {
   "cell_type": "markdown",
   "source": [],
   "metadata": {
    "collapsed": false,
    "pycharm": {
     "name": "#%% md\n"
    }
   }
  },
  {
   "cell_type": "code",
   "execution_count": 54,
   "outputs": [],
   "source": [
    "homo_g = dgl.to_homogeneous(g)"
   ],
   "metadata": {
    "collapsed": false,
    "ExecuteTime": {
     "end_time": "2024-01-27T08:08:47.234160700Z",
     "start_time": "2024-01-27T08:08:47.049790700Z"
    }
   }
  },
  {
   "cell_type": "code",
   "execution_count": 55,
   "outputs": [
    {
     "ename": "NameError",
     "evalue": "name 'sample_dataset' is not defined",
     "output_type": "error",
     "traceback": [
      "\u001B[0;31m---------------------------------------------------------------------------\u001B[0m",
      "\u001B[0;31mNameError\u001B[0m                                 Traceback (most recent call last)",
      "Cell \u001B[0;32mIn[55], line 2\u001B[0m\n\u001B[1;32m      1\u001B[0m \u001B[38;5;28;01mwith\u001B[39;00m \u001B[38;5;28mopen\u001B[39m(\u001B[38;5;124m'\u001B[39m\u001B[38;5;124m./checkpoints/GAT_MIMIC3_READM/readm_sample_dataset.pkl\u001B[39m\u001B[38;5;124m'\u001B[39m, \u001B[38;5;124m'\u001B[39m\u001B[38;5;124mwb\u001B[39m\u001B[38;5;124m'\u001B[39m) \u001B[38;5;28;01mas\u001B[39;00m outp:\n\u001B[0;32m----> 2\u001B[0m     pickle\u001B[38;5;241m.\u001B[39mdump(\u001B[43msample_dataset\u001B[49m, outp, pickle\u001B[38;5;241m.\u001B[39mHIGHEST_PROTOCOL)\n",
      "\u001B[0;31mNameError\u001B[0m: name 'sample_dataset' is not defined"
     ]
    }
   ],
   "source": [
    "with open('./checkpoints/GAT_MIMIC3_READM/readm_sample_dataset.pkl', 'wb') as outp:\n",
    "    pickle.dump(sample_dataset, outp, pickle.HIGHEST_PROTOCOL)"
   ],
   "metadata": {
    "collapsed": false,
    "ExecuteTime": {
     "end_time": "2024-01-27T08:08:48.687598100Z",
     "start_time": "2024-01-27T08:08:48.643628300Z"
    }
   }
  },
  {
   "cell_type": "code",
   "execution_count": 56,
   "outputs": [],
   "source": [
    "with open(\"./data/graphs/mimic3_dp_entity_mapping.pkl\", 'rb') as inp:\n",
    "    unp = pickle.Unpickler(inp)\n",
    "    # state_dict = torch.load(deepr_model_path, map_location=torch.device('cpu'))\n",
    "    entity_mapping = unp.load()\n"
   ],
   "metadata": {
    "collapsed": false,
    "pycharm": {
     "name": "#%%\n"
    },
    "ExecuteTime": {
     "end_time": "2024-01-27T08:08:49.479553700Z",
     "start_time": "2024-01-27T08:08:49.433945Z"
    }
   }
  },
  {
   "cell_type": "code",
   "execution_count": 57,
   "outputs": [],
   "source": [
    "with open(\"checkpoints/GAT_MIMIC3_READM/attention_score_readm.pkl\", 'rb') as inp:\n",
    "    unp = pickle.Unpickler(inp)\n",
    "    # state_dict = torch.load(deepr_model_path, map_location=torch.device('cpu'))\n",
    "    attn_score = unp.load().sum(1).squeeze()"
   ],
   "metadata": {
    "collapsed": false,
    "ExecuteTime": {
     "end_time": "2024-01-27T08:08:50.441649400Z",
     "start_time": "2024-01-27T08:08:50.398861400Z"
    }
   }
  },
  {
   "cell_type": "code",
   "execution_count": 58,
   "outputs": [],
   "source": [
    "with open(\"checkpoints/GAT_MIMIC3_READM/entity_mapping.pkl\", 'rb') as inp:\n",
    "    unp = pickle.Unpickler(inp)\n",
    "    # state_dict = torch.load(deepr_model_path, map_location=torch.device('cpu'))\n",
    "    entity_mapping = unp.load()"
   ],
   "metadata": {
    "collapsed": false,
    "ExecuteTime": {
     "end_time": "2024-01-27T08:08:51.321982400Z",
     "start_time": "2024-01-27T08:08:51.262819300Z"
    }
   }
  },
  {
   "cell_type": "code",
   "execution_count": 59,
   "outputs": [],
   "source": [
    "selected_etype_id = 5\n",
    "\n",
    "offset = 0\n",
    "for t in range(selected_etype_id):\n",
    "    temp = homo_g.edata[\"_ID\"][homo_g.edata[\"_TYPE\"] == t]\n",
    "    offset += len(temp)\n",
    "\n",
    "selected_eid = temp + offset"
   ],
   "metadata": {
    "collapsed": false,
    "pycharm": {
     "name": "#%%\n"
    },
    "ExecuteTime": {
     "end_time": "2024-01-27T08:08:51.920130300Z",
     "start_time": "2024-01-27T08:08:51.885213900Z"
    }
   }
  },
  {
   "cell_type": "code",
   "execution_count": 60,
   "outputs": [],
   "source": [
    "# temp = g.edata['a'].sum(1).squeeze()\n",
    "import torch\n",
    "top_scores, top_ind = torch.topk(attn_score[selected_eid], 10)"
   ],
   "metadata": {
    "collapsed": false,
    "ExecuteTime": {
     "end_time": "2024-01-27T08:08:52.810295500Z",
     "start_time": "2024-01-27T08:08:52.782290300Z"
    }
   }
  },
  {
   "cell_type": "code",
   "execution_count": 61,
   "outputs": [
    {
     "data": {
      "text/plain": "dict_keys(['patient', 'visit', 'diagnosis', 'procedure', 'prescription', 'concept'])"
     },
     "execution_count": 61,
     "metadata": {},
     "output_type": "execute_result"
    }
   ],
   "source": [
    "entity_mapping.keys()"
   ],
   "metadata": {
    "collapsed": false,
    "ExecuteTime": {
     "end_time": "2024-01-27T08:08:53.419772900Z",
     "start_time": "2024-01-27T08:08:53.399767900Z"
    }
   }
  },
  {
   "cell_type": "code",
   "execution_count": 62,
   "outputs": [
    {
     "data": {
      "text/plain": "tensor([24, 40, 25, 29, 33, 22, 36, 18, 11, 32])"
     },
     "execution_count": 62,
     "metadata": {},
     "output_type": "execute_result"
    }
   ],
   "source": [
    "top_ind"
   ],
   "metadata": {
    "collapsed": false,
    "ExecuteTime": {
     "end_time": "2024-01-27T08:08:56.870679600Z",
     "start_time": "2024-01-27T08:08:56.858677300Z"
    }
   }
  },
  {
   "cell_type": "code",
   "execution_count": 63,
   "outputs": [
    {
     "data": {
      "text/plain": "tensor([2.3722, 1.8626, 1.8581, 1.4850, 1.4055, 1.4028, 1.3670, 1.3250, 1.2928,\n        1.2590])"
     },
     "execution_count": 63,
     "metadata": {},
     "output_type": "execute_result"
    }
   ],
   "source": [
    "top_scores"
   ],
   "metadata": {
    "collapsed": false,
    "ExecuteTime": {
     "end_time": "2024-01-27T08:08:57.632163200Z",
     "start_time": "2024-01-27T08:08:57.584151600Z"
    }
   }
  },
  {
   "cell_type": "code",
   "execution_count": 64,
   "outputs": [],
   "source": [
    "h, t, eid  = g.edges(\"all\", etype=('visit', 'newrelation', 'concepts'))"
   ],
   "metadata": {
    "collapsed": false,
    "pycharm": {
     "name": "#%%\n"
    },
    "ExecuteTime": {
     "end_time": "2024-01-27T08:08:59.217660700Z",
     "start_time": "2024-01-27T08:08:59.201663300Z"
    }
   }
  },
  {
   "cell_type": "code",
   "execution_count": 65,
   "outputs": [
    {
     "data": {
      "text/plain": "tensor([11928,  5946, 25297,  2278, 57287, 23123,   393, 20831, 49121,   580])"
     },
     "execution_count": 65,
     "metadata": {},
     "output_type": "execute_result"
    }
   ],
   "source": [
    "h[torch.isin(eid, top_ind)]"
   ],
   "metadata": {
    "collapsed": false,
    "pycharm": {
     "name": "#%%\n"
    },
    "ExecuteTime": {
     "end_time": "2024-01-27T08:08:59.922379100Z",
     "start_time": "2024-01-27T08:08:59.880216Z"
    }
   }
  },
  {
   "cell_type": "code",
   "execution_count": 66,
   "outputs": [
    {
     "data": {
      "text/plain": "tensor([11, 18, 22, 24, 25, 29, 32, 33, 36, 40])"
     },
     "execution_count": 66,
     "metadata": {},
     "output_type": "execute_result"
    }
   ],
   "source": [
    "t[torch.isin(eid, top_ind)]"
   ],
   "metadata": {
    "collapsed": false,
    "pycharm": {
     "name": "#%%\n"
    },
    "ExecuteTime": {
     "end_time": "2024-01-27T08:09:00.681458300Z",
     "start_time": "2024-01-27T08:09:00.667363100Z"
    }
   }
  },
  {
   "cell_type": "code",
   "execution_count": 67,
   "outputs": [
    {
     "data": {
      "text/plain": "{'Anticoagulants': tensor(2.3722),\n 'Antihypertensives': tensor(1.8626),\n 'Arterial Blood Gases (ABG)': tensor(1.8581),\n 'Electrocardiogram (ECG)': tensor(1.4850),\n 'Chest X-Ray': tensor(1.4055),\n 'Microbiological Cultures': tensor(1.4028),\n 'Medical History': tensor(1.3670),\n 'Surgical History': tensor(1.3250),\n 'Acute Respiratory Distress Syndrome (ARDS)': tensor(1.2928),\n 'Chronic Kidney Disease': tensor(1.2590)}"
     },
     "execution_count": 67,
     "metadata": {},
     "output_type": "execute_result"
    }
   ],
   "source": [
    "rev_entity_mapping = {v:k for k, v in entity_mapping[\"concept\"].items()}\n",
    "top_concepts_and_scores = {}\n",
    "for i, c in enumerate(t[torch.isin(eid, top_ind)]):\n",
    "    top_concepts_and_scores.update({rev_entity_mapping[c.item()]: top_scores[i]})\n",
    "\n",
    "top_concepts_and_scores"
   ],
   "metadata": {
    "collapsed": false,
    "ExecuteTime": {
     "end_time": "2024-01-27T08:09:01.332187Z",
     "start_time": "2024-01-27T08:09:01.281304500Z"
    }
   }
  },
  {
   "cell_type": "code",
   "execution_count": 68,
   "outputs": [],
   "source": [
    "diag_dict = {v: k for k, v in entity_mapping[\"diagnosis\"].items()}"
   ],
   "metadata": {
    "collapsed": false,
    "pycharm": {
     "name": "#%%\n"
    },
    "ExecuteTime": {
     "end_time": "2024-01-27T08:09:02.114434100Z",
     "start_time": "2024-01-27T08:09:02.065407700Z"
    }
   }
  },
  {
   "cell_type": "code",
   "execution_count": 69,
   "outputs": [
    {
     "data": {
      "text/plain": "{'patient': {'10': 0,\n  '100': 1,\n  '1000': 2,\n  '10000': 3,\n  '10001': 4,\n  '10002': 5,\n  '10003': 6,\n  '10004': 7,\n  '10005': 8,\n  '10006': 9,\n  '10007': 10,\n  '10008': 11,\n  '10009': 12,\n  '1001': 13,\n  '10010': 14,\n  '10011': 15,\n  '10012': 16,\n  '10013': 17,\n  '10014': 18,\n  '10015': 19,\n  '10016': 20,\n  '10017': 21,\n  '10019': 22,\n  '1002': 23,\n  '10020': 24,\n  '10021': 25,\n  '10022': 26,\n  '10023': 27,\n  '10024': 28,\n  '10025': 29,\n  '10026': 30,\n  '10027': 31,\n  '10028': 32,\n  '10029': 33,\n  '1003': 34,\n  '10030': 35,\n  '10032': 36,\n  '10033': 37,\n  '10034': 38,\n  '10035': 39,\n  '10036': 40,\n  '10037': 41,\n  '10038': 42,\n  '10039': 43,\n  '1004': 44,\n  '10040': 45,\n  '10041': 46,\n  '10042': 47,\n  '10043': 48,\n  '10044': 49,\n  '10045': 50,\n  '10046': 51,\n  '10047': 52,\n  '10048': 53,\n  '10049': 54,\n  '1005': 55,\n  '10050': 56,\n  '10051': 57,\n  '10052': 58,\n  '10054': 59,\n  '10055': 60,\n  '10056': 61,\n  '10057': 62,\n  '10058': 63,\n  '10059': 64,\n  '1006': 65,\n  '10060': 66,\n  '10061': 67,\n  '10062': 68,\n  '10063': 69,\n  '10064': 70,\n  '10065': 71,\n  '10066': 72,\n  '10067': 73,\n  '10068': 74,\n  '10069': 75,\n  '1007': 76,\n  '10071': 77,\n  '10072': 78,\n  '10073': 79,\n  '10074': 80,\n  '10075': 81,\n  '10076': 82,\n  '10077': 83,\n  '10079': 84,\n  '1008': 85,\n  '10080': 86,\n  '10081': 87,\n  '10082': 88,\n  '10083': 89,\n  '10084': 90,\n  '10085': 91,\n  '10086': 92,\n  '10087': 93,\n  '10088': 94,\n  '10089': 95,\n  '1009': 96,\n  '10090': 97,\n  '10091': 98,\n  '10092': 99,\n  '10093': 100,\n  '10094': 101,\n  '10096': 102,\n  '10097': 103,\n  '10098': 104,\n  '10099': 105,\n  '101': 106,\n  '1010': 107,\n  '10100': 108,\n  '10101': 109,\n  '10102': 110,\n  '10103': 111,\n  '10104': 112,\n  '10105': 113,\n  '10106': 114,\n  '10107': 115,\n  '10108': 116,\n  '10109': 117,\n  '1011': 118,\n  '10110': 119,\n  '10111': 120,\n  '10112': 121,\n  '10113': 122,\n  '10114': 123,\n  '10115': 124,\n  '10116': 125,\n  '10117': 126,\n  '10118': 127,\n  '10119': 128,\n  '1012': 129,\n  '10120': 130,\n  '10121': 131,\n  '10122': 132,\n  '10123': 133,\n  '10124': 134,\n  '10125': 135,\n  '10126': 136,\n  '10127': 137,\n  '10128': 138,\n  '10129': 139,\n  '1013': 140,\n  '10130': 141,\n  '10131': 142,\n  '10132': 143,\n  '10133': 144,\n  '10134': 145,\n  '10135': 146,\n  '10136': 147,\n  '10137': 148,\n  '10138': 149,\n  '10139': 150,\n  '1014': 151,\n  '10140': 152,\n  '10141': 153,\n  '10142': 154,\n  '10143': 155,\n  '10144': 156,\n  '10145': 157,\n  '10146': 158,\n  '10147': 159,\n  '10148': 160,\n  '10149': 161,\n  '1015': 162,\n  '10150': 163,\n  '10152': 164,\n  '10153': 165,\n  '10154': 166,\n  '10155': 167,\n  '10156': 168,\n  '10158': 169,\n  '10159': 170,\n  '1016': 171,\n  '10160': 172,\n  '10161': 173,\n  '10162': 174,\n  '10163': 175,\n  '10164': 176,\n  '10165': 177,\n  '10166': 178,\n  '10167': 179,\n  '10168': 180,\n  '10169': 181,\n  '1017': 182,\n  '10170': 183,\n  '10171': 184,\n  '10172': 185,\n  '10173': 186,\n  '10174': 187,\n  '10175': 188,\n  '10176': 189,\n  '10177': 190,\n  '10179': 191,\n  '1018': 192,\n  '10180': 193,\n  '10181': 194,\n  '10182': 195,\n  '10184': 196,\n  '10185': 197,\n  '10186': 198,\n  '10187': 199,\n  '10188': 200,\n  '10189': 201,\n  '1019': 202,\n  '10190': 203,\n  '10191': 204,\n  '10192': 205,\n  '10193': 206,\n  '10194': 207,\n  '10195': 208,\n  '10196': 209,\n  '10197': 210,\n  '10198': 211,\n  '10199': 212,\n  '102': 213,\n  '1020': 214,\n  '10200': 215,\n  '10201': 216,\n  '10202': 217,\n  '10203': 218,\n  '10204': 219,\n  '10205': 220,\n  '10206': 221,\n  '10207': 222,\n  '10208': 223,\n  '10209': 224,\n  '1021': 225,\n  '10210': 226,\n  '10211': 227,\n  '10212': 228,\n  '10213': 229,\n  '10214': 230,\n  '10215': 231,\n  '10216': 232,\n  '10217': 233,\n  '10218': 234,\n  '10219': 235,\n  '1022': 236,\n  '10220': 237,\n  '10221': 238,\n  '10222': 239,\n  '10223': 240,\n  '10224': 241,\n  '10225': 242,\n  '10226': 243,\n  '10227': 244,\n  '10228': 245,\n  '10229': 246,\n  '1023': 247,\n  '10230': 248,\n  '10231': 249,\n  '10232': 250,\n  '10233': 251,\n  '10234': 252,\n  '10235': 253,\n  '10236': 254,\n  '10237': 255,\n  '10238': 256,\n  '10239': 257,\n  '1024': 258,\n  '10240': 259,\n  '10241': 260,\n  '10242': 261,\n  '10243': 262,\n  '10244': 263,\n  '10246': 264,\n  '10247': 265,\n  '10248': 266,\n  '10249': 267,\n  '1025': 268,\n  '10250': 269,\n  '10251': 270,\n  '10252': 271,\n  '10253': 272,\n  '10254': 273,\n  '10255': 274,\n  '10256': 275,\n  '10257': 276,\n  '10258': 277,\n  '10259': 278,\n  '1026': 279,\n  '10260': 280,\n  '10262': 281,\n  '10263': 282,\n  '10264': 283,\n  '10265': 284,\n  '10266': 285,\n  '10267': 286,\n  '10268': 287,\n  '10269': 288,\n  '1027': 289,\n  '10270': 290,\n  '10271': 291,\n  '10272': 292,\n  '10273': 293,\n  '10274': 294,\n  '10276': 295,\n  '10277': 296,\n  '10278': 297,\n  '1028': 298,\n  '10280': 299,\n  '10281': 300,\n  '10282': 301,\n  '10283': 302,\n  '10284': 303,\n  '10285': 304,\n  '10286': 305,\n  '10287': 306,\n  '10288': 307,\n  '10289': 308,\n  '1029': 309,\n  '10290': 310,\n  '10291': 311,\n  '10292': 312,\n  '10293': 313,\n  '10294': 314,\n  '10295': 315,\n  '10296': 316,\n  '10297': 317,\n  '10298': 318,\n  '10299': 319,\n  '103': 320,\n  '1030': 321,\n  '10300': 322,\n  '10301': 323,\n  '10302': 324,\n  '10303': 325,\n  '10304': 326,\n  '10305': 327,\n  '10307': 328,\n  '10308': 329,\n  '1031': 330,\n  '10310': 331,\n  '10311': 332,\n  '10312': 333,\n  '10313': 334,\n  '10314': 335,\n  '10315': 336,\n  '10316': 337,\n  '10317': 338,\n  '10318': 339,\n  '10319': 340,\n  '1032': 341,\n  '10320': 342,\n  '10321': 343,\n  '10322': 344,\n  '10323': 345,\n  '10324': 346,\n  '10325': 347,\n  '10326': 348,\n  '10327': 349,\n  '10328': 350,\n  '10329': 351,\n  '1033': 352,\n  '10330': 353,\n  '10331': 354,\n  '10332': 355,\n  '10333': 356,\n  '10334': 357,\n  '10335': 358,\n  '10336': 359,\n  '10337': 360,\n  '10338': 361,\n  '10339': 362,\n  '1034': 363,\n  '10340': 364,\n  '10341': 365,\n  '10342': 366,\n  '10343': 367,\n  '10344': 368,\n  '10345': 369,\n  '10346': 370,\n  '10347': 371,\n  '10348': 372,\n  '10349': 373,\n  '1035': 374,\n  '10350': 375,\n  '10351': 376,\n  '10352': 377,\n  '10353': 378,\n  '10354': 379,\n  '10355': 380,\n  '10356': 381,\n  '10357': 382,\n  '10358': 383,\n  '10359': 384,\n  '1036': 385,\n  '10360': 386,\n  '10361': 387,\n  '10363': 388,\n  '10364': 389,\n  '10365': 390,\n  '10366': 391,\n  '10367': 392,\n  '10368': 393,\n  '10369': 394,\n  '1037': 395,\n  '10370': 396,\n  '10371': 397,\n  '10372': 398,\n  '10373': 399,\n  '10374': 400,\n  '10375': 401,\n  '10376': 402,\n  '10377': 403,\n  '10378': 404,\n  '10379': 405,\n  '1038': 406,\n  '10380': 407,\n  '10381': 408,\n  '10384': 409,\n  '10385': 410,\n  '10386': 411,\n  '10387': 412,\n  '10388': 413,\n  '10389': 414,\n  '1039': 415,\n  '10390': 416,\n  '10391': 417,\n  '10392': 418,\n  '10393': 419,\n  '10394': 420,\n  '10395': 421,\n  '10396': 422,\n  '10397': 423,\n  '10398': 424,\n  '10399': 425,\n  '104': 426,\n  '1040': 427,\n  '10400': 428,\n  '10401': 429,\n  '10402': 430,\n  '10403': 431,\n  '10404': 432,\n  '10405': 433,\n  '10406': 434,\n  '10408': 435,\n  '10409': 436,\n  '1041': 437,\n  '10410': 438,\n  '10412': 439,\n  '10413': 440,\n  '10414': 441,\n  '10415': 442,\n  '10416': 443,\n  '10417': 444,\n  '10418': 445,\n  '10419': 446,\n  '1042': 447,\n  '10420': 448,\n  '10421': 449,\n  '10422': 450,\n  '10423': 451,\n  '10424': 452,\n  '10425': 453,\n  '10426': 454,\n  '10427': 455,\n  '10428': 456,\n  '10429': 457,\n  '1043': 458,\n  '10430': 459,\n  '10431': 460,\n  '10432': 461,\n  '10433': 462,\n  '10434': 463,\n  '10435': 464,\n  '10436': 465,\n  '10437': 466,\n  '10438': 467,\n  '10439': 468,\n  '1044': 469,\n  '10440': 470,\n  '10441': 471,\n  '10442': 472,\n  '10443': 473,\n  '10444': 474,\n  '10445': 475,\n  '10446': 476,\n  '10447': 477,\n  '10449': 478,\n  '1045': 479,\n  '10450': 480,\n  '10451': 481,\n  '10453': 482,\n  '10454': 483,\n  '10455': 484,\n  '10456': 485,\n  '10457': 486,\n  '10458': 487,\n  '10459': 488,\n  '1046': 489,\n  '10460': 490,\n  '10461': 491,\n  '10462': 492,\n  '10463': 493,\n  '10464': 494,\n  '10465': 495,\n  '10466': 496,\n  '10467': 497,\n  '10468': 498,\n  '10469': 499,\n  '1047': 500,\n  '10470': 501,\n  '10471': 502,\n  '10472': 503,\n  '10473': 504,\n  '10474': 505,\n  '10475': 506,\n  '10476': 507,\n  '10478': 508,\n  '10479': 509,\n  '1048': 510,\n  '10480': 511,\n  '10481': 512,\n  '10482': 513,\n  '10483': 514,\n  '10484': 515,\n  '10485': 516,\n  '10486': 517,\n  '10487': 518,\n  '10488': 519,\n  '10489': 520,\n  '1049': 521,\n  '10490': 522,\n  '10491': 523,\n  '10492': 524,\n  '10493': 525,\n  '10494': 526,\n  '10495': 527,\n  '10496': 528,\n  '10497': 529,\n  '10498': 530,\n  '10499': 531,\n  '105': 532,\n  '1050': 533,\n  '10500': 534,\n  '10501': 535,\n  '10502': 536,\n  '10503': 537,\n  '10504': 538,\n  '10505': 539,\n  '10506': 540,\n  '10507': 541,\n  '10508': 542,\n  '10509': 543,\n  '1051': 544,\n  '10510': 545,\n  '10511': 546,\n  '10512': 547,\n  '10513': 548,\n  '10514': 549,\n  '10515': 550,\n  '10516': 551,\n  '10518': 552,\n  '10519': 553,\n  '1052': 554,\n  '10520': 555,\n  '10521': 556,\n  '10522': 557,\n  '10523': 558,\n  '10524': 559,\n  '10525': 560,\n  '10526': 561,\n  '10527': 562,\n  '10528': 563,\n  '10529': 564,\n  '1053': 565,\n  '10530': 566,\n  '10531': 567,\n  '10532': 568,\n  '10533': 569,\n  '10534': 570,\n  '10535': 571,\n  '10536': 572,\n  '10538': 573,\n  '10539': 574,\n  '1054': 575,\n  '10540': 576,\n  '10541': 577,\n  '10542': 578,\n  '10543': 579,\n  '10544': 580,\n  '10545': 581,\n  '10546': 582,\n  '10547': 583,\n  '10548': 584,\n  '10549': 585,\n  '1055': 586,\n  '10550': 587,\n  '10551': 588,\n  '10552': 589,\n  '10553': 590,\n  '10554': 591,\n  '10555': 592,\n  '10556': 593,\n  '10558': 594,\n  '10559': 595,\n  '1056': 596,\n  '10560': 597,\n  '10561': 598,\n  '10562': 599,\n  '10563': 600,\n  '10564': 601,\n  '10565': 602,\n  '10566': 603,\n  '10567': 604,\n  '10568': 605,\n  '10569': 606,\n  '1057': 607,\n  '10571': 608,\n  '10572': 609,\n  '10573': 610,\n  '10575': 611,\n  '10576': 612,\n  '10577': 613,\n  '10578': 614,\n  '1058': 615,\n  '10580': 616,\n  '10581': 617,\n  '10582': 618,\n  '10583': 619,\n  '10584': 620,\n  '10585': 621,\n  '10586': 622,\n  '10587': 623,\n  '10588': 624,\n  '10589': 625,\n  '1059': 626,\n  '10590': 627,\n  '10591': 628,\n  '10592': 629,\n  '10593': 630,\n  '10594': 631,\n  '10595': 632,\n  '10596': 633,\n  '10597': 634,\n  '10598': 635,\n  '10599': 636,\n  '106': 637,\n  '1060': 638,\n  '10600': 639,\n  '10601': 640,\n  '10602': 641,\n  '10603': 642,\n  '10604': 643,\n  '10605': 644,\n  '10606': 645,\n  '10607': 646,\n  '10608': 647,\n  '10609': 648,\n  '1061': 649,\n  '10610': 650,\n  '10611': 651,\n  '10612': 652,\n  '10613': 653,\n  '10614': 654,\n  '10615': 655,\n  '10616': 656,\n  '10617': 657,\n  '10618': 658,\n  '1062': 659,\n  '10620': 660,\n  '10621': 661,\n  '10622': 662,\n  '10623': 663,\n  '10624': 664,\n  '10625': 665,\n  '10626': 666,\n  '10628': 667,\n  '10629': 668,\n  '1063': 669,\n  '10630': 670,\n  '10631': 671,\n  '10632': 672,\n  '10633': 673,\n  '10634': 674,\n  '10635': 675,\n  '10636': 676,\n  '10637': 677,\n  '10638': 678,\n  '10639': 679,\n  '10640': 680,\n  '10641': 681,\n  '10642': 682,\n  '10643': 683,\n  '10644': 684,\n  '10645': 685,\n  '10646': 686,\n  '10649': 687,\n  '1065': 688,\n  '10650': 689,\n  '10651': 690,\n  '10652': 691,\n  '10653': 692,\n  '10654': 693,\n  '10655': 694,\n  '10656': 695,\n  '10657': 696,\n  '10658': 697,\n  '10659': 698,\n  '1066': 699,\n  '10660': 700,\n  '10661': 701,\n  '10662': 702,\n  '10663': 703,\n  '10664': 704,\n  '10665': 705,\n  '10666': 706,\n  '10667': 707,\n  '10668': 708,\n  '10669': 709,\n  '1067': 710,\n  '10670': 711,\n  '10671': 712,\n  '10672': 713,\n  '10673': 714,\n  '10674': 715,\n  '10675': 716,\n  '10676': 717,\n  '10677': 718,\n  '10678': 719,\n  '10679': 720,\n  '1068': 721,\n  '10681': 722,\n  '10682': 723,\n  '10683': 724,\n  '10684': 725,\n  '10685': 726,\n  '10686': 727,\n  '10687': 728,\n  '10688': 729,\n  '10689': 730,\n  '1069': 731,\n  '10690': 732,\n  '10692': 733,\n  '10693': 734,\n  '10694': 735,\n  '10695': 736,\n  '10696': 737,\n  '10697': 738,\n  '10699': 739,\n  '107': 740,\n  '1070': 741,\n  '10701': 742,\n  '10702': 743,\n  '10703': 744,\n  '10704': 745,\n  '10705': 746,\n  '10706': 747,\n  '10707': 748,\n  '10709': 749,\n  '1071': 750,\n  '10710': 751,\n  '10712': 752,\n  '10714': 753,\n  '10715': 754,\n  '10716': 755,\n  '10717': 756,\n  '10718': 757,\n  '10719': 758,\n  '1072': 759,\n  '10720': 760,\n  '10721': 761,\n  '10722': 762,\n  '10723': 763,\n  '10724': 764,\n  '10725': 765,\n  '10726': 766,\n  '10727': 767,\n  '10728': 768,\n  '10729': 769,\n  '1073': 770,\n  '10730': 771,\n  '10731': 772,\n  '10732': 773,\n  '10733': 774,\n  '10734': 775,\n  '10735': 776,\n  '10736': 777,\n  '10738': 778,\n  '10739': 779,\n  '1074': 780,\n  '10740': 781,\n  '10741': 782,\n  '10742': 783,\n  '10743': 784,\n  '10744': 785,\n  '10745': 786,\n  '10746': 787,\n  '10747': 788,\n  '10748': 789,\n  '10749': 790,\n  '1075': 791,\n  '10750': 792,\n  '10751': 793,\n  '10752': 794,\n  '10753': 795,\n  '10754': 796,\n  '10755': 797,\n  '10756': 798,\n  '10757': 799,\n  '10758': 800,\n  '10759': 801,\n  '1076': 802,\n  '10760': 803,\n  '10761': 804,\n  '10762': 805,\n  '10763': 806,\n  '10764': 807,\n  '10765': 808,\n  '10766': 809,\n  '10767': 810,\n  '10768': 811,\n  '10769': 812,\n  '1077': 813,\n  '10770': 814,\n  '10771': 815,\n  '10772': 816,\n  '10773': 817,\n  '10774': 818,\n  '10776': 819,\n  '10777': 820,\n  '10779': 821,\n  '1078': 822,\n  '10780': 823,\n  '10781': 824,\n  '10782': 825,\n  '10783': 826,\n  '10784': 827,\n  '10785': 828,\n  '10786': 829,\n  '10788': 830,\n  '10789': 831,\n  '1079': 832,\n  '10791': 833,\n  '10792': 834,\n  '10793': 835,\n  '10794': 836,\n  '10795': 837,\n  '10796': 838,\n  '10797': 839,\n  '10798': 840,\n  '10799': 841,\n  '108': 842,\n  '1080': 843,\n  '10800': 844,\n  '10801': 845,\n  '10802': 846,\n  '10803': 847,\n  '10804': 848,\n  '10805': 849,\n  '10806': 850,\n  '10807': 851,\n  '10808': 852,\n  '10809': 853,\n  '1081': 854,\n  '10810': 855,\n  '10811': 856,\n  '10812': 857,\n  '10813': 858,\n  '10814': 859,\n  '10815': 860,\n  '10816': 861,\n  '10817': 862,\n  '10818': 863,\n  '1082': 864,\n  '10820': 865,\n  '10821': 866,\n  '10822': 867,\n  '10823': 868,\n  '10824': 869,\n  '10825': 870,\n  '10826': 871,\n  '10828': 872,\n  '10829': 873,\n  '1083': 874,\n  '10830': 875,\n  '10831': 876,\n  '10832': 877,\n  '10833': 878,\n  '10834': 879,\n  '10835': 880,\n  '10836': 881,\n  '10837': 882,\n  '10838': 883,\n  '10839': 884,\n  '1084': 885,\n  '10840': 886,\n  '10841': 887,\n  '10842': 888,\n  '10843': 889,\n  '10844': 890,\n  '10845': 891,\n  '10846': 892,\n  '10847': 893,\n  '10848': 894,\n  '10849': 895,\n  '1085': 896,\n  '10850': 897,\n  '10851': 898,\n  '10852': 899,\n  '10853': 900,\n  '10854': 901,\n  '10855': 902,\n  '10856': 903,\n  '10857': 904,\n  '10858': 905,\n  '10859': 906,\n  '1086': 907,\n  '10860': 908,\n  '10861': 909,\n  '10862': 910,\n  '10863': 911,\n  '10864': 912,\n  '10865': 913,\n  '10866': 914,\n  '10868': 915,\n  '10869': 916,\n  '1087': 917,\n  '10870': 918,\n  '10871': 919,\n  '10872': 920,\n  '10873': 921,\n  '10874': 922,\n  '10875': 923,\n  '10876': 924,\n  '10877': 925,\n  '10878': 926,\n  '10879': 927,\n  '1088': 928,\n  '10880': 929,\n  '10881': 930,\n  '10882': 931,\n  '10883': 932,\n  '10884': 933,\n  '10885': 934,\n  '10886': 935,\n  '10887': 936,\n  '10888': 937,\n  '10889': 938,\n  '1089': 939,\n  '10890': 940,\n  '10891': 941,\n  '10893': 942,\n  '10894': 943,\n  '10895': 944,\n  '10896': 945,\n  '10897': 946,\n  '10898': 947,\n  '10899': 948,\n  '109': 949,\n  '1090': 950,\n  '10900': 951,\n  '10901': 952,\n  '10902': 953,\n  '10903': 954,\n  '10904': 955,\n  '10905': 956,\n  '10906': 957,\n  '10907': 958,\n  '10908': 959,\n  '10909': 960,\n  '1091': 961,\n  '10910': 962,\n  '10911': 963,\n  '10912': 964,\n  '10914': 965,\n  '10915': 966,\n  '10916': 967,\n  '10917': 968,\n  '10918': 969,\n  '10919': 970,\n  '1092': 971,\n  '10920': 972,\n  '10921': 973,\n  '10922': 974,\n  '10923': 975,\n  '10924': 976,\n  '10925': 977,\n  '10926': 978,\n  '10928': 979,\n  '1093': 980,\n  '10931': 981,\n  '10932': 982,\n  '10933': 983,\n  '10934': 984,\n  '10935': 985,\n  '10936': 986,\n  '10937': 987,\n  '10938': 988,\n  '10939': 989,\n  '1094': 990,\n  '10940': 991,\n  '10941': 992,\n  '10942': 993,\n  '10943': 994,\n  '10944': 995,\n  '10945': 996,\n  '10946': 997,\n  '10947': 998,\n  '10948': 999,\n  ...},\n 'visit': {'197101': 0,\n  '190885': 1,\n  '168802': 2,\n  '102954': 3,\n  '194489': 4,\n  '156345': 5,\n  '160411': 6,\n  '122353': 7,\n  '169363': 8,\n  '189574': 9,\n  '127933': 10,\n  '152351': 11,\n  '119124': 12,\n  '106591': 13,\n  '172658': 14,\n  '164614': 15,\n  '184018': 16,\n  '133002': 17,\n  '192330': 18,\n  '125220': 19,\n  '146471': 20,\n  '184172': 21,\n  '141793': 22,\n  '145790': 23,\n  '197628': 24,\n  '106777': 25,\n  '117457': 26,\n  '153760': 27,\n  '115030': 28,\n  '156603': 29,\n  '108124': 30,\n  '143563': 31,\n  '154517': 32,\n  '174947': 33,\n  '164051': 34,\n  '156886': 35,\n  '190816': 36,\n  '135867': 37,\n  '196008': 38,\n  '138334': 39,\n  '116138': 40,\n  '117516': 41,\n  '111074': 42,\n  '101803': 43,\n  '110168': 44,\n  '153521': 45,\n  '128245': 46,\n  '136048': 47,\n  '112557': 48,\n  '186124': 49,\n  '153934': 50,\n  '149945': 51,\n  '182033': 52,\n  '170493': 53,\n  '192535': 54,\n  '188810': 55,\n  '147119': 56,\n  '117388': 57,\n  '197191': 58,\n  '138408': 59,\n  '138327': 60,\n  '147448': 61,\n  '160572': 62,\n  '149416': 63,\n  '110712': 64,\n  '172084': 65,\n  '117581': 66,\n  '113737': 67,\n  '151731': 68,\n  '134100': 69,\n  '127121': 70,\n  '134151': 71,\n  '171387': 72,\n  '100969': 73,\n  '187490': 74,\n  '114811': 75,\n  '192017': 76,\n  '174638': 77,\n  '139474': 78,\n  '179359': 79,\n  '150251': 80,\n  '135750': 81,\n  '148506': 82,\n  '176478': 83,\n  '173392': 84,\n  '101188': 85,\n  '110408': 86,\n  '134934': 87,\n  '161860': 88,\n  '156512': 89,\n  '145642': 90,\n  '169704': 91,\n  '126761': 92,\n  '178268': 93,\n  '172390': 94,\n  '133856': 95,\n  '190464': 96,\n  '120851': 97,\n  '117419': 98,\n  '132911': 99,\n  '184493': 100,\n  '122252': 101,\n  '146892': 102,\n  '195742': 103,\n  '174164': 104,\n  '170571': 105,\n  '169615': 106,\n  '113850': 107,\n  '128850': 108,\n  '161722': 109,\n  '161474': 110,\n  '163022': 111,\n  '113546': 112,\n  '167457': 113,\n  '193770': 114,\n  '111059': 115,\n  '141587': 116,\n  '167417': 117,\n  '199416': 118,\n  '198779': 119,\n  '141860': 120,\n  '129045': 121,\n  '197331': 122,\n  '131528': 123,\n  '125092': 124,\n  '106013': 125,\n  '111040': 126,\n  '183157': 127,\n  '149591': 128,\n  '180451': 129,\n  '118917': 130,\n  '130000': 131,\n  '155988': 132,\n  '112703': 133,\n  '132179': 134,\n  '171882': 135,\n  '160054': 136,\n  '134107': 137,\n  '104767': 138,\n  '175448': 139,\n  '155590': 140,\n  '185528': 141,\n  '127927': 142,\n  '159541': 143,\n  '113119': 144,\n  '164263': 145,\n  '167586': 146,\n  '177315': 147,\n  '165419': 148,\n  '121324': 149,\n  '115372': 150,\n  '149103': 151,\n  '142553': 152,\n  '155874': 153,\n  '121461': 154,\n  '133126': 155,\n  '159800': 156,\n  '130135': 157,\n  '106720': 158,\n  '189911': 159,\n  '185090': 160,\n  '195187': 161,\n  '107958': 162,\n  '116568': 163,\n  '177406': 164,\n  '159653': 165,\n  '121865': 166,\n  '169423': 167,\n  '184732': 168,\n  '174067': 169,\n  '138712': 170,\n  '152409': 171,\n  '107336': 172,\n  '129762': 173,\n  '106200': 174,\n  '187073': 175,\n  '198523': 176,\n  '166760': 177,\n  '132572': 178,\n  '159186': 179,\n  '107614': 180,\n  '159728': 181,\n  '175494': 182,\n  '136452': 183,\n  '106327': 184,\n  '114934': 185,\n  '155513': 186,\n  '107215': 187,\n  '195027': 188,\n  '108192': 189,\n  '171380': 190,\n  '135647': 191,\n  '137972': 192,\n  '108797': 193,\n  '197299': 194,\n  '106029': 195,\n  '145916': 196,\n  '141859': 197,\n  '115171': 198,\n  '136373': 199,\n  '153828': 200,\n  '192098': 201,\n  '185941': 202,\n  '164334': 203,\n  '114439': 204,\n  '174888': 205,\n  '172306': 206,\n  '184513': 207,\n  '151589': 208,\n  '195852': 209,\n  '141804': 210,\n  '117310': 211,\n  '100179': 212,\n  '122697': 213,\n  '130933': 214,\n  '162084': 215,\n  '132503': 216,\n  '119219': 217,\n  '152181': 218,\n  '130120': 219,\n  '100270': 220,\n  '118650': 221,\n  '114127': 222,\n  '136707': 223,\n  '132548': 224,\n  '115242': 225,\n  '145897': 226,\n  '129968': 227,\n  '147633': 228,\n  '179738': 229,\n  '177249': 230,\n  '186752': 231,\n  '123036': 232,\n  '111936': 233,\n  '175306': 234,\n  '167740': 235,\n  '105215': 236,\n  '133044': 237,\n  '147610': 238,\n  '115411': 239,\n  '114524': 240,\n  '113896': 241,\n  '193604': 242,\n  '173101': 243,\n  '197959': 244,\n  '128433': 245,\n  '112329': 246,\n  '166863': 247,\n  '120648': 248,\n  '104540': 249,\n  '123726': 250,\n  '103738': 251,\n  '191117': 252,\n  '174121': 253,\n  '128439': 254,\n  '157243': 255,\n  '128220': 256,\n  '182989': 257,\n  '185232': 258,\n  '106789': 259,\n  '131319': 260,\n  '178633': 261,\n  '130051': 262,\n  '120941': 263,\n  '147883': 264,\n  '153447': 265,\n  '197170': 266,\n  '153027': 267,\n  '174557': 268,\n  '180231': 269,\n  '116573': 270,\n  '113103': 271,\n  '149488': 272,\n  '193186': 273,\n  '111341': 274,\n  '160110': 275,\n  '112571': 276,\n  '117482': 277,\n  '123700': 278,\n  '106510': 279,\n  '119157': 280,\n  '185086': 281,\n  '169537': 282,\n  '186271': 283,\n  '112782': 284,\n  '154221': 285,\n  '159204': 286,\n  '194025': 287,\n  '182905': 288,\n  '167906': 289,\n  '139180': 290,\n  '106863': 291,\n  '191815': 292,\n  '126054': 293,\n  '108493': 294,\n  '170837': 295,\n  '113949': 296,\n  '195610': 297,\n  '110068': 298,\n  '173970': 299,\n  '105699': 300,\n  '139139': 301,\n  '160651': 302,\n  '135878': 303,\n  '100662': 304,\n  '109432': 305,\n  '146794': 306,\n  '194332': 307,\n  '143014': 308,\n  '194859': 309,\n  '180818': 310,\n  '164194': 311,\n  '120103': 312,\n  '114601': 313,\n  '135308': 314,\n  '145403': 315,\n  '151541': 316,\n  '145677': 317,\n  '126863': 318,\n  '180799': 319,\n  '137774': 320,\n  '113325': 321,\n  '163010': 322,\n  '186838': 323,\n  '178215': 324,\n  '105861': 325,\n  '127554': 326,\n  '150181': 327,\n  '176466': 328,\n  '140335': 329,\n  '113882': 330,\n  '178455': 331,\n  '106665': 332,\n  '122449': 333,\n  '103293': 334,\n  '106949': 335,\n  '159427': 336,\n  '113937': 337,\n  '109669': 338,\n  '187808': 339,\n  '184815': 340,\n  '104340': 341,\n  '157794': 342,\n  '103975': 343,\n  '170845': 344,\n  '171653': 345,\n  '189689': 346,\n  '101031': 347,\n  '191442': 348,\n  '133349': 349,\n  '103761': 350,\n  '186386': 351,\n  '111223': 352,\n  '173820': 353,\n  '128964': 354,\n  '117345': 355,\n  '173685': 356,\n  '110228': 357,\n  '163559': 358,\n  '105979': 359,\n  '167500': 360,\n  '172168': 361,\n  '130185': 362,\n  '143409': 363,\n  '167031': 364,\n  '152478': 365,\n  '151905': 366,\n  '150277': 367,\n  '181405': 368,\n  '198603': 369,\n  '137645': 370,\n  '146604': 371,\n  '100686': 372,\n  '131815': 373,\n  '134615': 374,\n  '182869': 375,\n  '164452': 376,\n  '139367': 377,\n  '180931': 378,\n  '119476': 379,\n  '156768': 380,\n  '135772': 381,\n  '158722': 382,\n  '185731': 383,\n  '109780': 384,\n  '168460': 385,\n  '198253': 386,\n  '122267': 387,\n  '171726': 388,\n  '140563': 389,\n  '134435': 390,\n  '155311': 391,\n  '142206': 392,\n  '137660': 393,\n  '199225': 394,\n  '147449': 395,\n  '180828': 396,\n  '124603': 397,\n  '183742': 398,\n  '171317': 399,\n  '119862': 400,\n  '174114': 401,\n  '133342': 402,\n  '167919': 403,\n  '103365': 404,\n  '121856': 405,\n  '108813': 406,\n  '107896': 407,\n  '100647': 408,\n  '192721': 409,\n  '150933': 410,\n  '143929': 411,\n  '147055': 412,\n  '166937': 413,\n  '168673': 414,\n  '124707': 415,\n  '142356': 416,\n  '181306': 417,\n  '179233': 418,\n  '105949': 419,\n  '112506': 420,\n  '187304': 421,\n  '136051': 422,\n  '148309': 423,\n  '195554': 424,\n  '139634': 425,\n  '104051': 426,\n  '186989': 427,\n  '140777': 428,\n  '169187': 429,\n  '122672': 430,\n  '175767': 431,\n  '122179': 432,\n  '155342': 433,\n  '186809': 434,\n  '185208': 435,\n  '161389': 436,\n  '122090': 437,\n  '177469': 438,\n  '183991': 439,\n  '137066': 440,\n  '113135': 441,\n  '188956': 442,\n  '130874': 443,\n  '157887': 444,\n  '162930': 445,\n  '130818': 446,\n  '102768': 447,\n  '136772': 448,\n  '175646': 449,\n  '174041': 450,\n  '197541': 451,\n  '169312': 452,\n  '183626': 453,\n  '153410': 454,\n  '168794': 455,\n  '123656': 456,\n  '102579': 457,\n  '117622': 458,\n  '174744': 459,\n  '180080': 460,\n  '166782': 461,\n  '188254': 462,\n  '125401': 463,\n  '183648': 464,\n  '110589': 465,\n  '111099': 466,\n  '166189': 467,\n  '148880': 468,\n  '114307': 469,\n  '170474': 470,\n  '108433': 471,\n  '109045': 472,\n  '115090': 473,\n  '101165': 474,\n  '184545': 475,\n  '172132': 476,\n  '102318': 477,\n  '146789': 478,\n  '176700': 479,\n  '185115': 480,\n  '124695': 481,\n  '142095': 482,\n  '118421': 483,\n  '155866': 484,\n  '154061': 485,\n  '170509': 486,\n  '156209': 487,\n  '175839': 488,\n  '190446': 489,\n  '197206': 490,\n  '127724': 491,\n  '124821': 492,\n  '125267': 493,\n  '150358': 494,\n  '184055': 495,\n  '177506': 496,\n  '196405': 497,\n  '148883': 498,\n  '129697': 499,\n  '124064': 500,\n  '116570': 501,\n  '120932': 502,\n  '187899': 503,\n  '156556': 504,\n  '169670': 505,\n  '115004': 506,\n  '153898': 507,\n  '153645': 508,\n  '141383': 509,\n  '102486': 510,\n  '135801': 511,\n  '160001': 512,\n  '171521': 513,\n  '164191': 514,\n  '182768': 515,\n  '102314': 516,\n  '134608': 517,\n  '195272': 518,\n  '157906': 519,\n  '198434': 520,\n  '141992': 521,\n  '105689': 522,\n  '106218': 523,\n  '131048': 524,\n  '196883': 525,\n  '144739': 526,\n  '107886': 527,\n  '130213': 528,\n  '172851': 529,\n  '148282': 530,\n  '160953': 531,\n  '148278': 532,\n  '153540': 533,\n  '101003': 534,\n  '193004': 535,\n  '191985': 536,\n  '195126': 537,\n  '127644': 538,\n  '153408': 539,\n  '181946': 540,\n  '171177': 541,\n  '130861': 542,\n  '183745': 543,\n  '146512': 544,\n  '198289': 545,\n  '148440': 546,\n  '160489': 547,\n  '144279': 548,\n  '127430': 549,\n  '131259': 550,\n  '123996': 551,\n  '154008': 552,\n  '196539': 553,\n  '185643': 554,\n  '145058': 555,\n  '101841': 556,\n  '122025': 557,\n  '106505': 558,\n  '134783': 559,\n  '174351': 560,\n  '147846': 561,\n  '181434': 562,\n  '142036': 563,\n  '106778': 564,\n  '164360': 565,\n  '167305': 566,\n  '172756': 567,\n  '176286': 568,\n  '134073': 569,\n  '178358': 570,\n  '183504': 571,\n  '109176': 572,\n  '155343': 573,\n  '189140': 574,\n  '187189': 575,\n  '197663': 576,\n  '179437': 577,\n  '141603': 578,\n  '167640': 579,\n  '141453': 580,\n  '132590': 581,\n  '119710': 582,\n  '128829': 583,\n  '167535': 584,\n  '132282': 585,\n  '114738': 586,\n  '151107': 587,\n  '161362': 588,\n  '119136': 589,\n  '122269': 590,\n  '168170': 591,\n  '166694': 592,\n  '198796': 593,\n  '108998': 594,\n  '124785': 595,\n  '170906': 596,\n  '167756': 597,\n  '135739': 598,\n  '199662': 599,\n  '108891': 600,\n  '143530': 601,\n  '145602': 602,\n  '109951': 603,\n  '199113': 604,\n  '108957': 605,\n  '159907': 606,\n  '118471': 607,\n  '121803': 608,\n  '136946': 609,\n  '104168': 610,\n  '112693': 611,\n  '115704': 612,\n  '155684': 613,\n  '147338': 614,\n  '177744': 615,\n  '121743': 616,\n  '131173': 617,\n  '117999': 618,\n  '115579': 619,\n  '198299': 620,\n  '107375': 621,\n  '153838': 622,\n  '175143': 623,\n  '101945': 624,\n  '110209': 625,\n  '118163': 626,\n  '146620': 627,\n  '197264': 628,\n  '144665': 629,\n  '160068': 630,\n  '127492': 631,\n  '142132': 632,\n  '193189': 633,\n  '106966': 634,\n  '178844': 635,\n  '118033': 636,\n  '105252': 637,\n  '167816': 638,\n  '165968': 639,\n  '165325': 640,\n  '178189': 641,\n  '162309': 642,\n  '168463': 643,\n  '173801': 644,\n  '166324': 645,\n  '115736': 646,\n  '182091': 647,\n  '173990': 648,\n  '161384': 649,\n  '177386': 650,\n  '112714': 651,\n  '150742': 652,\n  '166395': 653,\n  '124735': 654,\n  '147561': 655,\n  '196922': 656,\n  '169244': 657,\n  '198138': 658,\n  '181737': 659,\n  '176592': 660,\n  '141762': 661,\n  '113932': 662,\n  '160459': 663,\n  '151953': 664,\n  '110476': 665,\n  '168675': 666,\n  '128649': 667,\n  '155441': 668,\n  '129188': 669,\n  '146798': 670,\n  '174797': 671,\n  '180358': 672,\n  '103467': 673,\n  '132878': 674,\n  '120801': 675,\n  '166544': 676,\n  '141773': 677,\n  '120511': 678,\n  '183532': 679,\n  '150850': 680,\n  '138518': 681,\n  '106602': 682,\n  '181508': 683,\n  '168355': 684,\n  '138159': 685,\n  '178085': 686,\n  '105665': 687,\n  '166236': 688,\n  '135412': 689,\n  '199213': 690,\n  '144024': 691,\n  '173476': 692,\n  '109378': 693,\n  '192923': 694,\n  '122815': 695,\n  '178016': 696,\n  '193221': 697,\n  '118662': 698,\n  '103620': 699,\n  '151131': 700,\n  '194810': 701,\n  '180239': 702,\n  '146319': 703,\n  '103010': 704,\n  '120139': 705,\n  '172437': 706,\n  '127232': 707,\n  '183434': 708,\n  '178349': 709,\n  '147678': 710,\n  '121839': 711,\n  '192961': 712,\n  '120124': 713,\n  '178333': 714,\n  '168420': 715,\n  '100871': 716,\n  '170175': 717,\n  '175659': 718,\n  '173522': 719,\n  '195900': 720,\n  '124926': 721,\n  '164627': 722,\n  '185979': 723,\n  '144534': 724,\n  '159038': 725,\n  '146565': 726,\n  '119902': 727,\n  '104878': 728,\n  '148804': 729,\n  '197276': 730,\n  '130595': 731,\n  '176919': 732,\n  '109255': 733,\n  '115658': 734,\n  '158856': 735,\n  '131624': 736,\n  '110888': 737,\n  '123465': 738,\n  '198974': 739,\n  '123305': 740,\n  '125839': 741,\n  '188358': 742,\n  '175121': 743,\n  '160884': 744,\n  '173305': 745,\n  '174467': 746,\n  '109439': 747,\n  '123723': 748,\n  '183359': 749,\n  '150489': 750,\n  '134562': 751,\n  '181539': 752,\n  '122679': 753,\n  '138750': 754,\n  '130611': 755,\n  '108816': 756,\n  '163349': 757,\n  '139716': 758,\n  '153403': 759,\n  '159325': 760,\n  '102444': 761,\n  '196087': 762,\n  '139584': 763,\n  '191350': 764,\n  '186194': 765,\n  '150309': 766,\n  '158236': 767,\n  '196850': 768,\n  '169333': 769,\n  '117208': 770,\n  '130253': 771,\n  '131948': 772,\n  '189858': 773,\n  '102088': 774,\n  '138752': 775,\n  '198083': 776,\n  '149950': 777,\n  '129046': 778,\n  '134879': 779,\n  '127244': 780,\n  '175734': 781,\n  '129164': 782,\n  '128535': 783,\n  '114058': 784,\n  '151367': 785,\n  '120740': 786,\n  '173769': 787,\n  '108809': 788,\n  '181960': 789,\n  '178571': 790,\n  '186463': 791,\n  '118689': 792,\n  '152180': 793,\n  '179679': 794,\n  '104816': 795,\n  '166072': 796,\n  '108910': 797,\n  '150982': 798,\n  '157924': 799,\n  '147537': 800,\n  '139093': 801,\n  '102955': 802,\n  '107762': 803,\n  '155688': 804,\n  '150707': 805,\n  '170872': 806,\n  '128714': 807,\n  '119778': 808,\n  '179017': 809,\n  '131162': 810,\n  '157967': 811,\n  '112027': 812,\n  '160186': 813,\n  '108588': 814,\n  '171431': 815,\n  '149865': 816,\n  '113934': 817,\n  '118408': 818,\n  '139338': 819,\n  '174201': 820,\n  '151723': 821,\n  '153789': 822,\n  '137809': 823,\n  '185737': 824,\n  '100059': 825,\n  '187817': 826,\n  '117669': 827,\n  '103071': 828,\n  '180441': 829,\n  '141295': 830,\n  '164070': 831,\n  '190187': 832,\n  '124362': 833,\n  '195341': 834,\n  '102605': 835,\n  '189846': 836,\n  '143040': 837,\n  '133533': 838,\n  '174274': 839,\n  '142294': 840,\n  '166166': 841,\n  '167674': 842,\n  '176973': 843,\n  '137222': 844,\n  '108143': 845,\n  '157936': 846,\n  '115003': 847,\n  '173894': 848,\n  '182149': 849,\n  '127586': 850,\n  '120366': 851,\n  '124714': 852,\n  '177056': 853,\n  '110726': 854,\n  '191710': 855,\n  '168829': 856,\n  '116505': 857,\n  '122807': 858,\n  '114060': 859,\n  '168466': 860,\n  '175778': 861,\n  '124379': 862,\n  '175440': 863,\n  '120094': 864,\n  '137559': 865,\n  '197778': 866,\n  '141083': 867,\n  '127789': 868,\n  '142145': 869,\n  '114178': 870,\n  '195969': 871,\n  '126240': 872,\n  '150276': 873,\n  '149796': 874,\n  '105322': 875,\n  '115139': 876,\n  '122321': 877,\n  '192918': 878,\n  '135615': 879,\n  '115542': 880,\n  '120358': 881,\n  '107153': 882,\n  '113868': 883,\n  '162531': 884,\n  '129710': 885,\n  '128415': 886,\n  '128204': 887,\n  '198170': 888,\n  '153650': 889,\n  '162967': 890,\n  '156448': 891,\n  '166747': 892,\n  '104140': 893,\n  '164325': 894,\n  '182167': 895,\n  '151311': 896,\n  '146339': 897,\n  '134791': 898,\n  '129912': 899,\n  '159054': 900,\n  '167679': 901,\n  '168419': 902,\n  '136075': 903,\n  '109613': 904,\n  '120800': 905,\n  '133296': 906,\n  '163819': 907,\n  '113354': 908,\n  '151469': 909,\n  '152373': 910,\n  '119325': 911,\n  '197272': 912,\n  '121604': 913,\n  '165578': 914,\n  '106100': 915,\n  '147521': 916,\n  '143541': 917,\n  '128725': 918,\n  '171267': 919,\n  '186882': 920,\n  '112426': 921,\n  '180922': 922,\n  '128012': 923,\n  '126608': 924,\n  '192374': 925,\n  '138477': 926,\n  '125591': 927,\n  '151749': 928,\n  '159523': 929,\n  '171237': 930,\n  '156946': 931,\n  '199409': 932,\n  '165408': 933,\n  '168661': 934,\n  '115834': 935,\n  '181341': 936,\n  '127166': 937,\n  '100346': 938,\n  '191761': 939,\n  '182957': 940,\n  '111911': 941,\n  '126256': 942,\n  '166136': 943,\n  '101543': 944,\n  '155463': 945,\n  '122118': 946,\n  '122413': 947,\n  '180673': 948,\n  '121138': 949,\n  '150259': 950,\n  '121504': 951,\n  '158281': 952,\n  '144799': 953,\n  '181829': 954,\n  '159111': 955,\n  '134158': 956,\n  '151604': 957,\n  '121907': 958,\n  '154742': 959,\n  '168522': 960,\n  '185774': 961,\n  '137651': 962,\n  '121180': 963,\n  '168653': 964,\n  '169240': 965,\n  '186107': 966,\n  '143639': 967,\n  '187320': 968,\n  '129421': 969,\n  '198384': 970,\n  '151398': 971,\n  '179621': 972,\n  '187938': 973,\n  '194872': 974,\n  '125889': 975,\n  '108655': 976,\n  '180664': 977,\n  '123592': 978,\n  '104678': 979,\n  '182150': 980,\n  '167943': 981,\n  '101046': 982,\n  '192151': 983,\n  '130186': 984,\n  '185183': 985,\n  '195616': 986,\n  '115958': 987,\n  '101663': 988,\n  '129665': 989,\n  '189331': 990,\n  '106809': 991,\n  '169392': 992,\n  '152895': 993,\n  '183528': 994,\n  '170958': 995,\n  '137189': 996,\n  '172469': 997,\n  '147288': 998,\n  '126068': 999,\n  ...},\n 'diagnosis': {'7731': 0,\n  '46431': 1,\n  '36252': 2,\n  '82130': 3,\n  '99562': 4,\n  '85146': 5,\n  '7861': 6,\n  '52310': 7,\n  'V291': 8,\n  '76383': 9,\n  '81322': 10,\n  '57410': 11,\n  'V290': 12,\n  '3732': 13,\n  '4749': 14,\n  '2773': 15,\n  '3481': 16,\n  '3897': 17,\n  '43889': 18,\n  '1963': 19,\n  'E9507': 20,\n  '7908': 21,\n  '9599': 22,\n  '6221': 23,\n  'E8495': 24,\n  '4260': 25,\n  '7289': 26,\n  'V453': 27,\n  '2449': 28,\n  'V789': 29,\n  'V6142': 30,\n  '99801': 31,\n  '87201': 32,\n  '99591': 33,\n  'V4284': 34,\n  '6962': 35,\n  '3910': 36,\n  '00861': 37,\n  '76077': 38,\n  '1519': 39,\n  'V5481': 40,\n  '85121': 41,\n  'E9457': 42,\n  '58189': 43,\n  '79439': 44,\n  '37300': 45,\n  '35801': 46,\n  '90451': 47,\n  '37955': 48,\n  '65641': 49,\n  '1808': 50,\n  '36523': 51,\n  '36189': 52,\n  '8300': 53,\n  '5821': 54,\n  'V0991': 55,\n  '75555': 56,\n  '56961': 57,\n  '64862': 58,\n  '34620': 59,\n  '1920': 60,\n  '86603': 61,\n  '73712': 62,\n  '83500': 63,\n  'V536': 64,\n  '71913': 65,\n  'V708': 66,\n  '71238': 67,\n  '8281': 68,\n  '74769': 69,\n  '33399': 70,\n  '81323': 71,\n  '1809': 72,\n  '64934': 73,\n  '1641': 74,\n  '1489': 75,\n  '3911': 76,\n  '79589': 77,\n  '3315': 78,\n  '3570': 79,\n  'E8132': 80,\n  'E9538': 81,\n  '7823': 82,\n  '81305': 83,\n  'V138': 84,\n  '5183': 85,\n  '6826': 86,\n  '7458': 87,\n  '5994': 88,\n  '30501': 89,\n  'V4365': 90,\n  '72293': 91,\n  '71598': 92,\n  '36101': 93,\n  '7571': 94,\n  '78002': 95,\n  '76076': 96,\n  '2148': 97,\n  '30752': 98,\n  'E9225': 99,\n  '20158': 100,\n  '9051': 101,\n  '6191': 102,\n  '59011': 103,\n  '34510': 104,\n  '8460': 105,\n  '8242': 106,\n  '66531': 107,\n  '6183': 108,\n  '85316': 109,\n  'V071': 110,\n  '01304': 111,\n  '99631': 112,\n  '3619': 113,\n  '1727': 114,\n  '71950': 115,\n  '7907': 116,\n  '80639': 117,\n  'E8133': 118,\n  '01205': 119,\n  '6264': 120,\n  '44489': 121,\n  '6009': 122,\n  '76494': 123,\n  '37700': 124,\n  '2669': 125,\n  '65963': 126,\n  '4848': 127,\n  '2511': 128,\n  'E9318': 129,\n  '20412': 130,\n  '9102': 131,\n  '55129': 132,\n  '79510': 133,\n  '3330': 134,\n  '74912': 135,\n  '32351': 136,\n  '1429': 137,\n  '7755': 138,\n  'V0950': 139,\n  '41002': 140,\n  '82532': 141,\n  '5244': 142,\n  '52108': 143,\n  '85256': 144,\n  '7522': 145,\n  '59659': 146,\n  '6031': 147,\n  '632': 148,\n  '34691': 149,\n  '82310': 150,\n  '9198': 151,\n  '1548': 152,\n  '56481': 153,\n  '80021': 154,\n  '47820': 155,\n  '6262': 156,\n  'E9809': 157,\n  '38910': 158,\n  '0993': 159,\n  '4870': 160,\n  '87342': 161,\n  '2890': 162,\n  '2726': 163,\n  '74761': 164,\n  '68102': 165,\n  '5269': 166,\n  '96502': 167,\n  '37775': 168,\n  '3553': 169,\n  '81600': 170,\n  '47829': 171,\n  '5568': 172,\n  '80174': 173,\n  '73301': 174,\n  'V1002': 175,\n  '9108': 176,\n  '1461': 177,\n  '2911': 178,\n  'V1541': 179,\n  '2753': 180,\n  '24981': 181,\n  '71504': 182,\n  '20382': 183,\n  '9696': 184,\n  '5130': 185,\n  '2713': 186,\n  '53261': 187,\n  'V741': 188,\n  '64251': 189,\n  '38917': 190,\n  '05889': 191,\n  '217': 192,\n  '44773': 193,\n  '4275': 194,\n  '5829': 195,\n  '2130': 196,\n  '72409': 197,\n  '78053': 198,\n  '85135': 199,\n  '9104': 200,\n  '75521': 201,\n  'E9380': 202,\n  '1479': 203,\n  '51853': 204,\n  '74922': 205,\n  '73019': 206,\n  '7512': 207,\n  '36910': 208,\n  '36284': 209,\n  '57431': 210,\n  '4550': 211,\n  '80151': 212,\n  '95207': 213,\n  '80161': 214,\n  '38300': 215,\n  '5952': 216,\n  '78443': 217,\n  '45376': 218,\n  'V169': 219,\n  '5401': 220,\n  '5169': 221,\n  '53201': 222,\n  '7358': 223,\n  '5122': 224,\n  '4820': 225,\n  '48230': 226,\n  '5233': 227,\n  '6116': 228,\n  'E9580': 229,\n  'V4614': 230,\n  '2939': 231,\n  '096': 232,\n  '80325': 233,\n  'E915': 234,\n  '75269': 235,\n  '80341': 236,\n  'V230': 237,\n  '412': 238,\n  '2558': 239,\n  'E8853': 240,\n  '28260': 241,\n  '27709': 242,\n  '64623': 243,\n  '25208': 244,\n  '45910': 245,\n  '7539': 246,\n  '1589': 247,\n  '3555': 248,\n  '81352': 249,\n  '37603': 250,\n  'V5423': 251,\n  '73349': 252,\n  '3941': 253,\n  '5234': 254,\n  'V5849': 255,\n  '2720': 256,\n  '7912': 257,\n  'V1309': 258,\n  '82520': 259,\n  '64831': 260,\n  '80625': 261,\n  '3970': 262,\n  '71615': 263,\n  '35789': 264,\n  '1530': 265,\n  'E975': 266,\n  '81351': 267,\n  '74429': 268,\n  '99772': 269,\n  '1764': 270,\n  '7670': 271,\n  'V3101': 272,\n  '61804': 273,\n  '47824': 274,\n  'V556': 275,\n  '75169': 276,\n  '5192': 277,\n  '0979': 278,\n  '7242': 279,\n  '0039': 280,\n  '82331': 281,\n  '3950': 282,\n  '3343': 283,\n  '42682': 284,\n  '1700': 285,\n  '38201': 286,\n  '3649': 287,\n  'V1061': 288,\n  '9610': 289,\n  '71597': 290,\n  'V652': 291,\n  '70722': 292,\n  '5285': 293,\n  '85196': 294,\n  '59800': 295,\n  '73028': 296,\n  'E9479': 297,\n  'E9340': 298,\n  '6232': 299,\n  '1629': 300,\n  '45621': 301,\n  '7210': 302,\n  '34481': 303,\n  'E9678': 304,\n  '53082': 305,\n  '5772': 306,\n  'V163': 307,\n  '4358': 308,\n  'E9364': 309,\n  '5933': 310,\n  '9046': 311,\n  'V4511': 312,\n  '7463': 313,\n  '1103': 314,\n  '73088': 315,\n  '7881': 316,\n  '2155': 317,\n  '2381': 318,\n  '3081': 319,\n  '20402': 320,\n  '38900': 321,\n  '38860': 322,\n  '80332': 323,\n  '74569': 324,\n  '60091': 325,\n  '2143': 326,\n  '2164': 327,\n  '74489': 328,\n  'V4572': 329,\n  '30410': 330,\n  '96972': 331,\n  '7388': 332,\n  '7534': 333,\n  '2989': 334,\n  '70714': 335,\n  '09152': 336,\n  '7350': 337,\n  '32361': 338,\n  '7786': 339,\n  '33520': 340,\n  'E9600': 341,\n  '72665': 342,\n  '07819': 343,\n  '9729': 344,\n  '05313': 345,\n  '9948': 346,\n  '95909': 347,\n  '37430': 348,\n  '53012': 349,\n  '71233': 350,\n  '30521': 351,\n  '80710': 352,\n  '72740': 353,\n  '90234': 354,\n  '86601': 355,\n  '4419': 356,\n  '64881': 357,\n  '47825': 358,\n  '40403': 359,\n  '45384': 360,\n  '38420': 361,\n  '1965': 362,\n  '4738': 363,\n  '33385': 364,\n  '78834': 365,\n  '81602': 366,\n  '3349': 367,\n  'E8120': 368,\n  'V4962': 369,\n  '74511': 370,\n  '179': 371,\n  '9164': 372,\n  '63451': 373,\n  'E8541': 374,\n  '52689': 375,\n  '9341': 376,\n  'V271': 377,\n  '30150': 378,\n  '42833': 379,\n  '42769': 380,\n  '7780': 381,\n  'E9317': 382,\n  '1572': 383,\n  '81002': 384,\n  'V4588': 385,\n  '52579': 386,\n  '7916': 387,\n  'V0382': 388,\n  '9500': 389,\n  '20979': 390,\n  'E0299': 391,\n  '04104': 392,\n  'E9583': 393,\n  'V1381': 394,\n  '4264': 395,\n  '77431': 396,\n  '11281': 397,\n  '37855': 398,\n  '7864': 399,\n  '71213': 400,\n  '76389': 401,\n  '2866': 402,\n  '53781': 403,\n  '55329': 404,\n  '28319': 405,\n  '37611': 406,\n  '71888': 407,\n  '40400': 408,\n  '29211': 409,\n  'E9387': 410,\n  '3551': 411,\n  '04149': 412,\n  '9693': 413,\n  'V8401': 414,\n  '80426': 415,\n  '86342': 416,\n  '85145': 417,\n  'E8146': 418,\n  '7850': 419,\n  '44322': 420,\n  'E9451': 421,\n  '9664': 422,\n  '8500': 423,\n  '1748': 424,\n  'V641': 425,\n  '9559': 426,\n  '8261': 427,\n  '87363': 428,\n  '86419': 429,\n  '45372': 430,\n  '2706': 431,\n  '72761': 432,\n  'E8846': 433,\n  '99762': 434,\n  '60782': 435,\n  '2373': 436,\n  '0400': 437,\n  '6011': 438,\n  '20936': 439,\n  '2410': 440,\n  '36213': 441,\n  '7380': 442,\n  '72882': 443,\n  '2448': 444,\n  '60011': 445,\n  '60889': 446,\n  '45351': 447,\n  '37739': 448,\n  '6023': 449,\n  '76495': 450,\n  '64254': 451,\n  '63502': 452,\n  '24200': 453,\n  'E8156': 454,\n  '2832': 455,\n  '7703': 456,\n  '71856': 457,\n  '7622': 458,\n  '83921': 459,\n  '41022': 460,\n  '591': 461,\n  '9973': 462,\n  'V5391': 463,\n  '80013': 464,\n  '55320': 465,\n  '86399': 466,\n  '70521': 467,\n  '4417': 468,\n  '5830': 469,\n  '2894': 470,\n  '05412': 471,\n  '99702': 472,\n  '53200': 473,\n  '47879': 474,\n  '78051': 475,\n  '78799': 476,\n  '80372': 477,\n  '75522': 478,\n  '71901': 479,\n  '27700': 480,\n  'E8122': 481,\n  '9529': 482,\n  '79001': 483,\n  '73007': 484,\n  '92720': 485,\n  '43883': 486,\n  '7873': 487,\n  '7475': 488,\n  '9191': 489,\n  '66401': 490,\n  '7675': 491,\n  '7790': 492,\n  '38870': 493,\n  '7949': 494,\n  '3888': 495,\n  '5641': 496,\n  '36813': 497,\n  '59001': 498,\n  '7102': 499,\n  'V8521': 500,\n  '33812': 501,\n  '81383': 502,\n  '36251': 503,\n  '4255': 504,\n  'E8735': 505,\n  '6073': 506,\n  '5289': 507,\n  '73016': 508,\n  '81404': 509,\n  '29012': 510,\n  '71695': 511,\n  '3814': 512,\n  '20010': 513,\n  '87361': 514,\n  '80114': 515,\n  '94128': 516,\n  '76405': 517,\n  '6188': 518,\n  '31381': 519,\n  '8408': 520,\n  'V143': 521,\n  '42490': 522,\n  '9471': 523,\n  '30473': 524,\n  '25062': 525,\n  '3490': 526,\n  'E8624': 527,\n  '9162': 528,\n  '78062': 529,\n  '75249': 530,\n  '80336': 531,\n  '74600': 532,\n  '8249': 533,\n  '51902': 534,\n  '20312': 535,\n  '3093': 536,\n  '66534': 537,\n  '72283': 538,\n  '2540': 539,\n  '4150': 540,\n  '2571': 541,\n  '76407': 542,\n  '5779': 543,\n  '41012': 544,\n  '35981': 545,\n  '7634': 546,\n  '7741': 547,\n  '542': 548,\n  '86803': 549,\n  '23874': 550,\n  '07953': 551,\n  '8728': 552,\n  '44481': 553,\n  '3575': 554,\n  '4179': 555,\n  '42979': 556,\n  '87350': 557,\n  '77211': 558,\n  '36441': 559,\n  '3591': 560,\n  'E8230': 561,\n  '74601': 562,\n  '76070': 563,\n  'V4573': 564,\n  '2860': 565,\n  '73026': 566,\n  '5756': 567,\n  '3099': 568,\n  '7450': 569,\n  '56979': 570,\n  'V4971': 571,\n  'E8718': 572,\n  '67153': 573,\n  '30592': 574,\n  '8027': 575,\n  '44284': 576,\n  '2872': 577,\n  '81109': 578,\n  '78061': 579,\n  '52333': 580,\n  '7751': 581,\n  'E9342': 582,\n  '72939': 583,\n  '85304': 584,\n  '81318': 585,\n  '7779': 586,\n  '7689': 587,\n  '8875': 588,\n  '81103': 589,\n  'E9309': 590,\n  '0794': 591,\n  '76079': 592,\n  '37820': 593,\n  '33182': 594,\n  '2898': 595,\n  '2799': 596,\n  '470': 597,\n  '5253': 598,\n  '71884': 599,\n  'V1506': 600,\n  '56721': 601,\n  '28749': 602,\n  '9558': 603,\n  '0041': 604,\n  '99677': 605,\n  '9694': 606,\n  '36107': 607,\n  '37200': 608,\n  '7816': 609,\n  '2651': 610,\n  '33510': 611,\n  '2360': 612,\n  '83900': 613,\n  '5839': 614,\n  '2700': 615,\n  '3572': 616,\n  '43821': 617,\n  '44502': 618,\n  '74686': 619,\n  '4375': 620,\n  '75651': 621,\n  '6040': 622,\n  '85224': 623,\n  '86512': 624,\n  '9219': 625,\n  '86339': 626,\n  'E9334': 627,\n  '3831': 628,\n  '6169': 629,\n  '3200': 630,\n  '94100': 631,\n  '56723': 632,\n  '9571': 633,\n  '1120': 634,\n  'E9559': 635,\n  'V292': 636,\n  '85242': 637,\n  '1921': 638,\n  'E9570': 639,\n  'V6282': 640,\n  '5769': 641,\n  '8221': 642,\n  '40490': 643,\n  '7237': 644,\n  '7707': 645,\n  '30573': 646,\n  '5560': 647,\n  '0270': 648,\n  '87321': 649,\n  '0416': 650,\n  '85221': 651,\n  'E0071': 652,\n  '769': 653,\n  'V4585': 654,\n  '88012': 655,\n  'V3100': 656,\n  'E8110': 657,\n  'V173': 658,\n  'E8839': 659,\n  '99769': 660,\n  'E9579': 661,\n  '80131': 662,\n  '9048': 663,\n  '1121': 664,\n  '75219': 665,\n  '9562': 666,\n  '7576': 667,\n  '5119': 668,\n  '04112': 669,\n  '34120': 670,\n  '79095': 671,\n  'E9361': 672,\n  '72989': 673,\n  '20780': 674,\n  '51189': 675,\n  '1370': 676,\n  '59960': 677,\n  '0971': 678,\n  '7209': 679,\n  '71509': 680,\n  '2253': 681,\n  '25801': 682,\n  '99656': 683,\n  '7454': 684,\n  '4142': 685,\n  '52512': 686,\n  '1613': 687,\n  '66111': 688,\n  '3918': 689,\n  '20963': 690,\n  '7621': 691,\n  'E8405': 692,\n  '64804': 693,\n  '4732': 694,\n  '75315': 695,\n  '6809': 696,\n  '29524': 697,\n  '80610': 698,\n  '42761': 699,\n  '72273': 700,\n  '1398': 701,\n  '24221': 702,\n  '1543': 703,\n  '0709': 704,\n  'V444': 705,\n  '5824': 706,\n  '80132': 707,\n  '3545': 708,\n  '5601': 709,\n  'V580': 710,\n  '2749': 711,\n  'E8193': 712,\n  '4131': 713,\n  'V6104': 714,\n  '7866': 715,\n  '06641': 716,\n  '6010': 717,\n  'V441': 718,\n  'V8537': 719,\n  '6926': 720,\n  '4148': 721,\n  '3090': 722,\n  '45389': 723,\n  '4257': 724,\n  '7010': 725,\n  'V5812': 726,\n  '7048': 727,\n  '6982': 728,\n  '82381': 729,\n  '08881': 730,\n  '46411': 731,\n  '78449': 732,\n  '9556': 733,\n  '51900': 734,\n  '29900': 735,\n  '30012': 736,\n  '1760': 737,\n  'E8800': 738,\n  '80141': 739,\n  '9011': 740,\n  '86343': 741,\n  '2337': 742,\n  '07889': 743,\n  '80235': 744,\n  '8821': 745,\n  '7355': 746,\n  '70725': 747,\n  '78909': 748,\n  '95215': 749,\n  '37871': 750,\n  '9911': 751,\n  '7868': 752,\n  '53550': 753,\n  '3071': 754,\n  '42989': 755,\n  'V454': 756,\n  'E9194': 757,\n  '24901': 758,\n  '28244': 759,\n  '77183': 760,\n  '30390': 761,\n  '4272': 762,\n  '0071': 763,\n  '3201': 764,\n  '4470': 765,\n  '5300': 766,\n  'E8710': 767,\n  '1982': 768,\n  '51883': 769,\n  'V8543': 770,\n  '5809': 771,\n  '9075': 772,\n  '9072': 773,\n  'E9411': 774,\n  '53511': 775,\n  '9678': 776,\n  '42491': 777,\n  '95200': 778,\n  '4568': 779,\n  '87200': 780,\n  '1431': 781,\n  '44620': 782,\n  'V581': 783,\n  '2132': 784,\n  '29420': 785,\n  '9165': 786,\n  '72703': 787,\n  '2379': 788,\n  '99686': 789,\n  '9173': 790,\n  '37921': 791,\n  '9597': 792,\n  'E9200': 793,\n  '85210': 794,\n  '3371': 795,\n  '2114': 796,\n  '33709': 797,\n  '75433': 798,\n  '32724': 799,\n  '56881': 800,\n  '27903': 801,\n  '5988': 802,\n  '3453': 803,\n  '0622': 804,\n  '1467': 805,\n  '78931': 806,\n  '37999': 807,\n  '2727': 808,\n  'V6549': 809,\n  '8797': 810,\n  '76521': 811,\n  '20930': 812,\n  '6805': 813,\n  '8630': 814,\n  '34401': 815,\n  'E9589': 816,\n  '8783': 817,\n  'E9572': 818,\n  '7599': 819,\n  'E9394': 820,\n  '2734': 821,\n  'E8859': 822,\n  '68101': 823,\n  '72660': 824,\n  '2778': 825,\n  '9642': 826,\n  '59582': 827,\n  '5559': 828,\n  'E8041': 829,\n  '3541': 830,\n  'E9651': 831,\n  '7336': 832,\n  '1914': 833,\n  '5699': 834,\n  '3949': 835,\n  '72664': 836,\n  '8411': 837,\n  '83979': 838,\n  '55010': 839,\n  '01123': 840,\n  '2126': 841,\n  'V5842': 842,\n  '1885': 843,\n  '431': 844,\n  '3370': 845,\n  '2650': 846,\n  '37143': 847,\n  'E9383': 848,\n  '700': 849,\n  '81252': 850,\n  'E9192': 851,\n  '67451': 852,\n  '59370': 853,\n  '25051': 854,\n  '2440': 855,\n  '2631': 856,\n  '34591': 857,\n  '71947': 858,\n  '319': 859,\n  '7218': 860,\n  '82019': 861,\n  '86415': 862,\n  '7294': 863,\n  '44381': 864,\n  '67014': 865,\n  '40291': 866,\n  '4019': 867,\n  'E8151': 868,\n  '42741': 869,\n  '7764': 870,\n  '3419': 871,\n  '3509': 872,\n  '64511': 873,\n  '53300': 874,\n  'V040': 875,\n  '74560': 876,\n  '80230': 877,\n  '33372': 878,\n  'E8717': 879,\n  '5550': 880,\n  'E8799': 881,\n  '6018': 882,\n  '78934': 883,\n  '2531': 884,\n  '9710': 885,\n  '80601': 886,\n  '75251': 887,\n  'V9089': 888,\n  '90253': 889,\n  '4270': 890,\n  '33183': 891,\n  '8371': 892,\n  '95893': 893,\n  '81407': 894,\n  '5719': 895,\n  '6203': 896,\n  '74683': 897,\n  '42981': 898,\n  '8700': 899,\n  '60784': 900,\n  '56400': 901,\n  '4731': 902,\n  '90003': 903,\n  '74924': 904,\n  '83660': 905,\n  'E8200': 906,\n  '72401': 907,\n  '71906': 908,\n  '2273': 909,\n  '7515': 910,\n  '33189': 911,\n  'E8219': 912,\n  '11599': 913,\n  '4748': 914,\n  '9753': 915,\n  '7093': 916,\n  '33912': 917,\n  '5761': 918,\n  '37443': 919,\n  '8973': 920,\n  '85131': 921,\n  '66921': 922,\n  '4111': 923,\n  '25032': 924,\n  'V462': 925,\n  'E9177': 926,\n  '5293': 927,\n  '0085': 928,\n  '460': 929,\n  '36841': 930,\n  '04183': 931,\n  '33811': 932,\n  '79399': 933,\n  '4910': 934,\n  '27482': 935,\n  '3017': 936,\n  'E9011': 937,\n  '75671': 938,\n  '72887': 939,\n  '90441': 940,\n  '9047': 941,\n  '1503': 942,\n  '7505': 943,\n  '53120': 944,\n  '7705': 945,\n  '84512': 946,\n  '1735': 947,\n  '2702': 948,\n  'E030': 949,\n  '1800': 950,\n  'V8536': 951,\n  '72292': 952,\n  '9651': 953,\n  '4533': 954,\n  '41181': 955,\n  '53520': 956,\n  '37313': 957,\n  '77084': 958,\n  '3869': 959,\n  '95205': 960,\n  '20512': 961,\n  '65251': 962,\n  '81241': 963,\n  'E9401': 964,\n  '55220': 965,\n  '2181': 966,\n  '72888': 967,\n  '66602': 968,\n  '51852': 969,\n  '28733': 970,\n  '59589': 971,\n  '5528': 972,\n  '03840': 973,\n  '43884': 974,\n  '83202': 975,\n  '58081': 976,\n  '8472': 977,\n  '2769': 978,\n  '9980': 979,\n  '63411': 980,\n  '5849': 981,\n  '79415': 982,\n  '29630': 983,\n  '81230': 984,\n  '2682': 985,\n  '66331': 986,\n  '7099': 987,\n  '7963': 988,\n  'E8261': 989,\n  '5880': 990,\n  'E9550': 991,\n  '56882': 992,\n  '4920': 993,\n  'E8314': 994,\n  'V1042': 995,\n  '9851': 996,\n  'E8192': 997,\n  'E8845': 998,\n  '52460': 999,\n  ...},\n 'procedure': {'4974': 0,\n  '9204': 1,\n  '7731': 2,\n  '270': 3,\n  '8934': 4,\n  '0139': 5,\n  '0489': 6,\n  '7861': 7,\n  '3320': 8,\n  '5349': 9,\n  '9172': 10,\n  '9659': 11,\n  '9465': 12,\n  '7739': 13,\n  '8385': 14,\n  '8876': 15,\n  '8191': 16,\n  '5331': 17,\n  '0852': 18,\n  '8149': 19,\n  '4664': 20,\n  '8111': 21,\n  '3732': 22,\n  '8302': 23,\n  '3505': 24,\n  '713': 25,\n  '3481': 26,\n  '3897': 27,\n  '5187': 28,\n  '7782': 29,\n  '3925': 30,\n  '7908': 31,\n  '8838': 32,\n  '7778': 33,\n  '4022': 34,\n  '3173': 35,\n  '8665': 36,\n  '8573': 37,\n  '9910': 38,\n  '0060': 39,\n  '8081': 40,\n  '3829': 41,\n  '8382': 42,\n  '3930': 43,\n  '9741': 44,\n  '3403': 45,\n  '0299': 46,\n  '2742': 47,\n  '0233': 48,\n  '0353': 49,\n  '3531': 50,\n  '8395': 51,\n  '3423': 52,\n  '7974': 53,\n  '3801': 54,\n  '1770': 55,\n  '3259': 56,\n  '6149': 57,\n  '9344': 58,\n  '4709': 59,\n  '9814': 60,\n  '3972': 61,\n  '9974': 62,\n  '8950': 63,\n  '0402': 64,\n  '5102': 65,\n  '7795': 66,\n  '3524': 67,\n  '3965': 68,\n  '3603': 69,\n  '3373': 70,\n  '5893': 71,\n  '0063': 72,\n  '9239': 73,\n  '5551': 74,\n  '8531': 75,\n  '5162': 76,\n  '4825': 77,\n  '9427': 78,\n  '0123': 79,\n  '5123': 80,\n  '7759': 81,\n  '7833': 82,\n  '4432': 83,\n  '2632': 84,\n  '8054': 85,\n  '7933': 86,\n  '8102': 87,\n  '5759': 88,\n  '8892': 89,\n  '3611': 90,\n  '7971': 91,\n  '8571': 92,\n  '8281': 93,\n  '4542': 94,\n  '1809': 95,\n  '9787': 96,\n  '0044': 97,\n  '9303': 98,\n  '6241': 99,\n  '5014': 100,\n  '4021': 101,\n  '2122': 102,\n  '623': 103,\n  '3731': 104,\n  '9981': 105,\n  '744': 106,\n  '7074': 107,\n  '3570': 108,\n  '3424': 109,\n  '4791': 110,\n  '7823': 111,\n  '6496': 112,\n  '9963': 113,\n  '8417': 114,\n  '5183': 115,\n  '8962': 116,\n  '6529': 117,\n  '400': 118,\n  '8388': 119,\n  '620': 120,\n  '0765': 121,\n  '5994': 122,\n  '2252': 123,\n  '3172': 124,\n  '3452': 125,\n  '0859': 126,\n  '8819': 127,\n  '7769': 128,\n  '4879': 129,\n  '7761': 130,\n  '2188': 131,\n  '0944': 132,\n  '8151': 133,\n  '8301': 134,\n  '8941': 135,\n  '9391': 136,\n  '3975': 137,\n  '3145': 138,\n  '2757': 139,\n  '6841': 140,\n  '4053': 141,\n  '3619': 142,\n  '4444': 143,\n  '8035': 144,\n  '7986': 145,\n  '3229': 146,\n  '7907': 147,\n  '4571': 148,\n  '8841': 149,\n  '4052': 150,\n  '4549': 151,\n  '1273': 152,\n  '3406': 153,\n  '313': 154,\n  '7809': 155,\n  '7645': 156,\n  '0128': 157,\n  '2183': 158,\n  '7763': 159,\n  '253': 160,\n  '310': 161,\n  '9735': 162,\n  '8257': 163,\n  '5051': 164,\n  '9321': 165,\n  '7859': 166,\n  '2722': 167,\n  '4679': 168,\n  '680': 169,\n  '8611': 170,\n  '5022': 171,\n  '603': 172,\n  '7905': 173,\n  '3883': 174,\n  '8626': 175,\n  '8184': 176,\n  '622': 177,\n  '7765': 178,\n  '3422': 179,\n  '3956': 180,\n  '4516': 181,\n  '3169': 182,\n  '8172': 183,\n  '0295': 184,\n  '8012': 185,\n  '8622': 186,\n  '5101': 187,\n  '2731': 188,\n  '4104': 189,\n  '632': 190,\n  '4411': 191,\n  '9702': 192,\n  '0492': 193,\n  '8179': 194,\n  '2501': 195,\n  '4671': 196,\n  '3966': 197,\n  '5121': 198,\n  '3631': 199,\n  '3379': 200,\n  '9957': 201,\n  '1681': 202,\n  '8107': 203,\n  '3532': 204,\n  '0211': 205,\n  '8154': 206,\n  '8135': 207,\n  '7050': 208,\n  '4601': 209,\n  '0611': 210,\n  '0011': 211,\n  '6669': 212,\n  '1291': 213,\n  '8591': 214,\n  '3595': 215,\n  '503': 216,\n  '3175': 217,\n  '7968': 218,\n  '4672': 219,\n  '9902': 220,\n  '3838': 221,\n  '8049': 222,\n  '3822': 223,\n  '5103': 224,\n  '3553': 225,\n  '0999': 226,\n  '6071': 227,\n  '3596': 228,\n  '251': 229,\n  '8419': 230,\n  '7092': 231,\n  '3807': 232,\n  '5995': 233,\n  '8694': 234,\n  '4224': 235,\n  '9815': 236,\n  '0043': 237,\n  '3613': 238,\n  '8098': 239,\n  '806': 240,\n  '4463': 241,\n  '8855': 242,\n  '7841': 243,\n  '7785': 244,\n  '3798': 245,\n  '2911': 246,\n  '3512': 247,\n  '8627': 248,\n  '8075': 249,\n  '4108': 250,\n  '9614': 251,\n  '2753': 252,\n  '5475': 253,\n  '4583': 254,\n  '0159': 255,\n  '3963': 256,\n  '6823': 257,\n  '9904': 258,\n  '8778': 259,\n  '8651': 260,\n  '4945': 261,\n  '3789': 262,\n  '741': 263,\n  '2171': 264,\n  '4191': 265,\n  '8222': 266,\n  '0763': 267,\n  '7837': 268,\n  '2130': 269,\n  '8423': 270,\n  '3787': 271,\n  '7917': 272,\n  '0474': 273,\n  '3836': 274,\n  '5473': 275,\n  '4621': 276,\n  '9756': 277,\n  '0681': 278,\n  '1479': 279,\n  '1264': 280,\n  '1454': 281,\n  '8584': 282,\n  '0394': 283,\n  '3835': 284,\n  '7799': 285,\n  '576': 286,\n  '8511': 287,\n  '3326': 288,\n  '211': 289,\n  '5684': 290,\n  '8455': 291,\n  '8689': 292,\n  '3926': 293,\n  '5198': 294,\n  '0886': 295,\n  '5169': 296,\n  '5122': 297,\n  '9922': 298,\n  '5137': 299,\n  '7643': 300,\n  '4622': 301,\n  '7798': 302,\n  '2939': 303,\n  '3783': 304,\n  '433': 305,\n  '5784': 306,\n  '8769': 307,\n  '4251': 308,\n  '527': 309,\n  '5296': 310,\n  '7072': 311,\n  '2933': 312,\n  '5733': 313,\n  '1441': 314,\n  '8879': 315,\n  '287': 316,\n  '8365': 317,\n  '0242': 318,\n  '8095': 319,\n  '8967': 320,\n  '7985': 321,\n  '6909': 322,\n  '412': 323,\n  '3795': 324,\n  '8777': 325,\n  '8199': 326,\n  '7937': 327,\n  '8251': 328,\n  '4836': 329,\n  '0407': 330,\n  '3230': 331,\n  '4862': 332,\n  '4534': 333,\n  '5341': 334,\n  '3927': 335,\n  '3729': 336,\n  '8779': 337,\n  '4719': 338,\n  '3866': 339,\n  '3555': 340,\n  '8404': 341,\n  '3863': 342,\n  '3491': 343,\n  '3941': 344,\n  '7784': 345,\n  '9503': 346,\n  '0887': 347,\n  '0942': 348,\n  '6551': 349,\n  '7965': 350,\n  '9705': 351,\n  '7912': 352,\n  '0392': 353,\n  '8897': 354,\n  '3736': 355,\n  '3806': 356,\n  '0070': 357,\n  '7976': 358,\n  '7052': 359,\n  '3781': 360,\n  '526': 361,\n  '9657': 362,\n  '8414': 363,\n  '8345': 364,\n  '7673': 365,\n  '7677': 366,\n  '5301': 367,\n  '3833': 368,\n  '0339': 369,\n  '1473': 370,\n  '3561': 371,\n  '7079': 372,\n  '324': 373,\n  '8864': 374,\n  '2811': 375,\n  '3964': 376,\n  '5419': 377,\n  '4911': 378,\n  '6601': 379,\n  '7719': 380,\n  '4106': 381,\n  '7952': 382,\n  '8541': 383,\n  '0039': 384,\n  '3479': 385,\n  '6951': 386,\n  '3899': 387,\n  '9626': 388,\n  '3593': 389,\n  '4101': 390,\n  '1422': 391,\n  '042': 392,\n  '3950': 393,\n  '8112': 394,\n  '3511': 395,\n  '3343': 396,\n  '8536': 397,\n  '3161': 398,\n  '0115': 399,\n  '5132': 400,\n  '7691': 401,\n  '2912': 402,\n  '8331': 403,\n  '3514': 404,\n  '9390': 405,\n  '8050': 406,\n  '3451': 407,\n  '244': 408,\n  '3953': 409,\n  '7927': 410,\n  '0102': 411,\n  '5429': 412,\n  '7569': 413,\n  '8938': 414,\n  '7922': 415,\n  '4199': 416,\n  '4493': 417,\n  '409': 418,\n  '8772': 419,\n  '4502': 420,\n  '5911': 421,\n  '7811': 422,\n  '5793': 423,\n  '4242': 424,\n  '5675': 425,\n  '5159': 426,\n  '430': 427,\n  '5493': 428,\n  '0221': 429,\n  '3598': 430,\n  '4103': 431,\n  '8547': 432,\n  '6761': 433,\n  '8155': 434,\n  '0234': 435,\n  '7561': 436,\n  '4389': 437,\n  '3321': 438,\n  '346': 439,\n  '0309': 440,\n  '762': 441,\n  '5359': 442,\n  '2250': 443,\n  '3785': 444,\n  '5503': 445,\n  '0609': 446,\n  '4869': 447,\n  '0379': 448,\n  '5211': 449,\n  '5164': 450,\n  '750': 451,\n  '4041': 452,\n  '2041': 453,\n  '5423': 454,\n  '7534': 455,\n  '034': 456,\n  '3192': 457,\n  '8162': 458,\n  '5303': 459,\n  '7061': 460,\n  '3794': 461,\n  '9335': 462,\n  '8091': 463,\n  '2211': 464,\n  '7961': 465,\n  '4282': 466,\n  '4610': 467,\n  '7742': 468,\n  '9729': 469,\n  '2279': 470,\n  '0693': 471,\n  '3198': 472,\n  '0033': 473,\n  '0744': 474,\n  '8422': 475,\n  '3778': 476,\n  '8762': 477,\n  '2756': 478,\n  '6812': 479,\n  '5823': 480,\n  '5329': 481,\n  '6091': 482,\n  '3148': 483,\n  '7849': 484,\n  '4419': 485,\n  '7857': 486,\n  '0203': 487,\n  '2699': 488,\n  '2551': 489,\n  '543': 490,\n  '0652': 491,\n  '5472': 492,\n  '736': 493,\n  '7843': 494,\n  '3932': 495,\n  '9764': 496,\n  '8964': 497,\n  '686': 498,\n  '3349': 499,\n  '9634': 500,\n  '7817': 501,\n  '101': 502,\n  '8128': 503,\n  '8554': 504,\n  '3129': 505,\n  '0602': 506,\n  '8132': 507,\n  '9926': 508,\n  '0651': 509,\n  '9341': 510,\n  '3525': 511,\n  '9653': 512,\n  '0065': 513,\n  '3615': 514,\n  '8959': 515,\n  '6299': 516,\n  '6561': 517,\n  '4902': 518,\n  '8866': 519,\n  '7916': 520,\n  '6712': 521,\n  '5259': 522,\n  '4614': 523,\n  '0054': 524,\n  '8042': 525,\n  '708': 526,\n  '8926': 527,\n  '3459': 528,\n  '4414': 529,\n  '9352': 530,\n  '8851': 531,\n  '031': 532,\n  '7818': 533,\n  '8026': 534,\n  '8349': 535,\n  '8195': 536,\n  '6591': 537,\n  '4947': 538,\n  '8709': 539,\n  '7864': 540,\n  '9826': 541,\n  '9939': 542,\n  '3239': 543,\n  '9803': 544,\n  '4500': 545,\n  '3528': 546,\n  '0851': 547,\n  '7838': 548,\n  '8105': 549,\n  '0782': 550,\n  '2724': 551,\n  '8937': 552,\n  '3889': 553,\n  '2759': 554,\n  '5019': 555,\n  '8099': 556,\n  '715': 557,\n  '4042': 558,\n  '4422': 559,\n  '9604': 560,\n  '4514': 561,\n  '560': 562,\n  '3609': 563,\n  '8375': 564,\n  '4415': 565,\n  '5292': 566,\n  '6739': 567,\n  '3551': 568,\n  '9752': 569,\n  '7845': 570,\n  '5384': 571,\n  '7777': 572,\n  '9638': 573,\n  '8185': 574,\n  '8387': 575,\n  '6531': 576,\n  '9739': 577,\n  '500': 578,\n  '8117': 579,\n  '6095': 580,\n  '5362': 581,\n  '4429': 582,\n  '7748': 583,\n  '5499': 584,\n  '3723': 585,\n  '697': 586,\n  '9959': 587,\n  '8386': 588,\n  '7855': 589,\n  '4522': 590,\n  '7979': 591,\n  '2301': 592,\n  '8847': 593,\n  '3861': 594,\n  '1475': 595,\n  '9738': 596,\n  '2219': 597,\n  '8165': 598,\n  '2373': 599,\n  '6011': 600,\n  '9346': 601,\n  '7122': 602,\n  '4696': 603,\n  '4995': 604,\n  '9608': 605,\n  '387': 606,\n  '6141': 607,\n  '045': 608,\n  '0395': 609,\n  '8671': 610,\n  '8857': 611,\n  '8960': 612,\n  '5184': 613,\n  '5781': 614,\n  '8407': 615,\n  '3922': 616,\n  '0047': 617,\n  '3539': 618,\n  '5222': 619,\n  '294': 620,\n  '323': 621,\n  '1659': 622,\n  '0222': 623,\n  '7972': 624,\n  '2592': 625,\n  '214': 626,\n  '3527': 627,\n  '5283': 628,\n  '4283': 629,\n  '7711': 630,\n  '8343': 631,\n  '8860': 632,\n  '0292': 633,\n  '0762': 634,\n  '5369': 635,\n  '4439': 636,\n  '6825': 637,\n  '9821': 638,\n  '7664': 639,\n  '3924': 640,\n  '7551': 641,\n  '625': 642,\n  '7675': 643,\n  '6589': 644,\n  '0202': 645,\n  '3888': 646,\n  '9601': 647,\n  '5641': 648,\n  '325': 649,\n  '3954': 650,\n  '3195': 651,\n  '5194': 652,\n  '7678': 653,\n  '605': 654,\n  '8321': 655,\n  '4255': 656,\n  '9205': 657,\n  '8233': 658,\n  '7983': 659,\n  '9953': 660,\n  '3766': 661,\n  '3891': 662,\n  '3814': 663,\n  '7914': 664,\n  '5282': 665,\n  '3029': 666,\n  '4971': 667,\n  '8408': 668,\n  '5141': 669,\n  '0772': 670,\n  '9670': 671,\n  '3341': 672,\n  '4319': 673,\n  '5298': 674,\n  '8269': 675,\n  '8775': 676,\n  '7123': 677,\n  '3473': 678,\n  '0351': 679,\n  '0206': 680,\n  '8005': 681,\n  '9224': 682,\n  '4832': 683,\n  '8877': 684,\n  '0132': 685,\n  '3393': 686,\n  '3808': 687,\n  '8963': 688,\n  '7865': 689,\n  '1742': 690,\n  '1829': 691,\n  '362': 692,\n  '3749': 693,\n  '835': 694,\n  '436': 695,\n  '5424': 696,\n  '4467': 697,\n  '6859': 698,\n  '2103': 699,\n  '5734': 700,\n  '3612': 701,\n  '8138': 702,\n  '1811': 703,\n  '0113': 704,\n  '554': 705,\n  '1879': 706,\n  '3957': 707,\n  '5779': 708,\n  '1821': 709,\n  '9658': 710,\n  '7791': 711,\n  '8243': 712,\n  '7741': 713,\n  '8663': 714,\n  '4530': 715,\n  '1151': 716,\n  '8197': 717,\n  '5651': 718,\n  '5795': 719,\n  '472': 720,\n  '1474': 721,\n  '4979': 722,\n  '0122': 723,\n  '2951': 724,\n  '8544': 725,\n  '8835': 726,\n  '5771': 727,\n  '0124': 728,\n  '4694': 729,\n  '3591': 730,\n  '1609': 731,\n  '8853': 732,\n  '4573': 733,\n  '7932': 734,\n  '3241': 735,\n  '7852': 736,\n  '6952': 737,\n  '8459': 738,\n  '9982': 739,\n  '5461': 740,\n  '8011': 741,\n  '7075': 742,\n  '3533': 743,\n  '8922': 744,\n  '6996': 745,\n  '1831': 746,\n  '8236': 747,\n  '9229': 748,\n  '9960': 749,\n  '7701': 750,\n  '9917': 751,\n  '8071': 752,\n  '5891': 753,\n  '9759': 754,\n  '5114': 755,\n  '8773': 756,\n  '341': 757,\n  '8945': 758,\n  '8686': 759,\n  '3868': 760,\n  '331': 761,\n  '7779': 762,\n  '0729': 763,\n  '2772': 764,\n  '8875': 765,\n  '1812': 766,\n  '022': 767,\n  '3604': 768,\n  '9609': 769,\n  '8051': 770,\n  '4543': 771,\n  '0780': 772,\n  '8235': 773,\n  '0074': 774,\n  '0449': 775,\n  '8854': 776,\n  '5253': 777,\n  '0041': 778,\n  '411': 779,\n  '7936': 780,\n  '0296': 781,\n  '5789': 782,\n  '8087': 783,\n  '5111': 784,\n  '7816': 785,\n  '9602': 786,\n  '8766': 787,\n  '6595': 788,\n  '4642': 789,\n  '8289': 790,\n  '8244': 791,\n  '6632': 792,\n  '8016': 793,\n  '7747': 794,\n  '5839': 795,\n  '3572': 796,\n  '8036': 797,\n  '4011': 798,\n  '4682': 799,\n  '3329': 800,\n  '5783': 801,\n  '445': 802,\n  '3391': 803,\n  '0110': 804,\n  '9962': 805,\n  '427': 806,\n  '5411': 807,\n  '3542': 808,\n  '8856': 809,\n  '3847': 810,\n  '5661': 811,\n  '415': 812,\n  '3990': 813,\n  '0061': 814,\n  '3999': 815,\n  '8085': 816,\n  '8721': 817,\n  '4824': 818,\n  '4603': 819,\n  '7967': 820,\n  '8082': 821,\n  '6562': 822,\n  '5311': 823,\n  '3895': 824,\n  '9354': 825,\n  '8764': 826,\n  '9399': 827,\n  '2189': 828,\n  '8180': 829,\n  '0118': 830,\n  '8523': 831,\n  '6498': 832,\n  '9723': 833,\n  '8221': 834,\n  '8582': 835,\n  '7745': 836,\n  '3722': 837,\n  '8311': 838,\n  '3834': 839,\n  '8669': 840,\n  '9928': 841,\n  '260': 842,\n  '7911': 843,\n  '4287': 844,\n  '8891': 845,\n  '9900': 846,\n  '6309': 847,\n  '8079': 848,\n  '8596': 849,\n  '8344': 850,\n  '9618': 851,\n  '1434': 852,\n  '857': 853,\n  '0412': 854,\n  '2186': 855,\n  '5151': 856,\n  '229': 857,\n  '8723': 858,\n  '1652': 859,\n  '3617': 860,\n  '4641': 861,\n  '8157': 862,\n  '0048': 863,\n  '8545': 864,\n  '9912': 865,\n  '9656': 866,\n  '6869': 867,\n  '754': 868,\n  '3962': 869,\n  '7674': 870,\n  '0032': 871,\n  '9945': 872,\n  '9635': 873,\n  '3961': 874,\n  '4652': 875,\n  '4873': 876,\n  '9909': 877,\n  '8844': 878,\n  '4491': 879,\n  '4142': 880,\n  '4531': 881,\n  '9920': 882,\n  '7805': 883,\n  '0885': 884,\n  '8534': 885,\n  '0013': 886,\n  '2162': 887,\n  '7913': 888,\n  '5213': 889,\n  '7767': 890,\n  '9905': 891,\n  '4399': 892,\n  '9919': 893,\n  '7669': 894,\n  '4252': 895,\n  '3943': 896,\n  '3327': 897,\n  '0022': 898,\n  '6062': 899,\n  '4023': 900,\n  '7918': 901,\n  '8201': 902,\n  '8939': 903,\n  '5732': 904,\n  '2169': 905,\n  '5199': 906,\n  '7982': 907,\n  '5662': 908,\n  '5993': 909,\n  '0040': 910,\n  '0091': 911,\n  '2749': 912,\n  '4131': 913,\n  '8017': 914,\n  '7866': 915,\n  '4875': 916,\n  '7978': 917,\n  '8122': 918,\n  '7111': 919,\n  '0207': 920,\n  '8845': 921,\n  '8133': 922,\n  '8968': 923,\n  '5196': 924,\n  '8153': 925,\n  '0204': 926,\n  '4195': 927,\n  '4413': 928,\n  '9342': 929,\n  '4064': 930,\n  '3471': 931,\n  '458': 932,\n  '0531': 933,\n  '5163': 934,\n  '8843': 935,\n  '5631': 936,\n  '0404': 937,\n  '3971': 938,\n  '8152': 939,\n  '0058': 940,\n  '391': 941,\n  '8084': 942,\n  '9627': 943,\n  '9914': 944,\n  '5310': 945,\n  '7735': 946,\n  '7955': 947,\n  '5252': 948,\n  '8595': 949,\n  '3803': 950,\n  '7813': 951,\n  '3763': 952,\n  '9911': 953,\n  '7868': 954,\n  '3973': 955,\n  '4443': 956,\n  '688': 957,\n  '4686': 958,\n  '3323': 959,\n  '8171': 960,\n  '5185': 961,\n  '3799': 962,\n  '0071': 963,\n  '3193': 964,\n  '3201': 965,\n  '0711': 966,\n  '5300': 967,\n  '3991': 968,\n  '4254': 969,\n  '2959': 970,\n  '4069': 971,\n  '5554': 972,\n  '9468': 973,\n  '4054': 974,\n  '0069': 975,\n  '8914': 976,\n  '8842': 977,\n  '3887': 978,\n  '4946': 979,\n  '9623': 980,\n  '5425': 981,\n  '1292': 982,\n  '4581': 983,\n  '8473': 984,\n  '4579': 985,\n  '3816': 986,\n  '7902': 987,\n  '4701': 988,\n  '106': 989,\n  '0092': 990,\n  '8619': 991,\n  '6959': 992,\n  '8871': 993,\n  '8861': 994,\n  '247': 995,\n  '2132': 996,\n  '3733': 997,\n  '9622': 998,\n  '600': 999,\n  ...},\n 'prescription': {'00006073128': 0,\n  '59676056101': 1,\n  '00173066100': 2,\n  '00074663734': 3,\n  '46287001401': 4,\n  '00007414120': 5,\n  '54092025390': 6,\n  '00703005104': 7,\n  '54868349200': 8,\n  '63323016505': 9,\n  '50458093010': 10,\n  '63739007910': 11,\n  '68188093590': 12,\n  '57844091401': 13,\n  '00026855236': 14,\n  '00182504749': 15,\n  '00071000724': 16,\n  '10939086311': 17,\n  '13533063603': 18,\n  '27434003185': 19,\n  '00395421010': 20,\n  '00703315401': 21,\n  '00056017375': 22,\n  '00069308030': 23,\n  '50458092010': 24,\n  '00597010760': 25,\n  '59148000613': 26,\n  '00006093628': 27,\n  '61570018601': 28,\n  '00054315440': 29,\n  '50474000148': 30,\n  '00591071601': 31,\n  '00054350049': 32,\n  '54569035301': 33,\n  '00641061025': 34,\n  '00006351903': 35,\n  '00002411560': 36,\n  '00173047100': 37,\n  '63323061710': 38,\n  '00409405001': 39,\n  '00904628061': 40,\n  '54868397600': 41,\n  '00091464024': 42,\n  '51079003920': 43,\n  '51079078720': 44,\n  '00555095202': 45,\n  '00182004789': 46,\n  '63323031461': 47,\n  '00074455211': 48,\n  '00002735501': 49,\n  '00085174701': 50,\n  '00409115902': 51,\n  '10939003722': 52,\n  '00781176413': 53,\n  '00075062403': 54,\n  '67467064301': 55,\n  '00677178110': 56,\n  '00904552461': 57,\n  '00641141035': 58,\n  '50458057810': 59,\n  '00904052361': 60,\n  '67286005308': 61,\n  '00168021560': 62,\n  '00409978903': 63,\n  '51079057201': 64,\n  '00078018203': 65,\n  '00173045900': 66,\n  '00338004303': 67,\n  '00548146900': 68,\n  '00008092681': 69,\n  '74300000533': 70,\n  '00093078405': 71,\n  '00299382060': 72,\n  '00072254006': 73,\n  '00074780922': 74,\n  '00009023301': 75,\n  '10019095601': 76,\n  '00074115112': 77,\n  '00409739172': 78,\n  '10139090510': 79,\n  '54569468300': 80,\n  '00083232062': 81,\n  '00009017103': 82,\n  '00409205105': 83,\n  '00044182512': 84,\n  '51079048020': 85,\n  '00555077002': 86,\n  '58468002101': 87,\n  '00409148402': 88,\n  '00409779362': 89,\n  '67386051151': 90,\n  '00015356302': 91,\n  '00173067502': 92,\n  '52544047108': 93,\n  '00904598061': 94,\n  '00555001105': 95,\n  '00054353244': 96,\n  '47682021701': 97,\n  '00056017475': 98,\n  '00062542637': 99,\n  '00603385521': 100,\n  '00034549006': 101,\n  '00781305714': 102,\n  '61314022605': 103,\n  '64980010401': 104,\n  '00071000740': 105,\n  '54569535100': 106,\n  '51479005530': 107,\n  '00409741803': 108,\n  '43068010602': 109,\n  '00056016975': 110,\n  '00245010450': 111,\n  '00054818025': 112,\n  '00074910420': 113,\n  '00904579461': 114,\n  '00186580030': 115,\n  '00008029501': 116,\n  '00186190501': 117,\n  '00173026427': 118,\n  '51079020120': 119,\n  '00703514001': 120,\n  '00004016201': 121,\n  '00009082501': 122,\n  '51079047821': 123,\n  '00186151503': 124,\n  '00409471332': 125,\n  '63824000840': 126,\n  '00069580043': 127,\n  '00409317701': 128,\n  '51079075620': 129,\n  '51079000222': 130,\n  '55390048101': 131,\n  '00054023755': 132,\n  '00173066200': 133,\n  '00087607211': 134,\n  '51079008420': 135,\n  '00048580701': 136,\n  '00007411713': 137,\n  '00054855424': 138,\n  '51079090220': 139,\n  '00338004910': 140,\n  '11509021217': 141,\n  '00703292503': 142,\n  '00364202690': 143,\n  '24208027715': 144,\n  '00264751020': 145,\n  '51079019020': 146,\n  '00074909332': 147,\n  '10019003783': 148,\n  '00013700112': 149,\n  '00008083703': 150,\n  '00024135301': 151,\n  '51079080720': 152,\n  '51079008320': 153,\n  '00044182110': 154,\n  '55513012610': 155,\n  '63323038810': 156,\n  '00007414020': 157,\n  '00548604525': 158,\n  '00004007901': 159,\n  '58468002001': 160,\n  '54569454303': 161,\n  '55887019190': 162,\n  '00004196501': 163,\n  '00172375910': 164,\n  '48433023015': 165,\n  '00024134803': 166,\n  '00395224391': 167,\n  '00045064165': 168,\n  '00517090125': 169,\n  '57480043401': 170,\n  '00469352530': 171,\n  '00245000331': 172,\n  '00074395977': 173,\n  '00548301200': 174,\n  '00075062301': 175,\n  '54569452500': 176,\n  '00472153304': 177,\n  '60432013325': 178,\n  '00054354563': 179,\n  '00087058011': 180,\n  '00517305025': 181,\n  '00168032630': 182,\n  '00008121801': 183,\n  '55370088408': 184,\n  '00045006701': 185,\n  '00093519974': 186,\n  '00436094616': 187,\n  '00904420260': 188,\n  '00026851348': 189,\n  '00045065910': 190,\n  '00085117902': 191,\n  '00008103006': 192,\n  '00093874101': 193,\n  '00034051725': 194,\n  '00703565301': 195,\n  '55390012301': 196,\n  '00904565661': 197,\n  '00548124000': 198,\n  '00173046400': 199,\n  '61314064725': 200,\n  '00338067104': 201,\n  '11098003002': 202,\n  '00052045015': 203,\n  '00003272510': 204,\n  '00904571135': 205,\n  '00143148001': 206,\n  '00074258702': 207,\n  '00409653301': 208,\n  '00172376010': 209,\n  '00517490125': 210,\n  '00409904202': 211,\n  '00023918703': 212,\n  '00075245101': 213,\n  '61570011001': 214,\n  '00015054841': 215,\n  '00078011022': 216,\n  '54092006301': 217,\n  '00009311602': 218,\n  '00781178501': 219,\n  '00009085608': 220,\n  '54482005301': 221,\n  '00006351659': 222,\n  '00085056605': 223,\n  '58914015575': 224,\n  '00168004046': 225,\n  '00472038115': 226,\n  '00173033602': 227,\n  '00054823301': 228,\n  '00456333001': 229,\n  '00904506260': 230,\n  '51079016320': 231,\n  '60977001701': 232,\n  '13533061810': 233,\n  '00172438310': 234,\n  '00087003244': 235,\n  '00006027731': 236,\n  '51079022020': 237,\n  '00075062161': 238,\n  '63323023861': 239,\n  '49281029110': 240,\n  '64764030115': 241,\n  '00093521193': 242,\n  '00781573413': 243,\n  '53905099101': 244,\n  '00054873325': 245,\n  '00078014923': 246,\n  '55390000501': 247,\n  '00054865024': 248,\n  '00009003101': 249,\n  '00074110202': 250,\n  '51079007320': 251,\n  '00074488710': 252,\n  '00574012008': 253,\n  '00093894093': 254,\n  '00168031230': 255,\n  '00048114013': 256,\n  '00149047201': 257,\n  '00597007541': 258,\n  '00004026249': 259,\n  '00904567861': 260,\n  '00004026349': 261,\n  '10147088106': 262,\n  '00009006406': 263,\n  '51660078401': 264,\n  '00338040360': 265,\n  '00088115330': 266,\n  '00074329406': 267,\n  '00327001105': 268,\n  '00409117830': 269,\n  '00310075590': 270,\n  '00074117830': 271,\n  '00172428510': 272,\n  '00083005232': 273,\n  '55513054610': 274,\n  '00087667417': 275,\n  '50458030611': 276,\n  '52268020001': 277,\n  '00182074767': 278,\n  '00067094915': 279,\n  '00143178701': 280,\n  '00121041910': 281,\n  '00264310311': 282,\n  '24208075060': 283,\n  '00025171001': 284,\n  '00904627961': 285,\n  '00409405201': 286,\n  '10019025112': 287,\n  '00005535960': 288,\n  '55390000401': 289,\n  '50633012011': 290,\n  '57665033101': 291,\n  '17314850101': 292,\n  '00182055489': 293,\n  '00781940895': 294,\n  '55390009110': 295,\n  '00338050741': 296,\n  '55513054601': 297,\n  '00591534710': 298,\n  '55045141500': 299,\n  '00078033931': 300,\n  '57480030001': 301,\n  '51079008620': 302,\n  '55390007001': 303,\n  '00904525530': 304,\n  '00182000101': 305,\n  '65197000101': 306,\n  '66689032350': 307,\n  '00009338201': 308,\n  '63323012250': 309,\n  '55045122403': 310,\n  '00165005441': 311,\n  '00054815624': 312,\n  '54868442102': 313,\n  '00007506111': 314,\n  '61451501507': 315,\n  '00904624261': 316,\n  '00088177947': 317,\n  '50242004413': 318,\n  '00998020415': 319,\n  '00004018301': 320,\n  '54643582000': 321,\n  '00536222075': 322,\n  '00172496058': 323,\n  '61787006204': 324,\n  '49281040015': 325,\n  '00008103110': 326,\n  '00536126296': 327,\n  '00074317801': 328,\n  '10019003473': 329,\n  '00074416901': 330,\n  '63323042610': 331,\n  '00074567304': 332,\n  '60793070210': 333,\n  '00409176230': 334,\n  '62584081201': 335,\n  '00074621411': 336,\n  '68084028401': 337,\n  '00004691206': 338,\n  '00781139313': 339,\n  '36000000124': 340,\n  '00031067364': 341,\n  '00093065801': 342,\n  '65473069701': 343,\n  '58768078815': 344,\n  '52268010001': 345,\n  '51079020320': 346,\n  '00338022104': 347,\n  '00064100133': 348,\n  '00310032165': 349,\n  '00409335601': 350,\n  '00406048462': 351,\n  '00703095603': 352,\n  '55390034810': 353,\n  '49281000610': 354,\n  '00407193103': 355,\n  '00310075239': 356,\n  '00904357161': 357,\n  '00597018590': 358,\n  '11980077905': 359,\n  '00456045963': 360,\n  '51079020620': 361,\n  '00006073528': 362,\n  '00904107061': 363,\n  '00173073500': 364,\n  '00074909431': 365,\n  '00078034184': 366,\n  '00168016230': 367,\n  '00003056902': 368,\n  '00574705050': 369,\n  '00002871501': 370,\n  '50458055010': 371,\n  '00056017275': 372,\n  '00456046201': 373,\n  '00054817625': 374,\n  '51079082120': 375,\n  '00409163201': 376,\n  '00409190201': 377,\n  '00024120301': 378,\n  '62175044214': 379,\n  '51079008520': 380,\n  '00173020155': 381,\n  '65649023141': 382,\n  '00065009205': 383,\n  '00173069604': 384,\n  '00409118069': 385,\n  '00781210401': 386,\n  '49938010101': 387,\n  '00338002304': 388,\n  '00087040203': 389,\n  '17317038904': 390,\n  '00703407559': 391,\n  '54868365200': 392,\n  '00703485211': 393,\n  '54569040401': 394,\n  '66435020115': 395,\n  '00409405101': 396,\n  '00008103105': 397,\n  '00173010856': 398,\n  '62991150902': 399,\n  '00054802625': 400,\n  '55390060502': 401,\n  '00406112101': 402,\n  '00085137001': 403,\n  '00703270403': 404,\n  '00121063810': 405,\n  '63481037710': 406,\n  '00054822225': 407,\n  '00083380104': 408,\n  '00781143901': 409,\n  '50458030104': 410,\n  '00225029515': 411,\n  '00008103008': 412,\n  '59762502601': 413,\n  '44087152001': 414,\n  '51284062022': 415,\n  '54868596800': 416,\n  '00071015523': 417,\n  '00029320713': 418,\n  '00004012149': 419,\n  '24208055555': 420,\n  '51079087320': 421,\n  '00781340495': 422,\n  '00007440701': 423,\n  '68084007001': 424,\n  '51079028020': 425,\n  '00186107509': 426,\n  '00078031154': 427,\n  '45802075930': 428,\n  '00006057143': 429,\n  '00904516561': 430,\n  '52544093102': 431,\n  '63323036920': 432,\n  '00048106003': 433,\n  '00597019061': 434,\n  '00078040105': 435,\n  '65649030141': 436,\n  '00904792638': 437,\n  '00409234632': 438,\n  '00008412501': 439,\n  '00904580961': 440,\n  '00338268975': 441,\n  '54868503400': 442,\n  '63739024610': 443,\n  '00536435805': 444,\n  '00074144304': 445,\n  '59676031001': 446,\n  '00703040402': 447,\n  '00703468501': 448,\n  '00046047399': 449,\n  '00013010201': 450,\n  '61703041464': 451,\n  '00004196401': 452,\n  '50419000201': 453,\n  '54868479700': 454,\n  '00182138167': 455,\n  '63395020113': 456,\n  '51672208001': 457,\n  '00310037851': 458,\n  '00143119550': 459,\n  '00186109039': 460,\n  '00591083960': 461,\n  '00338001731': 462,\n  '51079000522': 463,\n  '00270055615': 464,\n  '49884078253': 465,\n  '00487980125': 466,\n  '00078018001': 467,\n  '00536440601': 468,\n  '00338070541': 469,\n  '00088120632': 470,\n  '00002861501': 471,\n  '60505250201': 472,\n  '00517209625': 473,\n  '00074427001': 474,\n  '00071400810': 475,\n  '00173064255': 476,\n  '63857032810': 477,\n  '24208073501': 478,\n  '63323054207': 479,\n  '53489038601': 480,\n  '52544014926': 481,\n  '59075063010': 482,\n  '00054009720': 483,\n  '00409909422': 484,\n  '00172571010': 485,\n  '63323061401': 486,\n  '00781317796': 487,\n  '00766150010': 488,\n  '00472011720': 489,\n  '00087667317': 490,\n  '00087611142': 491,\n  '00085138507': 492,\n  '68084037421': 493,\n  '49884029812': 494,\n  '00168008930': 495,\n  '00781143813': 496,\n  '00093017456': 497,\n  '00006775331': 498,\n  '00406051201': 499,\n  '00015050301': 500,\n  '49884090738': 501,\n  '00409302401': 502,\n  '00078038725': 503,\n  '00087057007': 504,\n  '59075059215': 505,\n  '00085171603': 506,\n  '24208045725': 507,\n  '51079051820': 508,\n  '00145062805': 509,\n  '00186103201': 510,\n  '49884049901': 511,\n  '00536138912': 512,\n  '00182864389': 513,\n  '51079063120': 514,\n  '00091334201': 515,\n  '00131541070': 516,\n  '00378911916': 517,\n  '00517031010': 518,\n  '63459039120': 519,\n  '63629377401': 520,\n  '00409771503': 521,\n  '00597002901': 522,\n  '00182050789': 523,\n  '00409141005': 524,\n  '00456261390': 525,\n  '00172443510': 526,\n  '50458016601': 527,\n  '00186190601': 528,\n  '51079041720': 529,\n  '63481062375': 530,\n  '00008072801': 531,\n  '63323029730': 532,\n  '00025540134': 533,\n  '59390006717': 534,\n  '53014054867': 535,\n  '00536623772': 536,\n  '51079043520': 537,\n  '00168008130': 538,\n  '00004026449': 539,\n  '00591571401': 540,\n  '00074334603': 541,\n  '00168008031': 542,\n  '00025145134': 543,\n  '55513014810': 544,\n  '39822027702': 545,\n  '00135019502': 546,\n  '59930156001': 547,\n  '00781197101': 548,\n  '00003049420': 549,\n  '63323028110': 550,\n  '00378252093': 551,\n  '00074660902': 552,\n  '10019002805': 553,\n  '00074245351': 554,\n  '00378003201': 555,\n  '51479004601': 556,\n  '00005075323': 557,\n  '00781312495': 558,\n  '63323026201': 559,\n  '55390040320': 560,\n  '57664013565': 561,\n  '00338001704': 562,\n  '00173052000': 563,\n  '55390056090': 564,\n  '00078037615': 565,\n  '00006021468': 566,\n  '00074636902': 567,\n  '50242010039': 568,\n  '00182005301': 569,\n  '38697601501': 570,\n  '00071241823': 571,\n  '54868370400': 572,\n  '00173038701': 573,\n  '00075008200': 574,\n  '00089014910': 575,\n  '00998020815': 576,\n  '50458030101': 577,\n  '00074592201': 578,\n  '00998061505': 579,\n  '00409672903': 580,\n  '00121053005': 581,\n  '63395010105': 582,\n  '12496130602': 583,\n  '00088222033': 584,\n  '54868021500': 585,\n  '00781202701': 586,\n  '00186116502': 587,\n  '00004003822': 588,\n  '60267060066': 589,\n  '00904421813': 590,\n  '00065064725': 591,\n  '00006494300': 592,\n  '00007489020': 593,\n  '00045044804': 594,\n  '54569272600': 595,\n  '68115017430': 596,\n  '49999004830': 597,\n  '00009347503': 598,\n  '00008030302': 599,\n  '00781328379': 600,\n  '54569170102': 601,\n  '00074212202': 602,\n  '00006095228': 603,\n  '00015309520': 604,\n  '54162055007': 605,\n  '00456060010': 606,\n  '00006057354': 607,\n  '00015301020': 608,\n  '67457019015': 609,\n  '00054872425': 610,\n  '00087081843': 611,\n  '00009509101': 612,\n  '00039007810': 613,\n  '00009338101': 614,\n  '00003083050': 615,\n  '00173080725': 616,\n  '00555900942': 617,\n  '00641227741': 618,\n  '00173063535': 619,\n  '00472037145': 620,\n  '51079001520': 621,\n  '62584074601': 622,\n  '54838000530': 623,\n  '24208043405': 624,\n  '64764091830': 625,\n  '68180012401': 626,\n  '00075291201': 627,\n  '00045025549': 628,\n  '10019004502': 629,\n  '55390016010': 630,\n  '00007489120': 631,\n  '00054872925': 632,\n  '00085330601': 633,\n  '00009513502': 634,\n  '00026063203': 635,\n  '00024059120': 636,\n  '00300154430': 637,\n  '00074007402': 638,\n  '00074372301': 639,\n  '00071023724': 640,\n  '00487950125': 641,\n  '00062017512': 642,\n  '00555099702': 643,\n  '00004018809': 644,\n  '00074132305': 645,\n  '52769025105': 646,\n  '10019055302': 647,\n  '00069420030': 648,\n  '00048109013': 649,\n  '66479002356': 650,\n  '00310070539': 651,\n  '00089130130': 652,\n  '57664017508': 653,\n  '59762171002': 654,\n  '66553000401': 655,\n  '00338604648': 656,\n  '00131422009': 657,\n  '00045034360': 658,\n  '00074227913': 659,\n  '00049490041': 660,\n  '00093542088': 661,\n  '00002324030': 662,\n  '00006011731': 663,\n  '00409606211': 664,\n  '00781149731': 665,\n  '00641032025': 666,\n  '00406577162': 667,\n  '00338004501': 668,\n  '10019051002': 669,\n  '00310028239': 670,\n  '55499120401': 671,\n  '60793020505': 672,\n  '00074120301': 673,\n  '63481062410': 674,\n  '00299383545': 675,\n  '50111032501': 676,\n  '63459040401': 677,\n  '00172541310': 678,\n  '00049399041': 679,\n  '00781570192': 680,\n  '63323013210': 681,\n  '00469065711': 682,\n  '00019481604': 683,\n  '00069098038': 684,\n  '55390056630': 685,\n  '00409651001': 686,\n  '55390013910': 687,\n  '00781310395': 688,\n  '00031425064': 689,\n  '00283067902': 690,\n  '00054001820': 691,\n  '00469087202': 692,\n  '00054814622': 693,\n  '51079095720': 694,\n  '60258000601': 695,\n  '00069073166': 696,\n  '51079073320': 697,\n  '59676057001': 698,\n  '00409159304': 699,\n  '00008413901': 700,\n  '51672126403': 701,\n  '00074325503': 702,\n  '00338005403': 703,\n  '68516521102': 704,\n  '60793010501': 705,\n  '63323022930': 706,\n  '59762308001': 707,\n  '00998035415': 708,\n  '63010001030': 709,\n  '00013110679': 710,\n  '00009001104': 711,\n  '00904054460': 712,\n  '00078044905': 713,\n  '00054819216': 714,\n  '00003080110': 715,\n  '00904272561': 716,\n  '00074158302': 717,\n  '00131248035': 718,\n  '51079038620': 719,\n  '00904399061': 720,\n  '59676020101': 721,\n  '00024115510': 722,\n  '00245016212': 723,\n  '00406833062': 724,\n  '59011045401': 725,\n  '00007313705': 726,\n  '00378001801': 727,\n  '66993000860': 728,\n  '63323022905': 729,\n  '29336030510': 730,\n  '00006057362': 731,\n  '00048580601': 732,\n  '51079095701': 733,\n  '00023024001': 734,\n  '00075062040': 735,\n  '00338114703': 736,\n  '49999016850': 737,\n  '00054355663': 738,\n  '00555080802': 739,\n  '00517083001': 740,\n  '00049397041': 741,\n  '00264751010': 742,\n  '00023916330': 743,\n  '51079022220': 744,\n  '00121065304': 745,\n  '54092017212': 746,\n  '00472030680': 747,\n  '00067400101': 748,\n  '56184012105': 749,\n  '00002324033': 750,\n  '00168000380': 751,\n  '00121176130': 752,\n  '00006384371': 753,\n  '00469321110': 754,\n  '51079081420': 755,\n  '58016030000': 756,\n  '00703003104': 757,\n  '00066043115': 758,\n  '10019002902': 759,\n  '51079005820': 760,\n  '51079098020': 761,\n  '00186085981': 762,\n  '00049344019': 763,\n  '58980062570': 764,\n  '17478028435': 765,\n  '63323042405': 766,\n  '51079010320': 767,\n  '00087607005': 768,\n  '00115191101': 769,\n  '00409477723': 770,\n  '00074509216': 771,\n  '52604341701': 772,\n  '00186000431': 773,\n  '00168014630': 774,\n  '00363069338': 775,\n  '00689112201': 776,\n  '60505258400': 777,\n  '00603137859': 778,\n  '50242006201': 779,\n  '00048107013': 780,\n  '10019007001': 781,\n  '00071027024': 782,\n  '68094019359': 783,\n  '60793013601': 784,\n  '00008092355': 785,\n  '00517490525': 786,\n  '00006336603': 787,\n  '39822020501': 788,\n  '00054413025': 789,\n  '55390013020': 790,\n  '51079012520': 791,\n  '00026848858': 792,\n  '00338001308': 793,\n  '00089030710': 794,\n  '68094050361': 795,\n  '51079005520': 796,\n  '59911587001': 797,\n  '00054860425': 798,\n  '00074165801': 799,\n  '54569101800': 800,\n  '00517345025': 801,\n  '00517760425': 802,\n  '00074148402': 803,\n  '00054834225': 804,\n  '00075291502': 805,\n  '00054819316': 806,\n  '51079033230': 807,\n  '00517540205': 808,\n  '63323002101': 809,\n  '00085125902': 810,\n  '00009075801': 811,\n  '00005534323': 812,\n  '00074792337': 813,\n  '00904565261': 814,\n  '54868439600': 815,\n  '00904224461': 816,\n  '00068051030': 817,\n  '25010021027': 818,\n  '00078018325': 819,\n  '00591354060': 820,\n  '00026815120': 821,\n  '00078005405': 822,\n  '00409729501': 823,\n  '00003196501': 824,\n  '51672126705': 825,\n  '55566840101': 826,\n  '10019063002': 827,\n  '51079006720': 828,\n  '50242006101': 829,\n  '00281032608': 830,\n  '00258361301': 831,\n  '00597007575': 832,\n  '00168004631': 833,\n  '00074714811': 834,\n  '00074114102': 835,\n  '00074434673': 836,\n  '00555090201': 837,\n  '00074630413': 838,\n  '25208000202': 839,\n  '50580060150': 840,\n  '54569151300': 841,\n  '00009521301': 842,\n  '00074978901': 843,\n  '00378616001': 844,\n  '55513022101': 845,\n  '00904563561': 846,\n  '58177000111': 847,\n  '00053767006': 848,\n  '00904053061': 849,\n  '00172439018': 850,\n  '55390088010': 851,\n  '00002755901': 852,\n  '51079009020': 853,\n  '00087081943': 854,\n  '00168003830': 855,\n  '00182181144': 856,\n  '00074420101': 857,\n  '72140003147': 858,\n  '00338068704': 859,\n  '50419005030': 860,\n  '61553018352': 861,\n  '00008083721': 862,\n  '49884094174': 863,\n  '00409792337': 864,\n  '00703352403': 865,\n  '00456066270': 866,\n  '00641018025': 867,\n  '00469882030': 868,\n  '62584078833': 869,\n  '00223176001': 870,\n  '00173037835': 871,\n  '24208033005': 872,\n  '66582041428': 873,\n  '00008103003': 874,\n  '50111030801': 875,\n  '00904530661': 876,\n  '45802073233': 877,\n  '00904517416': 878,\n  '00006092558': 879,\n  '00173010793': 880,\n  '00173052600': 881,\n  '00182178989': 882,\n  '68084020601': 883,\n  '00015733812': 884,\n  '00517037510': 885,\n  '00185021001': 886,\n  '32909094503': 887,\n  '00731040106': 888,\n  '66479056012': 889,\n  '49281025051': 890,\n  '68084004411': 891,\n  '74300000068': 892,\n  '00299383528': 893,\n  '00004001823': 894,\n  '50383023210': 895,\n  '00247108052': 896,\n  '11098050701': 897,\n  '00338000404': 898,\n  '00002750201': 899,\n  '61570017261': 900,\n  '63323026965': 901,\n  '49281037415': 902,\n  '00713010113': 903,\n  '00904627861': 904,\n  '00173049800': 905,\n  '54569405900': 906,\n  '57866422403': 907,\n  '00597003334': 908,\n  '00078044805': 909,\n  '66689036430': 910,\n  '63323006420': 911,\n  '00168000815': 912,\n  '00409509216': 913,\n  '00002445385': 914,\n  '19810000790': 915,\n  '63323030201': 916,\n  '00169008481': 917,\n  '54569198900': 918,\n  '61113045158': 919,\n  '00173056900': 920,\n  '00074806201': 921,\n  '00998020215': 922,\n  '45802046564': 923,\n  '44087081808': 924,\n  '00781107101': 925,\n  '72140085731': 926,\n  '00517857510': 927,\n  '59746011209': 928,\n  '00173056200': 929,\n  '00536467801': 930,\n  '49884079374': 931,\n  '00074233326': 932,\n  '00004026706': 933,\n  '65597070118': 934,\n  '00085045804': 935,\n  '00013010501': 936,\n  '66435010142': 937,\n  '76329301205': 938,\n  '00002821501': 939,\n  '00088120806': 940,\n  '00045152510': 941,\n  '00409614309': 942,\n  '00641243645': 943,\n  '39822041206': 944,\n  '00409672923': 945,\n  '00006003220': 946,\n  '51672126302': 947,\n  '51079051920': 948,\n  '51285094288': 949,\n  '59439045502': 950,\n  '54396011111': 951,\n  '00904125161': 952,\n  '50458030001': 953,\n  '61314022705': 954,\n  '60793001114': 955,\n  '00078035084': 956,\n  '51079016120': 957,\n  '58406043504': 958,\n  '00168000315': 959,\n  '00054873725': 960,\n  '67159011203': 961,\n  '00025103134': 962,\n  '00074621511': 963,\n  '00006009268': 964,\n  '23360015250': 965,\n  '63459054128': 966,\n  '00641040025': 967,\n  '00002411260': 968,\n  '00206885416': 969,\n  '51079095220': 970,\n  '51079020520': 971,\n  '00641039425': 972,\n  '00074380611': 973,\n  '00469520130': 974,\n  '00078049471': 975,\n  '00781711355': 976,\n  '00472120006': 977,\n  '00074454102': 978,\n  '63323037601': 979,\n  '54092018701': 980,\n  '24208079062': 981,\n  '51079028621': 982,\n  '00555044609': 983,\n  '00088117547': 984,\n  '68387029330': 985,\n  '00456201001': 986,\n  '00064501015': 987,\n  '00409663734': 988,\n  '00496074804': 989,\n  '00472128416': 990,\n  '10939011801': 991,\n  '59762372802': 992,\n  '63323029766': 993,\n  '00074130431': 994,\n  '00245015401': 995,\n  '51079092920': 996,\n  '00173017855': 997,\n  '10019002703': 998,\n  '60258015101': 999,\n  ...},\n 'concept': {'Intubation': 0,\n  'Mechanical Ventilation': 1,\n  'Central Venous Catheterization': 2,\n  'Hemodialysis': 3,\n  'Cardiopulmonary Resuscitation (CPR)': 4,\n  'Tracheostomy': 5,\n  'Blood Transfusion': 6,\n  'Surgical Drain Management': 7,\n  'Parenteral Nutrition': 8,\n  'Enteral Nutrition': 9,\n  'Antibiotics': 10,\n  'Anticoagulants': 11,\n  'Vasopressors': 12,\n  'Diuretics': 13,\n  'Insulin Therapy': 14,\n  'Analgesics': 15,\n  'Sedatives': 16,\n  'Antiarrhythmics': 17,\n  'Antihypertensives': 18,\n  'Steroids': 19,\n  'Complete Blood Count (CBC)': 20,\n  'Blood Chemistry Panel': 21,\n  'Arterial Blood Gases (ABG)': 22,\n  'Echocardiogram': 23,\n  'Electrocardiogram (ECG)': 24,\n  'Chest X-Ray': 25,\n  'CT Scan': 26,\n  'MRI': 27,\n  'Ultrasound': 28,\n  'Microbiological Cultures': 29,\n  'Age': 30,\n  'Gender': 31,\n  'Medical History': 32,\n  'Surgical History': 33,\n  'Body Mass Index (BMI)': 34,\n  'Sepsis': 35,\n  'Acute Respiratory Distress Syndrome (ARDS)': 36,\n  'Myocardial Infarction': 37,\n  'Stroke': 38,\n  'Diabetes Mellitus': 39,\n  'Chronic Kidney Disease': 40,\n  'Liver Cirrhosis': 41,\n  'Heart Failure': 42,\n  'Pneumonia': 43,\n  'COPD': 44,\n  'Hypertension': 45,\n  'Atrial Fibrillation': 46,\n  'Deep Vein Thrombosis': 47,\n  'Pulmonary Embolism': 48,\n  'Gastrointestinal Bleed': 49,\n  'Electronic Health Records (EHR)': 50,\n  'Clinical Decision Support Systems': 51,\n  'Predictive Modeling': 52,\n  'Machine Learning in Healthcare': 53,\n  'Natural Language Processing (NLP)': 54,\n  'Data Privacy and Security': 55,\n  'Health Informatics': 56,\n  'Big Data Analytics': 57,\n  'Patient Data Standardization': 58,\n  'Pain Management': 59,\n  'Nutrition Management': 60,\n  'Infection Control': 61,\n  'Pressure Ulcer Prevention': 62,\n  'Rehabilitation Services': 63,\n  'Palliative Care': 64,\n  'Patient Education': 65,\n  'Discharge Planning': 66,\n  'Mental Health Care': 67,\n  'Clinical Guidelines': 68,\n  'Patient Safety': 69,\n  'Medication Errors': 70,\n  'Infection Rates': 71,\n  'Clinical Audit': 72,\n  'Nursing Assessments': 73,\n  'Physical Therapy': 74,\n  'Respiratory Therapy': 75,\n  'Dialysis Management': 76,\n  'Wound Care Nursing': 77,\n  'Critical Care Nursing': 78,\n  'Oncology': 79,\n  'Nephrology': 80,\n  'Cardiology': 81,\n  'Neurology': 82,\n  'Infectious Diseases': 83,\n  'Endocrinology': 84,\n  'Gastroenterology': 85,\n  'Pulmonology': 86,\n  'Informed Consent': 87,\n  'Patient Confidentiality': 88,\n  'Ethical Dilemmas in Healthcare': 89,\n  'Telemedicine': 90,\n  'Wearable Health Devices': 91,\n  'Genomic Medicine': 92,\n  'Personalized Medicine': 93,\n  'AI in Diagnostic Imaging': 94,\n  'Disease Surveillance': 95,\n  'Health Disparities': 96,\n  'Epidemiological Studies': 97,\n  'Public Health Policy': 98,\n  'Social Determinants of Health': 99}}"
     },
     "execution_count": 69,
     "metadata": {},
     "output_type": "execute_result"
    }
   ],
   "source": [
    "entity_mapping"
   ],
   "metadata": {
    "collapsed": false,
    "ExecuteTime": {
     "end_time": "2024-01-27T08:09:05.877938700Z",
     "start_time": "2024-01-27T08:09:05.735377600Z"
    }
   }
  },
  {
   "cell_type": "code",
   "execution_count": 50,
   "outputs": [
    {
     "data": {
      "text/plain": "'75481'"
     },
     "execution_count": 50,
     "metadata": {},
     "output_type": "execute_result"
    }
   ],
   "source": [
    "diag_dict[3521]"
   ],
   "metadata": {
    "collapsed": false,
    "pycharm": {
     "name": "#%%\n"
    },
    "ExecuteTime": {
     "end_time": "2024-01-27T06:39:40.534100400Z",
     "start_time": "2024-01-27T06:39:40.454067600Z"
    }
   }
  },
  {
   "cell_type": "markdown",
   "source": [
    "5899 - 1983 - Secondary malignant neoplasm of brain and spinal cord\n",
    "1397 - 3485 - Cerebral edema\n",
    "6358 - V1005 - Personal history of malignant neoplasm of large intestine\n",
    "3521 - V5865 - Long-term (current) use of steroids"
   ],
   "metadata": {
    "collapsed": false,
    "pycharm": {
     "name": "#%% md\n"
    }
   }
  },
  {
   "cell_type": "code",
   "execution_count": null,
   "outputs": [],
   "source": [
    "plt.figure(figsize=(20,6))\n",
    "fig, ax = plt.subplots(1, 2)\n",
    "\n",
    "data = norm.rvs(size=100,loc=0,scale=1)\n",
    "\n",
    "x = np.linspace(-1, 3, 1000)\n",
    "ax[0].plot(x, f.pdf(x, 10, 10),\n",
    "       'r-', lw=5, alpha=0.6, label='F(10, 10)')\n",
    "ax[0].plot(x, norm.pdf(x, 0, 1),\n",
    "       'g-', lw=5, alpha=0.6, label='N(0,1)')\n",
    "ax[0].legend(loc=\"upper right\", fontsize=\"small\")\n",
    "ax[1].plot(x, f.pdf(x, 1000, 1000),\n",
    "       'r-', lw=5, alpha=0.6, label='F(1000, 1000)')\n",
    "ax[1].plot(x, norm.pdf(x, 0, 1),\n",
    "       'g-', lw=5, alpha=0.6, label='N(0,1)')\n",
    "ax[1].legend(loc=\"upper right\", fontsize=\"x-small\")\n",
    "plt.savefig(\"./visualizations/norm_vs_F.jpg\", dpi=600)"
   ],
   "metadata": {
    "collapsed": false
   }
  },
  {
   "cell_type": "code",
   "execution_count": null,
   "outputs": [],
   "source": [
    "from matplotlib import pyplot as plt\n",
    "from scipy.stats import norm, f\n",
    "import numpy as np"
   ],
   "metadata": {
    "collapsed": false
   }
  }
 ],
 "metadata": {
  "kernelspec": {
   "display_name": "Python 3",
   "language": "python",
   "name": "python3"
  },
  "language_info": {
   "codemirror_mode": {
    "name": "ipython",
    "version": 2
   },
   "file_extension": ".py",
   "mimetype": "text/x-python",
   "name": "python",
   "nbconvert_exporter": "python",
   "pygments_lexer": "ipython2",
   "version": "2.7.6"
  }
 },
 "nbformat": 4,
 "nbformat_minor": 0
}
